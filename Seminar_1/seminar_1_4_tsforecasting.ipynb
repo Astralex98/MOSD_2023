{
  "cells": [
    {
      "cell_type": "markdown",
      "metadata": {
        "id": "j1Lj1IFZor25"
      },
      "source": [
        "# Time series forecasting"
      ],
      "id": "j1Lj1IFZor25"
    },
    {
      "cell_type": "markdown",
      "metadata": {
        "id": "T1T8wkVmoyFN"
      },
      "source": [
        "## Dependencies"
      ],
      "id": "T1T8wkVmoyFN"
    },
    {
      "cell_type": "code",
      "execution_count": null,
      "metadata": {
        "colab": {
          "base_uri": "https://localhost:8080/",
          "height": 1000
        },
        "id": "feb70bd2-22a9-4819-91b2-ae1b5ad69d62",
        "outputId": "43a108dc-b00e-4545-b1fe-3fbb6b16f61c"
      },
      "outputs": [
        {
          "output_type": "stream",
          "name": "stdout",
          "text": [
            "Looking in indexes: https://pypi.org/simple, https://us-python.pkg.dev/colab-wheels/public/simple/\n",
            "Collecting numpy==1.20\n",
            "  Downloading numpy-1.20.0-cp37-cp37m-manylinux2010_x86_64.whl (15.3 MB)\n",
            "\u001b[K     |████████████████████████████████| 15.3 MB 5.1 MB/s \n",
            "\u001b[?25hInstalling collected packages: numpy\n",
            "  Attempting uninstall: numpy\n",
            "    Found existing installation: numpy 1.21.6\n",
            "    Uninstalling numpy-1.21.6:\n",
            "      Successfully uninstalled numpy-1.21.6\n",
            "\u001b[31mERROR: pip's dependency resolver does not currently take into account all the packages that are installed. This behaviour is the source of the following dependency conflicts.\n",
            "xarray-einstats 0.2.2 requires numpy>=1.21, but you have numpy 1.20.0 which is incompatible.\n",
            "cmdstanpy 1.0.8 requires numpy>=1.21, but you have numpy 1.20.0 which is incompatible.\u001b[0m\n",
            "Successfully installed numpy-1.20.0\n"
          ]
        },
        {
          "output_type": "display_data",
          "data": {
            "application/vnd.colab-display-data+json": {
              "pip_warning": {
                "packages": [
                  "numpy"
                ]
              }
            }
          },
          "metadata": {}
        },
        {
          "output_type": "stream",
          "name": "stdout",
          "text": [
            "Looking in indexes: https://pypi.org/simple, https://us-python.pkg.dev/colab-wheels/public/simple/\n",
            "Requirement already satisfied: numba in /usr/local/lib/python3.7/dist-packages (0.56.3)\n",
            "Requirement already satisfied: importlib-metadata in /usr/local/lib/python3.7/dist-packages (from numba) (4.13.0)\n",
            "Requirement already satisfied: setuptools in /usr/local/lib/python3.7/dist-packages (from numba) (57.4.0)\n",
            "Requirement already satisfied: numpy<1.24,>=1.18 in /usr/local/lib/python3.7/dist-packages (from numba) (1.20.0)\n",
            "Requirement already satisfied: llvmlite<0.40,>=0.39.0dev0 in /usr/local/lib/python3.7/dist-packages (from numba) (0.39.1)\n",
            "Requirement already satisfied: typing-extensions>=3.6.4 in /usr/local/lib/python3.7/dist-packages (from importlib-metadata->numba) (4.1.1)\n",
            "Requirement already satisfied: zipp>=0.5 in /usr/local/lib/python3.7/dist-packages (from importlib-metadata->numba) (3.10.0)\n",
            "Looking in indexes: https://pypi.org/simple, https://us-python.pkg.dev/colab-wheels/public/simple/\n",
            "Collecting pystan==2.19.1.1\n",
            "  Downloading pystan-2.19.1.1-cp37-cp37m-manylinux1_x86_64.whl (67.3 MB)\n",
            "\u001b[K     |████████████████████████████████| 67.3 MB 77 kB/s \n",
            "\u001b[?25hRequirement already satisfied: Cython!=0.25.1,>=0.22 in /usr/local/lib/python3.7/dist-packages (from pystan==2.19.1.1) (0.29.32)\n",
            "Requirement already satisfied: numpy>=1.7 in /usr/local/lib/python3.7/dist-packages (from pystan==2.19.1.1) (1.20.0)\n",
            "Installing collected packages: pystan\n",
            "  Attempting uninstall: pystan\n",
            "    Found existing installation: pystan 3.3.0\n",
            "    Uninstalling pystan-3.3.0:\n",
            "      Successfully uninstalled pystan-3.3.0\n",
            "Successfully installed pystan-2.19.1.1\n",
            "Looking in indexes: https://pypi.org/simple, https://us-python.pkg.dev/colab-wheels/public/simple/\n",
            "Requirement already satisfied: prophet in /usr/local/lib/python3.7/dist-packages (1.1.1)\n",
            "Requirement already satisfied: setuptools-git>=1.2 in /usr/local/lib/python3.7/dist-packages (from prophet) (1.2)\n",
            "Requirement already satisfied: numpy>=1.15.4 in /usr/local/lib/python3.7/dist-packages (from prophet) (1.20.0)\n",
            "Requirement already satisfied: setuptools>=42 in /usr/local/lib/python3.7/dist-packages (from prophet) (57.4.0)\n",
            "Requirement already satisfied: python-dateutil>=2.8.0 in /usr/local/lib/python3.7/dist-packages (from prophet) (2.8.2)\n",
            "Requirement already satisfied: matplotlib>=2.0.0 in /usr/local/lib/python3.7/dist-packages (from prophet) (3.2.2)\n",
            "Requirement already satisfied: convertdate>=2.1.2 in /usr/local/lib/python3.7/dist-packages (from prophet) (2.4.0)\n",
            "Requirement already satisfied: LunarCalendar>=0.0.9 in /usr/local/lib/python3.7/dist-packages (from prophet) (0.0.9)\n",
            "Requirement already satisfied: tqdm>=4.36.1 in /usr/local/lib/python3.7/dist-packages (from prophet) (4.64.1)\n",
            "Requirement already satisfied: holidays>=0.14.2 in /usr/local/lib/python3.7/dist-packages (from prophet) (0.16)\n",
            "Requirement already satisfied: pandas>=1.0.4 in /usr/local/lib/python3.7/dist-packages (from prophet) (1.3.5)\n",
            "Requirement already satisfied: cmdstanpy>=1.0.4 in /usr/local/lib/python3.7/dist-packages (from prophet) (1.0.8)\n",
            "Requirement already satisfied: wheel>=0.37.0 in /usr/local/lib/python3.7/dist-packages (from prophet) (0.37.1)\n",
            "Collecting numpy>=1.15.4\n",
            "  Downloading numpy-1.21.6-cp37-cp37m-manylinux_2_12_x86_64.manylinux2010_x86_64.whl (15.7 MB)\n",
            "\u001b[K     |████████████████████████████████| 15.7 MB 5.2 MB/s \n",
            "\u001b[?25hRequirement already satisfied: pymeeus<=1,>=0.3.13 in /usr/local/lib/python3.7/dist-packages (from convertdate>=2.1.2->prophet) (0.5.11)\n",
            "Requirement already satisfied: korean-lunar-calendar in /usr/local/lib/python3.7/dist-packages (from holidays>=0.14.2->prophet) (0.3.1)\n",
            "Requirement already satisfied: hijri-converter in /usr/local/lib/python3.7/dist-packages (from holidays>=0.14.2->prophet) (2.2.4)\n",
            "Requirement already satisfied: ephem>=3.7.5.3 in /usr/local/lib/python3.7/dist-packages (from LunarCalendar>=0.0.9->prophet) (4.1.3)\n",
            "Requirement already satisfied: pytz in /usr/local/lib/python3.7/dist-packages (from LunarCalendar>=0.0.9->prophet) (2022.5)\n",
            "Requirement already satisfied: kiwisolver>=1.0.1 in /usr/local/lib/python3.7/dist-packages (from matplotlib>=2.0.0->prophet) (1.4.4)\n",
            "Requirement already satisfied: pyparsing!=2.0.4,!=2.1.2,!=2.1.6,>=2.0.1 in /usr/local/lib/python3.7/dist-packages (from matplotlib>=2.0.0->prophet) (3.0.9)\n",
            "Requirement already satisfied: cycler>=0.10 in /usr/local/lib/python3.7/dist-packages (from matplotlib>=2.0.0->prophet) (0.11.0)\n",
            "Requirement already satisfied: typing-extensions in /usr/local/lib/python3.7/dist-packages (from kiwisolver>=1.0.1->matplotlib>=2.0.0->prophet) (4.1.1)\n",
            "Requirement already satisfied: six>=1.5 in /usr/local/lib/python3.7/dist-packages (from python-dateutil>=2.8.0->prophet) (1.15.0)\n",
            "Installing collected packages: numpy\n",
            "  Attempting uninstall: numpy\n",
            "    Found existing installation: numpy 1.20.0\n",
            "    Uninstalling numpy-1.20.0:\n",
            "      Successfully uninstalled numpy-1.20.0\n",
            "Successfully installed numpy-1.21.6\n"
          ]
        },
        {
          "output_type": "display_data",
          "data": {
            "application/vnd.colab-display-data+json": {
              "pip_warning": {
                "packages": [
                  "numpy"
                ]
              }
            }
          },
          "metadata": {}
        },
        {
          "output_type": "stream",
          "name": "stdout",
          "text": [
            "Looking in indexes: https://pypi.org/simple, https://us-python.pkg.dev/colab-wheels/public/simple/\n",
            "Collecting tsfresh\n",
            "  Downloading tsfresh-0.19.0-py2.py3-none-any.whl (97 kB)\n",
            "\u001b[K     |████████████████████████████████| 97 kB 740 kB/s \n",
            "\u001b[?25hRequirement already satisfied: dask[dataframe]>=2.9.0 in /usr/local/lib/python3.7/dist-packages (from tsfresh) (2022.2.0)\n",
            "Requirement already satisfied: cloudpickle in /usr/local/lib/python3.7/dist-packages (from tsfresh) (1.5.0)\n",
            "Collecting stumpy>=1.7.2\n",
            "  Downloading stumpy-1.11.1-py3-none-any.whl (136 kB)\n",
            "\u001b[K     |████████████████████████████████| 136 kB 31.3 MB/s \n",
            "\u001b[?25hRequirement already satisfied: patsy>=0.4.1 in /usr/local/lib/python3.7/dist-packages (from tsfresh) (0.5.3)\n",
            "Requirement already satisfied: scikit-learn>=0.22.0 in /usr/local/lib/python3.7/dist-packages (from tsfresh) (1.0.2)\n",
            "Requirement already satisfied: pandas>=0.25.0 in /usr/local/lib/python3.7/dist-packages (from tsfresh) (1.3.5)\n",
            "Requirement already satisfied: scipy>=1.2.0 in /usr/local/lib/python3.7/dist-packages (from tsfresh) (1.7.3)\n",
            "Requirement already satisfied: distributed>=2.11.0 in /usr/local/lib/python3.7/dist-packages (from tsfresh) (2022.2.0)\n",
            "Requirement already satisfied: requests>=2.9.1 in /usr/local/lib/python3.7/dist-packages (from tsfresh) (2.23.0)\n",
            "Collecting statsmodels>=0.13\n",
            "  Downloading statsmodels-0.13.2-cp37-cp37m-manylinux_2_17_x86_64.manylinux2014_x86_64.whl (9.8 MB)\n",
            "\u001b[K     |████████████████████████████████| 9.8 MB 55.4 MB/s \n",
            "\u001b[?25hRequirement already satisfied: numpy>=1.15.1 in /usr/local/lib/python3.7/dist-packages (from tsfresh) (1.21.6)\n",
            "Requirement already satisfied: tqdm>=4.10.0 in /usr/local/lib/python3.7/dist-packages (from tsfresh) (4.64.1)\n",
            "Collecting matrixprofile<2.0.0,>=1.1.10\n",
            "  Downloading matrixprofile-1.1.10-cp37-cp37m-manylinux2010_x86_64.whl (1.1 MB)\n",
            "\u001b[K     |████████████████████████████████| 1.1 MB 54.4 MB/s \n",
            "\u001b[?25hRequirement already satisfied: partd>=0.3.10 in /usr/local/lib/python3.7/dist-packages (from dask[dataframe]>=2.9.0->tsfresh) (1.3.0)\n",
            "Requirement already satisfied: toolz>=0.8.2 in /usr/local/lib/python3.7/dist-packages (from dask[dataframe]>=2.9.0->tsfresh) (0.12.0)\n",
            "Requirement already satisfied: pyyaml>=5.3.1 in /usr/local/lib/python3.7/dist-packages (from dask[dataframe]>=2.9.0->tsfresh) (6.0)\n",
            "Requirement already satisfied: packaging>=20.0 in /usr/local/lib/python3.7/dist-packages (from dask[dataframe]>=2.9.0->tsfresh) (21.3)\n",
            "Requirement already satisfied: fsspec>=0.6.0 in /usr/local/lib/python3.7/dist-packages (from dask[dataframe]>=2.9.0->tsfresh) (2022.10.0)\n",
            "Requirement already satisfied: jinja2 in /usr/local/lib/python3.7/dist-packages (from distributed>=2.11.0->tsfresh) (2.11.3)\n",
            "Requirement already satisfied: tblib>=1.6.0 in /usr/local/lib/python3.7/dist-packages (from distributed>=2.11.0->tsfresh) (1.7.0)\n",
            "Requirement already satisfied: click>=6.6 in /usr/local/lib/python3.7/dist-packages (from distributed>=2.11.0->tsfresh) (7.1.2)\n",
            "Requirement already satisfied: tornado>=5 in /usr/local/lib/python3.7/dist-packages (from distributed>=2.11.0->tsfresh) (5.1.1)\n",
            "Requirement already satisfied: psutil>=5.0 in /usr/local/lib/python3.7/dist-packages (from distributed>=2.11.0->tsfresh) (5.4.8)\n",
            "Requirement already satisfied: setuptools in /usr/local/lib/python3.7/dist-packages (from distributed>=2.11.0->tsfresh) (57.4.0)\n",
            "Requirement already satisfied: zict>=0.1.3 in /usr/local/lib/python3.7/dist-packages (from distributed>=2.11.0->tsfresh) (2.2.0)\n",
            "Requirement already satisfied: sortedcontainers!=2.0.0,!=2.0.1 in /usr/local/lib/python3.7/dist-packages (from distributed>=2.11.0->tsfresh) (2.4.0)\n",
            "Requirement already satisfied: msgpack>=0.6.0 in /usr/local/lib/python3.7/dist-packages (from distributed>=2.11.0->tsfresh) (1.0.4)\n",
            "Collecting protobuf==3.11.2\n",
            "  Downloading protobuf-3.11.2-cp37-cp37m-manylinux1_x86_64.whl (1.3 MB)\n",
            "\u001b[K     |████████████████████████████████| 1.3 MB 51.4 MB/s \n",
            "\u001b[?25hRequirement already satisfied: matplotlib>=3.0.3 in /usr/local/lib/python3.7/dist-packages (from matrixprofile<2.0.0,>=1.1.10->tsfresh) (3.2.2)\n",
            "Requirement already satisfied: six>=1.9 in /usr/local/lib/python3.7/dist-packages (from protobuf==3.11.2->matrixprofile<2.0.0,>=1.1.10->tsfresh) (1.15.0)\n",
            "Requirement already satisfied: cycler>=0.10 in /usr/local/lib/python3.7/dist-packages (from matplotlib>=3.0.3->matrixprofile<2.0.0,>=1.1.10->tsfresh) (0.11.0)\n",
            "Requirement already satisfied: kiwisolver>=1.0.1 in /usr/local/lib/python3.7/dist-packages (from matplotlib>=3.0.3->matrixprofile<2.0.0,>=1.1.10->tsfresh) (1.4.4)\n",
            "Requirement already satisfied: python-dateutil>=2.1 in /usr/local/lib/python3.7/dist-packages (from matplotlib>=3.0.3->matrixprofile<2.0.0,>=1.1.10->tsfresh) (2.8.2)\n",
            "Requirement already satisfied: pyparsing!=2.0.4,!=2.1.2,!=2.1.6,>=2.0.1 in /usr/local/lib/python3.7/dist-packages (from matplotlib>=3.0.3->matrixprofile<2.0.0,>=1.1.10->tsfresh) (3.0.9)\n",
            "Requirement already satisfied: typing-extensions in /usr/local/lib/python3.7/dist-packages (from kiwisolver>=1.0.1->matplotlib>=3.0.3->matrixprofile<2.0.0,>=1.1.10->tsfresh) (4.1.1)\n",
            "Requirement already satisfied: pytz>=2017.3 in /usr/local/lib/python3.7/dist-packages (from pandas>=0.25.0->tsfresh) (2022.5)\n",
            "Requirement already satisfied: locket in /usr/local/lib/python3.7/dist-packages (from partd>=0.3.10->dask[dataframe]>=2.9.0->tsfresh) (1.0.0)\n",
            "Requirement already satisfied: idna<3,>=2.5 in /usr/local/lib/python3.7/dist-packages (from requests>=2.9.1->tsfresh) (2.10)\n",
            "Requirement already satisfied: certifi>=2017.4.17 in /usr/local/lib/python3.7/dist-packages (from requests>=2.9.1->tsfresh) (2022.9.24)\n",
            "Requirement already satisfied: urllib3!=1.25.0,!=1.25.1,<1.26,>=1.21.1 in /usr/local/lib/python3.7/dist-packages (from requests>=2.9.1->tsfresh) (1.24.3)\n",
            "Requirement already satisfied: chardet<4,>=3.0.2 in /usr/local/lib/python3.7/dist-packages (from requests>=2.9.1->tsfresh) (3.0.4)\n",
            "Requirement already satisfied: joblib>=0.11 in /usr/local/lib/python3.7/dist-packages (from scikit-learn>=0.22.0->tsfresh) (1.2.0)\n",
            "Requirement already satisfied: threadpoolctl>=2.0.0 in /usr/local/lib/python3.7/dist-packages (from scikit-learn>=0.22.0->tsfresh) (3.1.0)\n",
            "Requirement already satisfied: numba>=0.54 in /usr/local/lib/python3.7/dist-packages (from stumpy>=1.7.2->tsfresh) (0.56.3)\n",
            "Requirement already satisfied: importlib-metadata in /usr/local/lib/python3.7/dist-packages (from numba>=0.54->stumpy>=1.7.2->tsfresh) (4.13.0)\n",
            "Requirement already satisfied: llvmlite<0.40,>=0.39.0dev0 in /usr/local/lib/python3.7/dist-packages (from numba>=0.54->stumpy>=1.7.2->tsfresh) (0.39.1)\n",
            "Requirement already satisfied: heapdict in /usr/local/lib/python3.7/dist-packages (from zict>=0.1.3->distributed>=2.11.0->tsfresh) (1.0.1)\n",
            "Requirement already satisfied: zipp>=0.5 in /usr/local/lib/python3.7/dist-packages (from importlib-metadata->numba>=0.54->stumpy>=1.7.2->tsfresh) (3.10.0)\n",
            "Requirement already satisfied: MarkupSafe>=0.23 in /usr/local/lib/python3.7/dist-packages (from jinja2->distributed>=2.11.0->tsfresh) (2.0.1)\n",
            "Installing collected packages: protobuf, stumpy, statsmodels, matrixprofile, tsfresh\n",
            "  Attempting uninstall: protobuf\n",
            "    Found existing installation: protobuf 3.17.3\n",
            "    Uninstalling protobuf-3.17.3:\n",
            "      Successfully uninstalled protobuf-3.17.3\n",
            "  Attempting uninstall: statsmodels\n",
            "    Found existing installation: statsmodels 0.12.2\n",
            "    Uninstalling statsmodels-0.12.2:\n",
            "      Successfully uninstalled statsmodels-0.12.2\n",
            "\u001b[31mERROR: pip's dependency resolver does not currently take into account all the packages that are installed. This behaviour is the source of the following dependency conflicts.\n",
            "tensorflow-metadata 1.10.0 requires protobuf<4,>=3.13, but you have protobuf 3.11.2 which is incompatible.\n",
            "tensorflow-datasets 4.6.0 requires protobuf>=3.12.2, but you have protobuf 3.11.2 which is incompatible.\n",
            "googleapis-common-protos 1.56.4 requires protobuf<5.0.0dev,>=3.15.0, but you have protobuf 3.11.2 which is incompatible.\n",
            "google-api-core 1.31.6 requires protobuf<4.0.0dev,>=3.12.0; python_version > \"3\", but you have protobuf 3.11.2 which is incompatible.\u001b[0m\n",
            "Successfully installed matrixprofile-1.1.10 protobuf-3.11.2 statsmodels-0.13.2 stumpy-1.11.1 tsfresh-0.19.0\n"
          ]
        },
        {
          "output_type": "display_data",
          "data": {
            "application/vnd.colab-display-data+json": {
              "pip_warning": {
                "packages": [
                  "google"
                ]
              }
            }
          },
          "metadata": {}
        },
        {
          "output_type": "stream",
          "name": "stdout",
          "text": [
            "Looking in indexes: https://pypi.org/simple, https://us-python.pkg.dev/colab-wheels/public/simple/\n",
            "Collecting darts\n",
            "  Downloading darts-0.22.0-py3-none-any.whl (451 kB)\n",
            "\u001b[K     |████████████████████████████████| 451 kB 4.6 MB/s \n",
            "\u001b[?25hRequirement already satisfied: prophet>=1.1.1 in /usr/local/lib/python3.7/dist-packages (from darts) (1.1.1)\n",
            "Requirement already satisfied: lightgbm>=2.2.3 in /usr/local/lib/python3.7/dist-packages (from darts) (2.2.3)\n",
            "Collecting tbats>=1.1.0\n",
            "  Downloading tbats-1.1.1-py3-none-any.whl (43 kB)\n",
            "\u001b[K     |████████████████████████████████| 43 kB 2.3 MB/s \n",
            "\u001b[?25hCollecting pytorch-lightning>=1.5.0\n",
            "  Downloading pytorch_lightning-1.8.0-py3-none-any.whl (795 kB)\n",
            "\u001b[K     |████████████████████████████████| 795 kB 69.0 MB/s \n",
            "\u001b[?25hRequirement already satisfied: joblib>=0.16.0 in /usr/local/lib/python3.7/dist-packages (from darts) (1.2.0)\n",
            "Requirement already satisfied: numpy>=1.19.0 in /usr/local/lib/python3.7/dist-packages (from darts) (1.21.6)\n",
            "Collecting nfoursid>=1.0.0\n",
            "  Downloading nfoursid-1.0.1-py3-none-any.whl (16 kB)\n",
            "Collecting matplotlib>=3.3.0\n",
            "  Downloading matplotlib-3.5.3-cp37-cp37m-manylinux_2_5_x86_64.manylinux1_x86_64.whl (11.2 MB)\n",
            "\u001b[K     |████████████████████████████████| 11.2 MB 48.2 MB/s \n",
            "\u001b[?25hCollecting catboost>=1.0.6\n",
            "  Downloading catboost-1.1.1-cp37-none-manylinux1_x86_64.whl (76.6 MB)\n",
            "\u001b[K     |████████████████████████████████| 76.6 MB 1.2 MB/s \n",
            "\u001b[?25hCollecting statsforecast>=1.0.0\n",
            "  Downloading statsforecast-1.2.0-py3-none-any.whl (78 kB)\n",
            "\u001b[K     |████████████████████████████████| 78 kB 7.1 MB/s \n",
            "\u001b[?25hCollecting pmdarima>=1.8.0\n",
            "  Downloading pmdarima-2.0.1-cp37-cp37m-manylinux_2_17_x86_64.manylinux2014_x86_64.manylinux_2_28_x86_64.whl (1.8 MB)\n",
            "\u001b[K     |████████████████████████████████| 1.8 MB 45.0 MB/s \n",
            "\u001b[?25hRequirement already satisfied: scipy>=1.3.2 in /usr/local/lib/python3.7/dist-packages (from darts) (1.7.3)\n",
            "Requirement already satisfied: requests>=2.22.0 in /usr/local/lib/python3.7/dist-packages (from darts) (2.23.0)\n",
            "Requirement already satisfied: pandas>=1.0.5 in /usr/local/lib/python3.7/dist-packages (from darts) (1.3.5)\n",
            "Requirement already satisfied: torch>=1.8.0 in /usr/local/lib/python3.7/dist-packages (from darts) (1.12.1+cu113)\n",
            "Requirement already satisfied: tqdm>=4.60.0 in /usr/local/lib/python3.7/dist-packages (from darts) (4.64.1)\n",
            "Requirement already satisfied: holidays>=0.11.1 in /usr/local/lib/python3.7/dist-packages (from darts) (0.16)\n",
            "Requirement already satisfied: ipython>=5.0.0 in /usr/local/lib/python3.7/dist-packages (from darts) (7.9.0)\n",
            "Requirement already satisfied: scikit-learn>=1.0.1 in /usr/local/lib/python3.7/dist-packages (from darts) (1.0.2)\n",
            "Collecting shap>=0.40.0\n",
            "  Downloading shap-0.41.0-cp37-cp37m-manylinux_2_12_x86_64.manylinux2010_x86_64.whl (569 kB)\n",
            "\u001b[K     |████████████████████████████████| 569 kB 58.4 MB/s \n",
            "\u001b[?25hRequirement already satisfied: xarray>=0.17.0 in /usr/local/lib/python3.7/dist-packages (from darts) (0.20.2)\n",
            "Requirement already satisfied: statsmodels>=0.13.0 in /usr/local/lib/python3.7/dist-packages (from darts) (0.13.2)\n",
            "Requirement already satisfied: six in /usr/local/lib/python3.7/dist-packages (from catboost>=1.0.6->darts) (1.15.0)\n",
            "Requirement already satisfied: graphviz in /usr/local/lib/python3.7/dist-packages (from catboost>=1.0.6->darts) (0.10.1)\n",
            "Requirement already satisfied: plotly in /usr/local/lib/python3.7/dist-packages (from catboost>=1.0.6->darts) (5.5.0)\n",
            "Requirement already satisfied: python-dateutil in /usr/local/lib/python3.7/dist-packages (from holidays>=0.11.1->darts) (2.8.2)\n",
            "Requirement already satisfied: convertdate>=2.3.0 in /usr/local/lib/python3.7/dist-packages (from holidays>=0.11.1->darts) (2.4.0)\n",
            "Requirement already satisfied: hijri-converter in /usr/local/lib/python3.7/dist-packages (from holidays>=0.11.1->darts) (2.2.4)\n",
            "Requirement already satisfied: korean-lunar-calendar in /usr/local/lib/python3.7/dist-packages (from holidays>=0.11.1->darts) (0.3.1)\n",
            "Requirement already satisfied: pymeeus<=1,>=0.3.13 in /usr/local/lib/python3.7/dist-packages (from convertdate>=2.3.0->holidays>=0.11.1->darts) (0.5.11)\n",
            "Requirement already satisfied: traitlets>=4.2 in /usr/local/lib/python3.7/dist-packages (from ipython>=5.0.0->darts) (5.1.1)\n",
            "Requirement already satisfied: backcall in /usr/local/lib/python3.7/dist-packages (from ipython>=5.0.0->darts) (0.2.0)\n",
            "Requirement already satisfied: pexpect in /usr/local/lib/python3.7/dist-packages (from ipython>=5.0.0->darts) (4.8.0)\n",
            "Requirement already satisfied: pygments in /usr/local/lib/python3.7/dist-packages (from ipython>=5.0.0->darts) (2.6.1)\n",
            "Requirement already satisfied: decorator in /usr/local/lib/python3.7/dist-packages (from ipython>=5.0.0->darts) (4.4.2)\n",
            "Requirement already satisfied: prompt-toolkit<2.1.0,>=2.0.0 in /usr/local/lib/python3.7/dist-packages (from ipython>=5.0.0->darts) (2.0.10)\n",
            "Collecting jedi>=0.10\n",
            "  Downloading jedi-0.18.1-py2.py3-none-any.whl (1.6 MB)\n",
            "\u001b[K     |████████████████████████████████| 1.6 MB 49.9 MB/s \n",
            "\u001b[?25hRequirement already satisfied: pickleshare in /usr/local/lib/python3.7/dist-packages (from ipython>=5.0.0->darts) (0.7.5)\n",
            "Requirement already satisfied: setuptools>=18.5 in /usr/local/lib/python3.7/dist-packages (from ipython>=5.0.0->darts) (57.4.0)\n",
            "Requirement already satisfied: parso<0.9.0,>=0.8.0 in /usr/local/lib/python3.7/dist-packages (from jedi>=0.10->ipython>=5.0.0->darts) (0.8.3)\n",
            "Collecting fonttools>=4.22.0\n",
            "  Downloading fonttools-4.38.0-py3-none-any.whl (965 kB)\n",
            "\u001b[K     |████████████████████████████████| 965 kB 57.6 MB/s \n",
            "\u001b[?25hRequirement already satisfied: packaging>=20.0 in /usr/local/lib/python3.7/dist-packages (from matplotlib>=3.3.0->darts) (21.3)\n",
            "Requirement already satisfied: kiwisolver>=1.0.1 in /usr/local/lib/python3.7/dist-packages (from matplotlib>=3.3.0->darts) (1.4.4)\n",
            "Requirement already satisfied: cycler>=0.10 in /usr/local/lib/python3.7/dist-packages (from matplotlib>=3.3.0->darts) (0.11.0)\n",
            "Requirement already satisfied: pillow>=6.2.0 in /usr/local/lib/python3.7/dist-packages (from matplotlib>=3.3.0->darts) (7.1.2)\n",
            "Requirement already satisfied: pyparsing>=2.2.1 in /usr/local/lib/python3.7/dist-packages (from matplotlib>=3.3.0->darts) (3.0.9)\n",
            "Requirement already satisfied: typing-extensions in /usr/local/lib/python3.7/dist-packages (from kiwisolver>=1.0.1->matplotlib>=3.3.0->darts) (4.1.1)\n",
            "Requirement already satisfied: pytz>=2017.3 in /usr/local/lib/python3.7/dist-packages (from pandas>=1.0.5->darts) (2022.5)\n",
            "Requirement already satisfied: Cython!=0.29.18,!=0.29.31,>=0.29 in /usr/local/lib/python3.7/dist-packages (from pmdarima>=1.8.0->darts) (0.29.32)\n",
            "Requirement already satisfied: urllib3 in /usr/local/lib/python3.7/dist-packages (from pmdarima>=1.8.0->darts) (1.24.3)\n",
            "Requirement already satisfied: wcwidth in /usr/local/lib/python3.7/dist-packages (from prompt-toolkit<2.1.0,>=2.0.0->ipython>=5.0.0->darts) (0.2.5)\n",
            "Requirement already satisfied: LunarCalendar>=0.0.9 in /usr/local/lib/python3.7/dist-packages (from prophet>=1.1.1->darts) (0.0.9)\n",
            "Requirement already satisfied: wheel>=0.37.0 in /usr/local/lib/python3.7/dist-packages (from prophet>=1.1.1->darts) (0.37.1)\n",
            "Requirement already satisfied: cmdstanpy>=1.0.4 in /usr/local/lib/python3.7/dist-packages (from prophet>=1.1.1->darts) (1.0.8)\n",
            "Requirement already satisfied: setuptools-git>=1.2 in /usr/local/lib/python3.7/dist-packages (from prophet>=1.1.1->darts) (1.2)\n",
            "Requirement already satisfied: ephem>=3.7.5.3 in /usr/local/lib/python3.7/dist-packages (from LunarCalendar>=0.0.9->prophet>=1.1.1->darts) (4.1.3)\n",
            "Requirement already satisfied: tensorboard>=2.9.1 in /usr/local/lib/python3.7/dist-packages (from pytorch-lightning>=1.5.0->darts) (2.9.1)\n",
            "Requirement already satisfied: fsspec[http]>2021.06.0 in /usr/local/lib/python3.7/dist-packages (from pytorch-lightning>=1.5.0->darts) (2022.10.0)\n",
            "Requirement already satisfied: PyYAML>=5.4 in /usr/local/lib/python3.7/dist-packages (from pytorch-lightning>=1.5.0->darts) (6.0)\n",
            "Collecting lightning-lite==1.8.0\n",
            "  Downloading lightning_lite-1.8.0-py3-none-any.whl (136 kB)\n",
            "\u001b[K     |████████████████████████████████| 136 kB 56.2 MB/s \n",
            "\u001b[?25hCollecting torchmetrics>=0.7.0\n",
            "  Downloading torchmetrics-0.10.2-py3-none-any.whl (529 kB)\n",
            "\u001b[K     |████████████████████████████████| 529 kB 60.1 MB/s \n",
            "\u001b[?25hCollecting lightning-utilities==0.3.*\n",
            "  Downloading lightning_utilities-0.3.0-py3-none-any.whl (15 kB)\n",
            "Collecting fire\n",
            "  Downloading fire-0.4.0.tar.gz (87 kB)\n",
            "\u001b[K     |████████████████████████████████| 87 kB 7.6 MB/s \n",
            "\u001b[?25hRequirement already satisfied: aiohttp!=4.0.0a0,!=4.0.0a1 in /usr/local/lib/python3.7/dist-packages (from fsspec[http]>2021.06.0->pytorch-lightning>=1.5.0->darts) (3.8.3)\n",
            "Requirement already satisfied: charset-normalizer<3.0,>=2.0 in /usr/local/lib/python3.7/dist-packages (from aiohttp!=4.0.0a0,!=4.0.0a1->fsspec[http]>2021.06.0->pytorch-lightning>=1.5.0->darts) (2.1.1)\n",
            "Requirement already satisfied: async-timeout<5.0,>=4.0.0a3 in /usr/local/lib/python3.7/dist-packages (from aiohttp!=4.0.0a0,!=4.0.0a1->fsspec[http]>2021.06.0->pytorch-lightning>=1.5.0->darts) (4.0.2)\n",
            "Requirement already satisfied: aiosignal>=1.1.2 in /usr/local/lib/python3.7/dist-packages (from aiohttp!=4.0.0a0,!=4.0.0a1->fsspec[http]>2021.06.0->pytorch-lightning>=1.5.0->darts) (1.2.0)\n",
            "Requirement already satisfied: multidict<7.0,>=4.5 in /usr/local/lib/python3.7/dist-packages (from aiohttp!=4.0.0a0,!=4.0.0a1->fsspec[http]>2021.06.0->pytorch-lightning>=1.5.0->darts) (6.0.2)\n",
            "Requirement already satisfied: attrs>=17.3.0 in /usr/local/lib/python3.7/dist-packages (from aiohttp!=4.0.0a0,!=4.0.0a1->fsspec[http]>2021.06.0->pytorch-lightning>=1.5.0->darts) (22.1.0)\n",
            "Requirement already satisfied: asynctest==0.13.0 in /usr/local/lib/python3.7/dist-packages (from aiohttp!=4.0.0a0,!=4.0.0a1->fsspec[http]>2021.06.0->pytorch-lightning>=1.5.0->darts) (0.13.0)\n",
            "Requirement already satisfied: yarl<2.0,>=1.0 in /usr/local/lib/python3.7/dist-packages (from aiohttp!=4.0.0a0,!=4.0.0a1->fsspec[http]>2021.06.0->pytorch-lightning>=1.5.0->darts) (1.8.1)\n",
            "Requirement already satisfied: frozenlist>=1.1.1 in /usr/local/lib/python3.7/dist-packages (from aiohttp!=4.0.0a0,!=4.0.0a1->fsspec[http]>2021.06.0->pytorch-lightning>=1.5.0->darts) (1.3.1)\n",
            "Requirement already satisfied: chardet<4,>=3.0.2 in /usr/local/lib/python3.7/dist-packages (from requests>=2.22.0->darts) (3.0.4)\n",
            "Requirement already satisfied: certifi>=2017.4.17 in /usr/local/lib/python3.7/dist-packages (from requests>=2.22.0->darts) (2022.9.24)\n",
            "Requirement already satisfied: idna<3,>=2.5 in /usr/local/lib/python3.7/dist-packages (from requests>=2.22.0->darts) (2.10)\n",
            "Requirement already satisfied: threadpoolctl>=2.0.0 in /usr/local/lib/python3.7/dist-packages (from scikit-learn>=1.0.1->darts) (3.1.0)\n",
            "Requirement already satisfied: numba in /usr/local/lib/python3.7/dist-packages (from shap>=0.40.0->darts) (0.56.3)\n",
            "Requirement already satisfied: cloudpickle in /usr/local/lib/python3.7/dist-packages (from shap>=0.40.0->darts) (1.5.0)\n",
            "Collecting slicer==0.0.7\n",
            "  Downloading slicer-0.0.7-py3-none-any.whl (14 kB)\n",
            "Requirement already satisfied: llvmlite<0.40,>=0.39.0dev0 in /usr/local/lib/python3.7/dist-packages (from numba->shap>=0.40.0->darts) (0.39.1)\n",
            "Requirement already satisfied: importlib-metadata in /usr/local/lib/python3.7/dist-packages (from numba->shap>=0.40.0->darts) (4.13.0)\n",
            "Requirement already satisfied: patsy>=0.5.2 in /usr/local/lib/python3.7/dist-packages (from statsmodels>=0.13.0->darts) (0.5.3)\n",
            "Requirement already satisfied: markdown>=2.6.8 in /usr/local/lib/python3.7/dist-packages (from tensorboard>=2.9.1->pytorch-lightning>=1.5.0->darts) (3.4.1)\n",
            "Requirement already satisfied: absl-py>=0.4 in /usr/local/lib/python3.7/dist-packages (from tensorboard>=2.9.1->pytorch-lightning>=1.5.0->darts) (1.3.0)\n",
            "Requirement already satisfied: grpcio>=1.24.3 in /usr/local/lib/python3.7/dist-packages (from tensorboard>=2.9.1->pytorch-lightning>=1.5.0->darts) (1.50.0)\n",
            "Requirement already satisfied: werkzeug>=1.0.1 in /usr/local/lib/python3.7/dist-packages (from tensorboard>=2.9.1->pytorch-lightning>=1.5.0->darts) (1.0.1)\n",
            "Requirement already satisfied: tensorboard-data-server<0.7.0,>=0.6.0 in /usr/local/lib/python3.7/dist-packages (from tensorboard>=2.9.1->pytorch-lightning>=1.5.0->darts) (0.6.1)\n",
            "Requirement already satisfied: tensorboard-plugin-wit>=1.6.0 in /usr/local/lib/python3.7/dist-packages (from tensorboard>=2.9.1->pytorch-lightning>=1.5.0->darts) (1.8.1)\n",
            "Requirement already satisfied: google-auth-oauthlib<0.5,>=0.4.1 in /usr/local/lib/python3.7/dist-packages (from tensorboard>=2.9.1->pytorch-lightning>=1.5.0->darts) (0.4.6)\n",
            "Requirement already satisfied: protobuf<3.20,>=3.9.2 in /usr/local/lib/python3.7/dist-packages (from tensorboard>=2.9.1->pytorch-lightning>=1.5.0->darts) (3.11.2)\n",
            "Requirement already satisfied: google-auth<3,>=1.6.3 in /usr/local/lib/python3.7/dist-packages (from tensorboard>=2.9.1->pytorch-lightning>=1.5.0->darts) (1.35.0)\n",
            "Requirement already satisfied: pyasn1-modules>=0.2.1 in /usr/local/lib/python3.7/dist-packages (from google-auth<3,>=1.6.3->tensorboard>=2.9.1->pytorch-lightning>=1.5.0->darts) (0.2.8)\n",
            "Requirement already satisfied: cachetools<5.0,>=2.0.0 in /usr/local/lib/python3.7/dist-packages (from google-auth<3,>=1.6.3->tensorboard>=2.9.1->pytorch-lightning>=1.5.0->darts) (4.2.4)\n",
            "Requirement already satisfied: rsa<5,>=3.1.4 in /usr/local/lib/python3.7/dist-packages (from google-auth<3,>=1.6.3->tensorboard>=2.9.1->pytorch-lightning>=1.5.0->darts) (4.9)\n",
            "Requirement already satisfied: requests-oauthlib>=0.7.0 in /usr/local/lib/python3.7/dist-packages (from google-auth-oauthlib<0.5,>=0.4.1->tensorboard>=2.9.1->pytorch-lightning>=1.5.0->darts) (1.3.1)\n",
            "Requirement already satisfied: zipp>=0.5 in /usr/local/lib/python3.7/dist-packages (from importlib-metadata->numba->shap>=0.40.0->darts) (3.10.0)\n",
            "Requirement already satisfied: pyasn1<0.5.0,>=0.4.6 in /usr/local/lib/python3.7/dist-packages (from pyasn1-modules>=0.2.1->google-auth<3,>=1.6.3->tensorboard>=2.9.1->pytorch-lightning>=1.5.0->darts) (0.4.8)\n",
            "Requirement already satisfied: oauthlib>=3.0.0 in /usr/local/lib/python3.7/dist-packages (from requests-oauthlib>=0.7.0->google-auth-oauthlib<0.5,>=0.4.1->tensorboard>=2.9.1->pytorch-lightning>=1.5.0->darts) (3.2.2)\n",
            "Requirement already satisfied: termcolor in /usr/local/lib/python3.7/dist-packages (from fire->lightning-utilities==0.3.*->pytorch-lightning>=1.5.0->darts) (2.0.1)\n",
            "Requirement already satisfied: ptyprocess>=0.5 in /usr/local/lib/python3.7/dist-packages (from pexpect->ipython>=5.0.0->darts) (0.7.0)\n",
            "Requirement already satisfied: tenacity>=6.2.0 in /usr/local/lib/python3.7/dist-packages (from plotly->catboost>=1.0.6->darts) (8.1.0)\n",
            "Building wheels for collected packages: fire\n",
            "  Building wheel for fire (setup.py) ... \u001b[?25l\u001b[?25hdone\n",
            "  Created wheel for fire: filename=fire-0.4.0-py2.py3-none-any.whl size=115942 sha256=dfb9d5a13de13b0adef541de2d0c3b132e0a49707cb01c93af82fb297bba8204\n",
            "  Stored in directory: /root/.cache/pip/wheels/8a/67/fb/2e8a12fa16661b9d5af1f654bd199366799740a85c64981226\n",
            "Successfully built fire\n",
            "Installing collected packages: fire, lightning-utilities, fonttools, torchmetrics, slicer, pmdarima, matplotlib, lightning-lite, jedi, tbats, statsforecast, shap, pytorch-lightning, nfoursid, catboost, darts\n",
            "  Attempting uninstall: matplotlib\n",
            "    Found existing installation: matplotlib 3.2.2\n",
            "    Uninstalling matplotlib-3.2.2:\n",
            "      Successfully uninstalled matplotlib-3.2.2\n",
            "Successfully installed catboost-1.1.1 darts-0.22.0 fire-0.4.0 fonttools-4.38.0 jedi-0.18.1 lightning-lite-1.8.0 lightning-utilities-0.3.0 matplotlib-3.5.3 nfoursid-1.0.1 pmdarima-2.0.1 pytorch-lightning-1.8.0 shap-0.41.0 slicer-0.0.7 statsforecast-1.2.0 tbats-1.1.1 torchmetrics-0.10.2\n"
          ]
        },
        {
          "output_type": "display_data",
          "data": {
            "application/vnd.colab-display-data+json": {
              "pip_warning": {
                "packages": [
                  "matplotlib",
                  "mpl_toolkits"
                ]
              }
            }
          },
          "metadata": {}
        },
        {
          "output_type": "stream",
          "name": "stdout",
          "text": [
            "Looking in indexes: https://pypi.org/simple, https://us-python.pkg.dev/colab-wheels/public/simple/\n",
            "Collecting kats\n",
            "  Downloading kats-0.2.0-py3-none-any.whl (612 kB)\n",
            "\u001b[K     |████████████████████████████████| 612 kB 5.0 MB/s \n",
            "\u001b[?25hCollecting pytest-mpl>=0.12\n",
            "  Downloading pytest_mpl-0.16.1-py3-none-any.whl (28 kB)\n",
            "Requirement already satisfied: tqdm>=4.36.1 in /usr/local/lib/python3.7/dist-packages (from kats) (4.64.1)\n",
            "Collecting gpytorch\n",
            "  Downloading gpytorch-1.8.1-py2.py3-none-any.whl (361 kB)\n",
            "\u001b[K     |████████████████████████████████| 361 kB 61.7 MB/s \n",
            "\u001b[?25hRequirement already satisfied: matplotlib>=2.0.0 in /usr/local/lib/python3.7/dist-packages (from kats) (3.5.3)\n",
            "Requirement already satisfied: pystan==2.19.1.1 in /usr/local/lib/python3.7/dist-packages (from kats) (2.19.1.1)\n",
            "Collecting deprecated>=1.2.12\n",
            "  Downloading Deprecated-1.2.13-py2.py3-none-any.whl (9.6 kB)\n",
            "Requirement already satisfied: scikit-learn>=0.24.2 in /usr/local/lib/python3.7/dist-packages (from kats) (1.0.2)\n",
            "Requirement already satisfied: python-dateutil>=2.8.0 in /usr/local/lib/python3.7/dist-packages (from kats) (2.8.2)\n",
            "Requirement already satisfied: torch in /usr/local/lib/python3.7/dist-packages (from kats) (1.12.1+cu113)\n",
            "Collecting pymannkendall>=1.4.1\n",
            "  Downloading pymannkendall-1.4.2-py3-none-any.whl (12 kB)\n",
            "Collecting parameterized>=0.8.1\n",
            "  Downloading parameterized-0.8.1-py2.py3-none-any.whl (26 kB)\n",
            "Requirement already satisfied: numba>=0.52.0 in /usr/local/lib/python3.7/dist-packages (from kats) (0.56.3)\n",
            "Requirement already satisfied: importlib-metadata in /usr/local/lib/python3.7/dist-packages (from kats) (4.13.0)\n",
            "Collecting statsmodels==0.12.2\n",
            "  Downloading statsmodels-0.12.2-cp37-cp37m-manylinux1_x86_64.whl (9.5 MB)\n",
            "\u001b[K     |████████████████████████████████| 9.5 MB 52.4 MB/s \n",
            "\u001b[?25hCollecting ax-platform==0.2.4\n",
            "  Downloading ax_platform-0.2.4-py3-none-any.whl (950 kB)\n",
            "\u001b[K     |████████████████████████████████| 950 kB 55.3 MB/s \n",
            "\u001b[?25hRequirement already satisfied: attrs>=21.2.0 in /usr/local/lib/python3.7/dist-packages (from kats) (22.1.0)\n",
            "Collecting fbprophet==0.7.1\n",
            "  Downloading fbprophet-0.7.1.tar.gz (64 kB)\n",
            "\u001b[K     |████████████████████████████████| 64 kB 2.6 MB/s \n",
            "\u001b[?25hRequirement already satisfied: seaborn>=0.11.1 in /usr/local/lib/python3.7/dist-packages (from kats) (0.11.2)\n",
            "Requirement already satisfied: holidays>=0.10.2 in /usr/local/lib/python3.7/dist-packages (from kats) (0.16)\n",
            "Requirement already satisfied: typing-extensions in /usr/local/lib/python3.7/dist-packages (from kats) (4.1.1)\n",
            "Requirement already satisfied: numpy<1.22,>=1.21 in /usr/local/lib/python3.7/dist-packages (from kats) (1.21.6)\n",
            "Requirement already satisfied: plotly>=2.2.1 in /usr/local/lib/python3.7/dist-packages (from kats) (5.5.0)\n",
            "Requirement already satisfied: pandas<=1.3.5,>=1.0.4 in /usr/local/lib/python3.7/dist-packages (from kats) (1.3.5)\n",
            "Requirement already satisfied: LunarCalendar>=0.0.9 in /usr/local/lib/python3.7/dist-packages (from kats) (0.0.9)\n",
            "Requirement already satisfied: setuptools-git>=1.2 in /usr/local/lib/python3.7/dist-packages (from kats) (1.2)\n",
            "Requirement already satisfied: scipy<1.8.0 in /usr/local/lib/python3.7/dist-packages (from kats) (1.7.3)\n",
            "Requirement already satisfied: jinja2 in /usr/local/lib/python3.7/dist-packages (from ax-platform==0.2.4->kats) (2.11.3)\n",
            "Collecting botorch==0.6.2\n",
            "  Downloading botorch-0.6.2-py3-none-any.whl (347 kB)\n",
            "\u001b[K     |████████████████████████████████| 347 kB 55.4 MB/s \n",
            "\u001b[?25hRequirement already satisfied: typeguard in /usr/local/lib/python3.7/dist-packages (from ax-platform==0.2.4->kats) (2.7.1)\n",
            "Requirement already satisfied: multipledispatch in /usr/local/lib/python3.7/dist-packages (from botorch==0.6.2->ax-platform==0.2.4->kats) (0.6.0)\n",
            "Requirement already satisfied: Cython>=0.22 in /usr/local/lib/python3.7/dist-packages (from fbprophet==0.7.1->kats) (0.29.32)\n",
            "Collecting cmdstanpy==0.9.5\n",
            "  Downloading cmdstanpy-0.9.5-py3-none-any.whl (37 kB)\n",
            "Requirement already satisfied: convertdate>=2.1.2 in /usr/local/lib/python3.7/dist-packages (from fbprophet==0.7.1->kats) (2.4.0)\n",
            "Requirement already satisfied: patsy>=0.5 in /usr/local/lib/python3.7/dist-packages (from statsmodels==0.12.2->kats) (0.5.3)\n",
            "Requirement already satisfied: pymeeus<=1,>=0.3.13 in /usr/local/lib/python3.7/dist-packages (from convertdate>=2.1.2->fbprophet==0.7.1->kats) (0.5.11)\n",
            "Requirement already satisfied: wrapt<2,>=1.10 in /usr/local/lib/python3.7/dist-packages (from deprecated>=1.2.12->kats) (1.14.1)\n",
            "Requirement already satisfied: korean-lunar-calendar in /usr/local/lib/python3.7/dist-packages (from holidays>=0.10.2->kats) (0.3.1)\n",
            "Requirement already satisfied: hijri-converter in /usr/local/lib/python3.7/dist-packages (from holidays>=0.10.2->kats) (2.2.4)\n",
            "Requirement already satisfied: ephem>=3.7.5.3 in /usr/local/lib/python3.7/dist-packages (from LunarCalendar>=0.0.9->kats) (4.1.3)\n",
            "Requirement already satisfied: pytz in /usr/local/lib/python3.7/dist-packages (from LunarCalendar>=0.0.9->kats) (2022.5)\n",
            "Requirement already satisfied: cycler>=0.10 in /usr/local/lib/python3.7/dist-packages (from matplotlib>=2.0.0->kats) (0.11.0)\n",
            "Requirement already satisfied: packaging>=20.0 in /usr/local/lib/python3.7/dist-packages (from matplotlib>=2.0.0->kats) (21.3)\n",
            "Requirement already satisfied: kiwisolver>=1.0.1 in /usr/local/lib/python3.7/dist-packages (from matplotlib>=2.0.0->kats) (1.4.4)\n",
            "Requirement already satisfied: fonttools>=4.22.0 in /usr/local/lib/python3.7/dist-packages (from matplotlib>=2.0.0->kats) (4.38.0)\n",
            "Requirement already satisfied: pillow>=6.2.0 in /usr/local/lib/python3.7/dist-packages (from matplotlib>=2.0.0->kats) (7.1.2)\n",
            "Requirement already satisfied: pyparsing>=2.2.1 in /usr/local/lib/python3.7/dist-packages (from matplotlib>=2.0.0->kats) (3.0.9)\n",
            "Requirement already satisfied: llvmlite<0.40,>=0.39.0dev0 in /usr/local/lib/python3.7/dist-packages (from numba>=0.52.0->kats) (0.39.1)\n",
            "Requirement already satisfied: setuptools in /usr/local/lib/python3.7/dist-packages (from numba>=0.52.0->kats) (57.4.0)\n",
            "Requirement already satisfied: six in /usr/local/lib/python3.7/dist-packages (from patsy>=0.5->statsmodels==0.12.2->kats) (1.15.0)\n",
            "Requirement already satisfied: tenacity>=6.2.0 in /usr/local/lib/python3.7/dist-packages (from plotly>=2.2.1->kats) (8.1.0)\n",
            "Requirement already satisfied: pytest in /usr/local/lib/python3.7/dist-packages (from pytest-mpl>=0.12->kats) (3.6.4)\n",
            "Requirement already satisfied: importlib-resources in /usr/local/lib/python3.7/dist-packages (from pytest-mpl>=0.12->kats) (5.10.0)\n",
            "Requirement already satisfied: threadpoolctl>=2.0.0 in /usr/local/lib/python3.7/dist-packages (from scikit-learn>=0.24.2->kats) (3.1.0)\n",
            "Requirement already satisfied: joblib>=0.11 in /usr/local/lib/python3.7/dist-packages (from scikit-learn>=0.24.2->kats) (1.2.0)\n",
            "Requirement already satisfied: zipp>=0.5 in /usr/local/lib/python3.7/dist-packages (from importlib-metadata->kats) (3.10.0)\n",
            "Requirement already satisfied: MarkupSafe>=0.23 in /usr/local/lib/python3.7/dist-packages (from jinja2->ax-platform==0.2.4->kats) (2.0.1)\n",
            "Requirement already satisfied: pluggy<0.8,>=0.5 in /usr/local/lib/python3.7/dist-packages (from pytest->pytest-mpl>=0.12->kats) (0.7.1)\n",
            "Requirement already satisfied: atomicwrites>=1.0 in /usr/local/lib/python3.7/dist-packages (from pytest->pytest-mpl>=0.12->kats) (1.4.1)\n",
            "Requirement already satisfied: py>=1.5.0 in /usr/local/lib/python3.7/dist-packages (from pytest->pytest-mpl>=0.12->kats) (1.11.0)\n",
            "Requirement already satisfied: more-itertools>=4.0.0 in /usr/local/lib/python3.7/dist-packages (from pytest->pytest-mpl>=0.12->kats) (9.0.0)\n",
            "Building wheels for collected packages: fbprophet\n",
            "  Building wheel for fbprophet (setup.py) ... \u001b[?25l\u001b[?25hdone\n",
            "  Created wheel for fbprophet: filename=fbprophet-0.7.1-py3-none-any.whl size=6638603 sha256=5aa29ee70f9e726b9bf490933a12b1c4d0ca56dff408f16e46e271ff4761b1e8\n",
            "  Stored in directory: /root/.cache/pip/wheels/cd/a1/12/db63ff624de492fe6cccf676091a0860fdde2ffde4bc3280e2\n",
            "Successfully built fbprophet\n",
            "Installing collected packages: gpytorch, cmdstanpy, botorch, statsmodels, pytest-mpl, pymannkendall, parameterized, fbprophet, deprecated, ax-platform, kats\n",
            "  Attempting uninstall: cmdstanpy\n",
            "    Found existing installation: cmdstanpy 1.0.8\n",
            "    Uninstalling cmdstanpy-1.0.8:\n",
            "      Successfully uninstalled cmdstanpy-1.0.8\n",
            "  Attempting uninstall: statsmodels\n",
            "    Found existing installation: statsmodels 0.13.2\n",
            "    Uninstalling statsmodels-0.13.2:\n",
            "      Successfully uninstalled statsmodels-0.13.2\n",
            "\u001b[31mERROR: pip's dependency resolver does not currently take into account all the packages that are installed. This behaviour is the source of the following dependency conflicts.\n",
            "tsfresh 0.19.0 requires statsmodels>=0.13, but you have statsmodels 0.12.2 which is incompatible.\n",
            "statsforecast 1.2.0 requires statsmodels>=0.13.2, but you have statsmodels 0.12.2 which is incompatible.\n",
            "prophet 1.1.1 requires cmdstanpy>=1.0.4, but you have cmdstanpy 0.9.5 which is incompatible.\n",
            "pmdarima 2.0.1 requires statsmodels>=0.13.2, but you have statsmodels 0.12.2 which is incompatible.\n",
            "darts 0.22.0 requires statsmodels>=0.13.0, but you have statsmodels 0.12.2 which is incompatible.\u001b[0m\n",
            "Successfully installed ax-platform-0.2.4 botorch-0.6.2 cmdstanpy-0.9.5 deprecated-1.2.13 fbprophet-0.7.1 gpytorch-1.8.1 kats-0.2.0 parameterized-0.8.1 pymannkendall-1.4.2 pytest-mpl-0.16.1 statsmodels-0.12.2\n",
            "Found existing installation: statsmodels 0.12.2\n",
            "Uninstalling statsmodels-0.12.2:\n",
            "  Successfully uninstalled statsmodels-0.12.2\n",
            "Found existing installation: scipy 1.7.3\n",
            "Uninstalling scipy-1.7.3:\n",
            "  Successfully uninstalled scipy-1.7.3\n",
            "Found existing installation: patsy 0.5.3\n",
            "Uninstalling patsy-0.5.3:\n",
            "  Successfully uninstalled patsy-0.5.3\n",
            "Found existing installation: pandas 1.3.5\n",
            "Uninstalling pandas-1.3.5:\n",
            "  Successfully uninstalled pandas-1.3.5\n",
            "Looking in indexes: https://pypi.org/simple, https://us-python.pkg.dev/colab-wheels/public/simple/\n",
            "Collecting scipy\n",
            "  Downloading scipy-1.7.3-cp37-cp37m-manylinux_2_12_x86_64.manylinux2010_x86_64.whl (38.1 MB)\n",
            "\u001b[K     |████████████████████████████████| 38.1 MB 1.2 MB/s \n",
            "\u001b[?25hCollecting patsy\n",
            "  Downloading patsy-0.5.3-py2.py3-none-any.whl (233 kB)\n",
            "\u001b[K     |████████████████████████████████| 233 kB 59.6 MB/s \n",
            "\u001b[?25hCollecting pandas\n",
            "  Downloading pandas-1.3.5-cp37-cp37m-manylinux_2_17_x86_64.manylinux2014_x86_64.whl (11.3 MB)\n",
            "\u001b[K     |████████████████████████████████| 11.3 MB 53.2 MB/s \n",
            "\u001b[?25hRequirement already satisfied: numpy<1.23.0,>=1.16.5 in /usr/local/lib/python3.7/dist-packages (from scipy) (1.21.6)\n",
            "Requirement already satisfied: six in /usr/local/lib/python3.7/dist-packages (from patsy) (1.15.0)\n",
            "Requirement already satisfied: pytz>=2017.3 in /usr/local/lib/python3.7/dist-packages (from pandas) (2022.5)\n",
            "Requirement already satisfied: python-dateutil>=2.7.3 in /usr/local/lib/python3.7/dist-packages (from pandas) (2.8.2)\n",
            "Installing collected packages: scipy, patsy, pandas\n",
            "\u001b[31mERROR: pip's dependency resolver does not currently take into account all the packages that are installed. This behaviour is the source of the following dependency conflicts.\n",
            "tsfresh 0.19.0 requires statsmodels>=0.13, which is not installed.\n",
            "statsforecast 1.2.0 requires statsmodels>=0.13.2, which is not installed.\n",
            "pmdarima 2.0.1 requires statsmodels>=0.13.2, which is not installed.\n",
            "plotnine 0.8.0 requires statsmodels>=0.12.1, which is not installed.\n",
            "kats 0.2.0 requires statsmodels==0.12.2, which is not installed.\n",
            "darts 0.22.0 requires statsmodels>=0.13.0, which is not installed.\n",
            "prophet 1.1.1 requires cmdstanpy>=1.0.4, but you have cmdstanpy 0.9.5 which is incompatible.\u001b[0m\n",
            "Successfully installed pandas-1.3.5 patsy-0.5.3 scipy-1.7.3\n",
            "Looking in indexes: https://pypi.org/simple, https://us-python.pkg.dev/colab-wheels/public/simple/\n",
            "\u001b[31mERROR: Could not find a version that satisfies the requirement statamodels (from versions: none)\u001b[0m\n",
            "\u001b[31mERROR: No matching distribution found for statamodels\u001b[0m\n",
            "Looking in indexes: https://pypi.org/simple, https://us-python.pkg.dev/colab-wheels/public/simple/\n",
            "Collecting pickle5\n",
            "  Downloading pickle5-0.0.12-cp37-cp37m-manylinux_2_5_x86_64.manylinux1_x86_64.whl (256 kB)\n",
            "\u001b[K     |████████████████████████████████| 256 kB 5.1 MB/s \n",
            "\u001b[?25hInstalling collected packages: pickle5\n",
            "Successfully installed pickle5-0.0.12\n"
          ]
        }
      ],
      "source": [
        "!pip install numpy==1.20\n",
        "!pip install --upgrade numba\n",
        "!pip install pystan==2.19.1.1\n",
        "!pip install prophet\n",
        "!pip install tsfresh\n",
        "!pip install darts\n",
        "!pip install kats\n",
        "!pip uninstall statsmodels --yes\n",
        "!pip uninstall scipy patsy pandas --y\n",
        "!pip install scipy patsy pandas\n",
        "!pip install statamodels\n",
        "!pip3 install pickle5"
      ],
      "id": "feb70bd2-22a9-4819-91b2-ae1b5ad69d62"
    },
    {
      "cell_type": "code",
      "execution_count": null,
      "metadata": {
        "colab": {
          "base_uri": "https://localhost:8080/"
        },
        "id": "yxcP3snjr3Ll",
        "outputId": "98da0254-9d37-4262-8f30-5ddfbd931d56"
      },
      "outputs": [
        {
          "output_type": "stream",
          "name": "stdout",
          "text": [
            "Looking in indexes: https://pypi.org/simple, https://us-python.pkg.dev/colab-wheels/public/simple/\n",
            "Collecting statsmodels\n",
            "  Using cached statsmodels-0.13.2-cp37-cp37m-manylinux_2_17_x86_64.manylinux2014_x86_64.whl (9.8 MB)\n",
            "Installing collected packages: statsmodels\n",
            "Successfully installed statsmodels-0.13.2\n"
          ]
        }
      ],
      "source": [
        "!pip install --upgrade --no-deps statsmodels"
      ],
      "id": "yxcP3snjr3Ll"
    },
    {
      "cell_type": "code",
      "execution_count": null,
      "metadata": {
        "id": "540a35b9-f5e6-4c1c-bb0a-78b88b968920"
      },
      "outputs": [],
      "source": [
        "import pandas as pd\n",
        "import pickle5 as pickle\n",
        "import matplotlib.pyplot as plt"
      ],
      "id": "540a35b9-f5e6-4c1c-bb0a-78b88b968920"
    },
    {
      "cell_type": "code",
      "source": [
        "!pip install matplotlib"
      ],
      "metadata": {
        "colab": {
          "base_uri": "https://localhost:8080/",
          "height": 435
        },
        "id": "0aL4Jh_uoLtd",
        "outputId": "d4168a85-63c2-4361-9422-d8b5e79a1fde"
      },
      "id": "0aL4Jh_uoLtd",
      "execution_count": null,
      "outputs": [
        {
          "output_type": "stream",
          "name": "stdout",
          "text": [
            "Looking in indexes: https://pypi.org/simple, https://us-python.pkg.dev/colab-wheels/public/simple/\n",
            "Collecting matplotlib\n",
            "  Using cached matplotlib-3.5.3-cp37-cp37m-manylinux_2_5_x86_64.manylinux1_x86_64.whl (11.2 MB)\n",
            "Requirement already satisfied: cycler>=0.10 in /usr/local/lib/python3.7/dist-packages (from matplotlib) (0.11.0)\n",
            "Requirement already satisfied: pyparsing>=2.2.1 in /usr/local/lib/python3.7/dist-packages (from matplotlib) (3.0.9)\n",
            "Requirement already satisfied: fonttools>=4.22.0 in /usr/local/lib/python3.7/dist-packages (from matplotlib) (4.38.0)\n",
            "Requirement already satisfied: numpy>=1.17 in /usr/local/lib/python3.7/dist-packages (from matplotlib) (1.21.6)\n",
            "Requirement already satisfied: kiwisolver>=1.0.1 in /usr/local/lib/python3.7/dist-packages (from matplotlib) (1.4.4)\n",
            "Requirement already satisfied: pillow>=6.2.0 in /usr/local/lib/python3.7/dist-packages (from matplotlib) (7.1.2)\n",
            "Requirement already satisfied: python-dateutil>=2.7 in /usr/local/lib/python3.7/dist-packages (from matplotlib) (2.8.2)\n",
            "Requirement already satisfied: packaging>=20.0 in /usr/local/lib/python3.7/dist-packages (from matplotlib) (21.3)\n",
            "Requirement already satisfied: typing-extensions in /usr/local/lib/python3.7/dist-packages (from kiwisolver>=1.0.1->matplotlib) (4.1.1)\n",
            "Requirement already satisfied: six>=1.5 in /usr/local/lib/python3.7/dist-packages (from python-dateutil>=2.7->matplotlib) (1.15.0)\n",
            "Installing collected packages: matplotlib\n",
            "\u001b[31mERROR: pip's dependency resolver does not currently take into account all the packages that are installed. This behaviour is the source of the following dependency conflicts.\n",
            "prophet 1.1.1 requires cmdstanpy>=1.0.4, but you have cmdstanpy 0.9.5 which is incompatible.\n",
            "kats 0.2.0 requires statsmodels==0.12.2, but you have statsmodels 0.13.2 which is incompatible.\u001b[0m\n",
            "Successfully installed matplotlib-3.5.3\n"
          ]
        },
        {
          "output_type": "display_data",
          "data": {
            "application/vnd.colab-display-data+json": {
              "pip_warning": {
                "packages": [
                  "matplotlib",
                  "mpl_toolkits"
                ]
              }
            }
          },
          "metadata": {}
        }
      ]
    },
    {
      "cell_type": "code",
      "execution_count": null,
      "metadata": {
        "colab": {
          "base_uri": "https://localhost:8080/",
          "height": 286
        },
        "id": "13329686-9b20-4361-9638-38755f40e135",
        "outputId": "d247e922-a2b1-492d-9806-d37cabb3e119"
      },
      "outputs": [
        {
          "output_type": "execute_result",
          "data": {
            "text/plain": [
              "<AxesSubplot:xlabel='Time'>"
            ]
          },
          "metadata": {},
          "execution_count": 2
        },
        {
          "output_type": "display_data",
          "data": {
            "text/plain": [
              "<Figure size 432x288 with 1 Axes>"
            ],
            "image/png": "[encoded data removed]"
          },
          "metadata": {
            "needs_background": "light"
          }
        }
      ],
      "source": [
        "file = 'returns_NASDAQ_hist_daily_06102021-091329.pkl'\n",
        "df = pickle.load(open(f'{file}', \"rb\"))\n",
        "\n",
        "ticker = 'ATVI'\n",
        "df.loc[df['Ticker']==ticker]['Close'].plot()"
      ],
      "id": "13329686-9b20-4361-9638-38755f40e135"
    },
    {
      "cell_type": "code",
      "execution_count": null,
      "metadata": {
        "id": "b4aab4e1-21be-416b-be86-0f7fa121d7e0"
      },
      "outputs": [],
      "source": [
        "dd = df.loc[df['Ticker']==ticker]"
      ],
      "id": "b4aab4e1-21be-416b-be86-0f7fa121d7e0"
    },
    {
      "cell_type": "code",
      "execution_count": null,
      "metadata": {
        "id": "13659e33-4a2d-45f8-9045-38b646320235"
      },
      "outputs": [],
      "source": [
        "dd = dd.sort_index()"
      ],
      "id": "13659e33-4a2d-45f8-9045-38b646320235"
    },
    {
      "cell_type": "code",
      "execution_count": null,
      "metadata": {
        "id": "64b53c1a-5c63-4e0e-9b28-42a215813299"
      },
      "outputs": [],
      "source": [
        "dd_melted = dd.reset_index()"
      ],
      "id": "64b53c1a-5c63-4e0e-9b28-42a215813299"
    },
    {
      "cell_type": "code",
      "source": [
        "dd_melted"
      ],
      "metadata": {
        "colab": {
          "base_uri": "https://localhost:8080/",
          "height": 424
        },
        "id": "qipm2ao2tiOa",
        "outputId": "8609de6a-d4d7-45b6-fe61-db3c0b8b353f"
      },
      "id": "qipm2ao2tiOa",
      "execution_count": null,
      "outputs": [
        {
          "output_type": "execute_result",
          "data": {
            "text/plain": [
              "           Time Ticker     Close\n",
              "0    1999-11-01   ATVI       NaN\n",
              "1    1999-11-02   ATVI  1.351351\n",
              "2    1999-11-03   ATVI  1.754386\n",
              "3    1999-11-04   ATVI  0.827586\n",
              "4    1999-11-05   ATVI  5.198358\n",
              "...         ...    ...       ...\n",
              "5513 2021-09-29   ATVI  1.375606\n",
              "5514 2021-09-30   ATVI  0.012923\n",
              "5515 2021-10-01   ATVI  1.473059\n",
              "5516 2021-10-04   ATVI -1.719088\n",
              "5517 2021-10-05   ATVI -0.492356\n",
              "\n",
              "[5518 rows x 3 columns]"
            ],
            "text/html": [
              "\n",
              "  <div id=\"df-5040538c-ab49-4827-bc65-8826bef76aad\">\n",
              "    <div class=\"colab-df-container\">\n",
              "      <div>\n",
              "<style scoped>\n",
              "    .dataframe tbody tr th:only-of-type {\n",
              "        vertical-align: middle;\n",
              "    }\n",
              "\n",
              "    .dataframe tbody tr th {\n",
              "        vertical-align: top;\n",
              "    }\n",
              "\n",
              "    .dataframe thead th {\n",
              "        text-align: right;\n",
              "    }\n",
              "</style>\n",
              "<table border=\"1\" class=\"dataframe\">\n",
              "  <thead>\n",
              "    <tr style=\"text-align: right;\">\n",
              "      <th></th>\n",
              "      <th>Time</th>\n",
              "      <th>Ticker</th>\n",
              "      <th>Close</th>\n",
              "    </tr>\n",
              "  </thead>\n",
              "  <tbody>\n",
              "    <tr>\n",
              "      <th>0</th>\n",
              "      <td>1999-11-01</td>\n",
              "      <td>ATVI</td>\n",
              "      <td>NaN</td>\n",
              "    </tr>\n",
              "    <tr>\n",
              "      <th>1</th>\n",
              "      <td>1999-11-02</td>\n",
              "      <td>ATVI</td>\n",
              "      <td>1.351351</td>\n",
              "    </tr>\n",
              "    <tr>\n",
              "      <th>2</th>\n",
              "      <td>1999-11-03</td>\n",
              "      <td>ATVI</td>\n",
              "      <td>1.754386</td>\n",
              "    </tr>\n",
              "    <tr>\n",
              "      <th>3</th>\n",
              "      <td>1999-11-04</td>\n",
              "      <td>ATVI</td>\n",
              "      <td>0.827586</td>\n",
              "    </tr>\n",
              "    <tr>\n",
              "      <th>4</th>\n",
              "      <td>1999-11-05</td>\n",
              "      <td>ATVI</td>\n",
              "      <td>5.198358</td>\n",
              "    </tr>\n",
              "    <tr>\n",
              "      <th>...</th>\n",
              "      <td>...</td>\n",
              "      <td>...</td>\n",
              "      <td>...</td>\n",
              "    </tr>\n",
              "    <tr>\n",
              "      <th>5513</th>\n",
              "      <td>2021-09-29</td>\n",
              "      <td>ATVI</td>\n",
              "      <td>1.375606</td>\n",
              "    </tr>\n",
              "    <tr>\n",
              "      <th>5514</th>\n",
              "      <td>2021-09-30</td>\n",
              "      <td>ATVI</td>\n",
              "      <td>0.012923</td>\n",
              "    </tr>\n",
              "    <tr>\n",
              "      <th>5515</th>\n",
              "      <td>2021-10-01</td>\n",
              "      <td>ATVI</td>\n",
              "      <td>1.473059</td>\n",
              "    </tr>\n",
              "    <tr>\n",
              "      <th>5516</th>\n",
              "      <td>2021-10-04</td>\n",
              "      <td>ATVI</td>\n",
              "      <td>-1.719088</td>\n",
              "    </tr>\n",
              "    <tr>\n",
              "      <th>5517</th>\n",
              "      <td>2021-10-05</td>\n",
              "      <td>ATVI</td>\n",
              "      <td>-0.492356</td>\n",
              "    </tr>\n",
              "  </tbody>\n",
              "</table>\n",
              "<p>5518 rows × 3 columns</p>\n",
              "</div>\n",
              "      <button class=\"colab-df-convert\" onclick=\"convertToInteractive('df-5040538c-ab49-4827-bc65-8826bef76aad')\"\n",
              "              title=\"Convert this dataframe to an interactive table.\"\n",
              "              style=\"display:none;\">\n",
              "        \n",
              "  <svg xmlns=\"http://www.w3.org/2000/svg\" height=\"24px\"viewBox=\"0 0 24 24\"\n",
              "       width=\"24px\">\n",
              "    <path d=\"M0 0h24v24H0V0z\" fill=\"none\"/>\n",
              "    <path d=\"M18.56 5.44l.94 2.06.94-2.06 2.06-.94-2.06-.94-.94-2.06-.94 2.06-2.06.94zm-11 1L8.5 8.5l.94-2.06 2.06-.94-2.06-.94L8.5 2.5l-.94 2.06-2.06.94zm10 10l.94 2.06.94-2.06 2.06-.94-2.06-.94-.94-2.06-.94 2.06-2.06.94z\"/><path d=\"M17.41 7.96l-1.37-1.37c-.4-.4-.92-.59-1.43-.59-.52 0-1.04.2-1.43.59L10.3 9.45l-7.72 7.72c-.78.78-.78 2.05 0 2.83L4 21.41c.39.39.9.59 1.41.59.51 0 1.02-.2 1.41-.59l7.78-7.78 2.81-2.81c.8-.78.8-2.07 0-2.86zM5.41 20L4 18.59l7.72-7.72 1.47 1.35L5.41 20z\"/>\n",
              "  </svg>\n",
              "      </button>\n",
              "      \n",
              "  <style>\n",
              "    .colab-df-container {\n",
              "      display:flex;\n",
              "      flex-wrap:wrap;\n",
              "      gap: 12px;\n",
              "    }\n",
              "\n",
              "    .colab-df-convert {\n",
              "      background-color: #E8F0FE;\n",
              "      border: none;\n",
              "      border-radius: 50%;\n",
              "      cursor: pointer;\n",
              "      display: none;\n",
              "      fill: #1967D2;\n",
              "      height: 32px;\n",
              "      padding: 0 0 0 0;\n",
              "      width: 32px;\n",
              "    }\n",
              "\n",
              "    .colab-df-convert:hover {\n",
              "      background-color: #E2EBFA;\n",
              "      box-shadow: 0px 1px 2px rgba(60, 64, 67, 0.3), 0px 1px 3px 1px rgba(60, 64, 67, 0.15);\n",
              "      fill: #174EA6;\n",
              "    }\n",
              "\n",
              "    [theme=dark] .colab-df-convert {\n",
              "      background-color: #3B4455;\n",
              "      fill: #D2E3FC;\n",
              "    }\n",
              "\n",
              "    [theme=dark] .colab-df-convert:hover {\n",
              "      background-color: #434B5C;\n",
              "      box-shadow: 0px 1px 3px 1px rgba(0, 0, 0, 0.15);\n",
              "      filter: drop-shadow(0px 1px 2px rgba(0, 0, 0, 0.3));\n",
              "      fill: #FFFFFF;\n",
              "    }\n",
              "  </style>\n",
              "\n",
              "      <script>\n",
              "        const buttonEl =\n",
              "          document.querySelector('#df-5040538c-ab49-4827-bc65-8826bef76aad button.colab-df-convert');\n",
              "        buttonEl.style.display =\n",
              "          google.colab.kernel.accessAllowed ? 'block' : 'none';\n",
              "\n",
              "        async function convertToInteractive(key) {\n",
              "          const element = document.querySelector('#df-5040538c-ab49-4827-bc65-8826bef76aad');\n",
              "          const dataTable =\n",
              "            await google.colab.kernel.invokeFunction('convertToInteractive',\n",
              "                                                     [key], {});\n",
              "          if (!dataTable) return;\n",
              "\n",
              "          const docLinkHtml = 'Like what you see? Visit the ' +\n",
              "            '<a target=\"_blank\" href=https://colab.research.google.com/notebooks/data_table.ipynb>data table notebook</a>'\n",
              "            + ' to learn more about interactive tables.';\n",
              "          element.innerHTML = '';\n",
              "          dataTable['output_type'] = 'display_data';\n",
              "          await google.colab.output.renderOutput(dataTable, element);\n",
              "          const docLink = document.createElement('div');\n",
              "          docLink.innerHTML = docLinkHtml;\n",
              "          element.appendChild(docLink);\n",
              "        }\n",
              "      </script>\n",
              "    </div>\n",
              "  </div>\n",
              "  "
            ]
          },
          "metadata": {},
          "execution_count": 6
        }
      ]
    },
    {
      "cell_type": "markdown",
      "metadata": {
        "id": "77e75456-3de8-443f-9bfc-cf7d0ca00c8a"
      },
      "source": [
        "## Create training data sample\n",
        "Forecasting typically involves the following steps:\n",
        "\n",
        "- take all data up to today\n",
        "- do feature extraction (e.g. by running extract_features)\n",
        "- run a prediction model (e.g. a regressor, see below)\n",
        "- use the result as the forecast for tomorrow\n",
        "\n",
        "In training however, we need multiple examples to train. If we would only use the time series until today (and wait for the value of tomorrow to have a target), we would only have a single training example. Therefore we use a trick: we replay the history.\n",
        "\n",
        "Imagine you have a cut-out window sliding over your data. At each time step $t$, you treat the data as it would be today. You extract the features with everything you know until today (which is all data until and including $t$). The target for the features until time $t$ is the time value of time $t + 1$ (which you already know, because everything has already happened).\n",
        "\n",
        "The process of window-sliding is implemented in the function roll_time_series. Our window size will be 20 (we look at max 20 days in the past) and we disregard all windows which are shorter than 5 days."
      ],
      "id": "77e75456-3de8-443f-9bfc-cf7d0ca00c8a"
    },
    {
      "cell_type": "code",
      "execution_count": null,
      "metadata": {
        "id": "545deb72-224d-4a8b-84a4-cffbbfd8da8a",
        "colab": {
          "base_uri": "https://localhost:8080/"
        },
        "outputId": "0cb09aea-1c35-468b-9f0a-74c317e87ead"
      },
      "outputs": [
        {
          "output_type": "stream",
          "name": "stderr",
          "text": [
            "ERROR:numba.cuda.cudadrv.driver:Call to cuInit results in CUDA_ERROR_NO_DEVICE\n"
          ]
        }
      ],
      "source": [
        "\n",
        "%matplotlib inline\n",
        "\n",
        "import numpy as np\n",
        "import pandas as pd\n",
        "import matplotlib.pylab as plt\n",
        "\n",
        "from tsfresh import extract_features, select_features\n",
        "from tsfresh.utilities.dataframe_functions import roll_time_series, make_forecasting_frame\n",
        "from tsfresh.utilities.dataframe_functions import impute"
      ],
      "id": "545deb72-224d-4a8b-84a4-cffbbfd8da8a"
    },
    {
      "cell_type": "code",
      "execution_count": null,
      "metadata": {
        "colab": {
          "base_uri": "https://localhost:8080/"
        },
        "id": "452a5265-4407-451d-9be4-f7df0ff83d31",
        "outputId": "4695ea5d-c644-4e95-f947-69e13ca497ed"
      },
      "outputs": [
        {
          "output_type": "stream",
          "name": "stderr",
          "text": [
            "/usr/local/lib/python3.7/dist-packages/tsfresh/utilities/dataframe_functions.py:521: UserWarning: Your time stamps are not uniformly sampled, which makes rolling nonsensical in some domains.\n",
            "  \"Your time stamps are not uniformly sampled, which makes rolling \"\n",
            "Rolling: 100%|██████████| 5518/5518 [00:12<00:00, 426.37it/s]\n"
          ]
        }
      ],
      "source": [
        "df_rolled = roll_time_series(dd_melted, column_id=\"Ticker\", column_sort=\"Time\",\n",
        "                             max_timeshift=20, min_timeshift=5)"
      ],
      "id": "452a5265-4407-451d-9be4-f7df0ff83d31"
    },
    {
      "cell_type": "code",
      "execution_count": null,
      "metadata": {
        "colab": {
          "base_uri": "https://localhost:8080/",
          "height": 206
        },
        "id": "ce18018e-00c9-4e31-a070-1752bbe523e7",
        "outputId": "e595f1af-0ae3-4a21-fad9-9eb9b0b3fd1a"
      },
      "outputs": [
        {
          "output_type": "execute_result",
          "data": {
            "text/plain": [
              "        Time Ticker     Close                           id\n",
              "0 1999-11-01   ATVI       NaN  (ATVI, 1999-11-08 00:00:00)\n",
              "1 1999-11-02   ATVI  1.351351  (ATVI, 1999-11-08 00:00:00)\n",
              "2 1999-11-03   ATVI  1.754386  (ATVI, 1999-11-08 00:00:00)\n",
              "3 1999-11-04   ATVI  0.827586  (ATVI, 1999-11-08 00:00:00)\n",
              "4 1999-11-05   ATVI  5.198358  (ATVI, 1999-11-08 00:00:00)"
            ],
            "text/html": [
              "\n",
              "  <div id=\"df-a6a7eac3-df8f-4763-ba9f-d0c423d9dcc4\">\n",
              "    <div class=\"colab-df-container\">\n",
              "      <div>\n",
              "<style scoped>\n",
              "    .dataframe tbody tr th:only-of-type {\n",
              "        vertical-align: middle;\n",
              "    }\n",
              "\n",
              "    .dataframe tbody tr th {\n",
              "        vertical-align: top;\n",
              "    }\n",
              "\n",
              "    .dataframe thead th {\n",
              "        text-align: right;\n",
              "    }\n",
              "</style>\n",
              "<table border=\"1\" class=\"dataframe\">\n",
              "  <thead>\n",
              "    <tr style=\"text-align: right;\">\n",
              "      <th></th>\n",
              "      <th>Time</th>\n",
              "      <th>Ticker</th>\n",
              "      <th>Close</th>\n",
              "      <th>id</th>\n",
              "    </tr>\n",
              "  </thead>\n",
              "  <tbody>\n",
              "    <tr>\n",
              "      <th>0</th>\n",
              "      <td>1999-11-01</td>\n",
              "      <td>ATVI</td>\n",
              "      <td>NaN</td>\n",
              "      <td>(ATVI, 1999-11-08 00:00:00)</td>\n",
              "    </tr>\n",
              "    <tr>\n",
              "      <th>1</th>\n",
              "      <td>1999-11-02</td>\n",
              "      <td>ATVI</td>\n",
              "      <td>1.351351</td>\n",
              "      <td>(ATVI, 1999-11-08 00:00:00)</td>\n",
              "    </tr>\n",
              "    <tr>\n",
              "      <th>2</th>\n",
              "      <td>1999-11-03</td>\n",
              "      <td>ATVI</td>\n",
              "      <td>1.754386</td>\n",
              "      <td>(ATVI, 1999-11-08 00:00:00)</td>\n",
              "    </tr>\n",
              "    <tr>\n",
              "      <th>3</th>\n",
              "      <td>1999-11-04</td>\n",
              "      <td>ATVI</td>\n",
              "      <td>0.827586</td>\n",
              "      <td>(ATVI, 1999-11-08 00:00:00)</td>\n",
              "    </tr>\n",
              "    <tr>\n",
              "      <th>4</th>\n",
              "      <td>1999-11-05</td>\n",
              "      <td>ATVI</td>\n",
              "      <td>5.198358</td>\n",
              "      <td>(ATVI, 1999-11-08 00:00:00)</td>\n",
              "    </tr>\n",
              "  </tbody>\n",
              "</table>\n",
              "</div>\n",
              "      <button class=\"colab-df-convert\" onclick=\"convertToInteractive('df-a6a7eac3-df8f-4763-ba9f-d0c423d9dcc4')\"\n",
              "              title=\"Convert this dataframe to an interactive table.\"\n",
              "              style=\"display:none;\">\n",
              "        \n",
              "  <svg xmlns=\"http://www.w3.org/2000/svg\" height=\"24px\"viewBox=\"0 0 24 24\"\n",
              "       width=\"24px\">\n",
              "    <path d=\"M0 0h24v24H0V0z\" fill=\"none\"/>\n",
              "    <path d=\"M18.56 5.44l.94 2.06.94-2.06 2.06-.94-2.06-.94-.94-2.06-.94 2.06-2.06.94zm-11 1L8.5 8.5l.94-2.06 2.06-.94-2.06-.94L8.5 2.5l-.94 2.06-2.06.94zm10 10l.94 2.06.94-2.06 2.06-.94-2.06-.94-.94-2.06-.94 2.06-2.06.94z\"/><path d=\"M17.41 7.96l-1.37-1.37c-.4-.4-.92-.59-1.43-.59-.52 0-1.04.2-1.43.59L10.3 9.45l-7.72 7.72c-.78.78-.78 2.05 0 2.83L4 21.41c.39.39.9.59 1.41.59.51 0 1.02-.2 1.41-.59l7.78-7.78 2.81-2.81c.8-.78.8-2.07 0-2.86zM5.41 20L4 18.59l7.72-7.72 1.47 1.35L5.41 20z\"/>\n",
              "  </svg>\n",
              "      </button>\n",
              "      \n",
              "  <style>\n",
              "    .colab-df-container {\n",
              "      display:flex;\n",
              "      flex-wrap:wrap;\n",
              "      gap: 12px;\n",
              "    }\n",
              "\n",
              "    .colab-df-convert {\n",
              "      background-color: #E8F0FE;\n",
              "      border: none;\n",
              "      border-radius: 50%;\n",
              "      cursor: pointer;\n",
              "      display: none;\n",
              "      fill: #1967D2;\n",
              "      height: 32px;\n",
              "      padding: 0 0 0 0;\n",
              "      width: 32px;\n",
              "    }\n",
              "\n",
              "    .colab-df-convert:hover {\n",
              "      background-color: #E2EBFA;\n",
              "      box-shadow: 0px 1px 2px rgba(60, 64, 67, 0.3), 0px 1px 3px 1px rgba(60, 64, 67, 0.15);\n",
              "      fill: #174EA6;\n",
              "    }\n",
              "\n",
              "    [theme=dark] .colab-df-convert {\n",
              "      background-color: #3B4455;\n",
              "      fill: #D2E3FC;\n",
              "    }\n",
              "\n",
              "    [theme=dark] .colab-df-convert:hover {\n",
              "      background-color: #434B5C;\n",
              "      box-shadow: 0px 1px 3px 1px rgba(0, 0, 0, 0.15);\n",
              "      filter: drop-shadow(0px 1px 2px rgba(0, 0, 0, 0.3));\n",
              "      fill: #FFFFFF;\n",
              "    }\n",
              "  </style>\n",
              "\n",
              "      <script>\n",
              "        const buttonEl =\n",
              "          document.querySelector('#df-a6a7eac3-df8f-4763-ba9f-d0c423d9dcc4 button.colab-df-convert');\n",
              "        buttonEl.style.display =\n",
              "          google.colab.kernel.accessAllowed ? 'block' : 'none';\n",
              "\n",
              "        async function convertToInteractive(key) {\n",
              "          const element = document.querySelector('#df-a6a7eac3-df8f-4763-ba9f-d0c423d9dcc4');\n",
              "          const dataTable =\n",
              "            await google.colab.kernel.invokeFunction('convertToInteractive',\n",
              "                                                     [key], {});\n",
              "          if (!dataTable) return;\n",
              "\n",
              "          const docLinkHtml = 'Like what you see? Visit the ' +\n",
              "            '<a target=\"_blank\" href=https://colab.research.google.com/notebooks/data_table.ipynb>data table notebook</a>'\n",
              "            + ' to learn more about interactive tables.';\n",
              "          element.innerHTML = '';\n",
              "          dataTable['output_type'] = 'display_data';\n",
              "          await google.colab.output.renderOutput(dataTable, element);\n",
              "          const docLink = document.createElement('div');\n",
              "          docLink.innerHTML = docLinkHtml;\n",
              "          element.appendChild(docLink);\n",
              "        }\n",
              "      </script>\n",
              "    </div>\n",
              "  </div>\n",
              "  "
            ]
          },
          "metadata": {},
          "execution_count": 9
        }
      ],
      "source": [
        "df_rolled.head()"
      ],
      "id": "ce18018e-00c9-4e31-a070-1752bbe523e7"
    },
    {
      "cell_type": "markdown",
      "metadata": {
        "id": "4d422919-d4cd-4731-a7ab-586f31d59dc1"
      },
      "source": [
        "The resulting dataframe now consists of these \"windows\" stamped out of the original dataframe. For example all data with the id = (ATVI, 2020-07-14 00:00:00) comes from the original data of stock ATVI including the last 20 days until 2020-07-14:"
      ],
      "id": "4d422919-d4cd-4731-a7ab-586f31d59dc1"
    },
    {
      "cell_type": "code",
      "execution_count": null,
      "metadata": {
        "id": "981c401c-6553-483d-91fb-0cf4e1f0f7ac",
        "outputId": "f3962dca-704f-4c29-ab94-0b478ed864c2",
        "colab": {
          "base_uri": "https://localhost:8080/",
          "height": 708
        }
      },
      "outputs": [
        {
          "output_type": "execute_result",
          "data": {
            "text/plain": [
              "             Time Ticker     Close                           id\n",
              "109122 2020-06-15   ATVI  2.106585  (ATVI, 2020-07-14 00:00:00)\n",
              "109123 2020-06-16   ATVI -0.259598  (ATVI, 2020-07-14 00:00:00)\n",
              "109124 2020-06-17   ATVI  3.465753  (ATVI, 2020-07-14 00:00:00)\n",
              "109125 2020-06-18   ATVI  0.635509  (ATVI, 2020-07-14 00:00:00)\n",
              "109126 2020-06-19   ATVI  0.749901  (ATVI, 2020-07-14 00:00:00)\n",
              "109127 2020-06-22   ATVI -0.600679  (ATVI, 2020-07-14 00:00:00)\n",
              "109128 2020-06-23   ATVI  0.433526  (ATVI, 2020-07-14 00:00:00)\n",
              "109129 2020-06-24   ATVI -1.137999  (ATVI, 2020-07-14 00:00:00)\n",
              "109130 2020-06-25   ATVI  0.833554  (ATVI, 2020-07-14 00:00:00)\n",
              "109131 2020-06-26   ATVI  0.249311  (ATVI, 2020-07-14 00:00:00)\n",
              "109132 2020-06-29   ATVI -1.178010  (ATVI, 2020-07-14 00:00:00)\n",
              "109133 2020-06-30   ATVI  0.529801  (ATVI, 2020-07-14 00:00:00)\n",
              "109134 2020-07-01   ATVI  2.806324  (ATVI, 2020-07-14 00:00:00)\n",
              "109135 2020-07-02   ATVI -0.666410  (ATVI, 2020-07-14 00:00:00)\n",
              "109136 2020-07-06   ATVI  1.496581  (ATVI, 2020-07-14 00:00:00)\n",
              "109137 2020-07-07   ATVI -0.216093  (ATVI, 2020-07-14 00:00:00)\n",
              "109138 2020-07-08   ATVI  0.993631  (ATVI, 2020-07-14 00:00:00)\n",
              "109139 2020-07-09   ATVI  1.715439  (ATVI, 2020-07-14 00:00:00)\n",
              "109140 2020-07-10   ATVI  0.781250  (ATVI, 2020-07-14 00:00:00)\n",
              "109141 2020-07-13   ATVI -4.085148  (ATVI, 2020-07-14 00:00:00)\n",
              "109142 2020-07-14   ATVI  2.334830  (ATVI, 2020-07-14 00:00:00)"
            ],
            "text/html": [
              "\n",
              "  <div id=\"df-c64a779c-017a-47d0-b47e-635f58bbf4ba\">\n",
              "    <div class=\"colab-df-container\">\n",
              "      <div>\n",
              "<style scoped>\n",
              "    .dataframe tbody tr th:only-of-type {\n",
              "        vertical-align: middle;\n",
              "    }\n",
              "\n",
              "    .dataframe tbody tr th {\n",
              "        vertical-align: top;\n",
              "    }\n",
              "\n",
              "    .dataframe thead th {\n",
              "        text-align: right;\n",
              "    }\n",
              "</style>\n",
              "<table border=\"1\" class=\"dataframe\">\n",
              "  <thead>\n",
              "    <tr style=\"text-align: right;\">\n",
              "      <th></th>\n",
              "      <th>Time</th>\n",
              "      <th>Ticker</th>\n",
              "      <th>Close</th>\n",
              "      <th>id</th>\n",
              "    </tr>\n",
              "  </thead>\n",
              "  <tbody>\n",
              "    <tr>\n",
              "      <th>109122</th>\n",
              "      <td>2020-06-15</td>\n",
              "      <td>ATVI</td>\n",
              "      <td>2.106585</td>\n",
              "      <td>(ATVI, 2020-07-14 00:00:00)</td>\n",
              "    </tr>\n",
              "    <tr>\n",
              "      <th>109123</th>\n",
              "      <td>2020-06-16</td>\n",
              "      <td>ATVI</td>\n",
              "      <td>-0.259598</td>\n",
              "      <td>(ATVI, 2020-07-14 00:00:00)</td>\n",
              "    </tr>\n",
              "    <tr>\n",
              "      <th>109124</th>\n",
              "      <td>2020-06-17</td>\n",
              "      <td>ATVI</td>\n",
              "      <td>3.465753</td>\n",
              "      <td>(ATVI, 2020-07-14 00:00:00)</td>\n",
              "    </tr>\n",
              "    <tr>\n",
              "      <th>109125</th>\n",
              "      <td>2020-06-18</td>\n",
              "      <td>ATVI</td>\n",
              "      <td>0.635509</td>\n",
              "      <td>(ATVI, 2020-07-14 00:00:00)</td>\n",
              "    </tr>\n",
              "    <tr>\n",
              "      <th>109126</th>\n",
              "      <td>2020-06-19</td>\n",
              "      <td>ATVI</td>\n",
              "      <td>0.749901</td>\n",
              "      <td>(ATVI, 2020-07-14 00:00:00)</td>\n",
              "    </tr>\n",
              "    <tr>\n",
              "      <th>109127</th>\n",
              "      <td>2020-06-22</td>\n",
              "      <td>ATVI</td>\n",
              "      <td>-0.600679</td>\n",
              "      <td>(ATVI, 2020-07-14 00:00:00)</td>\n",
              "    </tr>\n",
              "    <tr>\n",
              "      <th>109128</th>\n",
              "      <td>2020-06-23</td>\n",
              "      <td>ATVI</td>\n",
              "      <td>0.433526</td>\n",
              "      <td>(ATVI, 2020-07-14 00:00:00)</td>\n",
              "    </tr>\n",
              "    <tr>\n",
              "      <th>109129</th>\n",
              "      <td>2020-06-24</td>\n",
              "      <td>ATVI</td>\n",
              "      <td>-1.137999</td>\n",
              "      <td>(ATVI, 2020-07-14 00:00:00)</td>\n",
              "    </tr>\n",
              "    <tr>\n",
              "      <th>109130</th>\n",
              "      <td>2020-06-25</td>\n",
              "      <td>ATVI</td>\n",
              "      <td>0.833554</td>\n",
              "      <td>(ATVI, 2020-07-14 00:00:00)</td>\n",
              "    </tr>\n",
              "    <tr>\n",
              "      <th>109131</th>\n",
              "      <td>2020-06-26</td>\n",
              "      <td>ATVI</td>\n",
              "      <td>0.249311</td>\n",
              "      <td>(ATVI, 2020-07-14 00:00:00)</td>\n",
              "    </tr>\n",
              "    <tr>\n",
              "      <th>109132</th>\n",
              "      <td>2020-06-29</td>\n",
              "      <td>ATVI</td>\n",
              "      <td>-1.178010</td>\n",
              "      <td>(ATVI, 2020-07-14 00:00:00)</td>\n",
              "    </tr>\n",
              "    <tr>\n",
              "      <th>109133</th>\n",
              "      <td>2020-06-30</td>\n",
              "      <td>ATVI</td>\n",
              "      <td>0.529801</td>\n",
              "      <td>(ATVI, 2020-07-14 00:00:00)</td>\n",
              "    </tr>\n",
              "    <tr>\n",
              "      <th>109134</th>\n",
              "      <td>2020-07-01</td>\n",
              "      <td>ATVI</td>\n",
              "      <td>2.806324</td>\n",
              "      <td>(ATVI, 2020-07-14 00:00:00)</td>\n",
              "    </tr>\n",
              "    <tr>\n",
              "      <th>109135</th>\n",
              "      <td>2020-07-02</td>\n",
              "      <td>ATVI</td>\n",
              "      <td>-0.666410</td>\n",
              "      <td>(ATVI, 2020-07-14 00:00:00)</td>\n",
              "    </tr>\n",
              "    <tr>\n",
              "      <th>109136</th>\n",
              "      <td>2020-07-06</td>\n",
              "      <td>ATVI</td>\n",
              "      <td>1.496581</td>\n",
              "      <td>(ATVI, 2020-07-14 00:00:00)</td>\n",
              "    </tr>\n",
              "    <tr>\n",
              "      <th>109137</th>\n",
              "      <td>2020-07-07</td>\n",
              "      <td>ATVI</td>\n",
              "      <td>-0.216093</td>\n",
              "      <td>(ATVI, 2020-07-14 00:00:00)</td>\n",
              "    </tr>\n",
              "    <tr>\n",
              "      <th>109138</th>\n",
              "      <td>2020-07-08</td>\n",
              "      <td>ATVI</td>\n",
              "      <td>0.993631</td>\n",
              "      <td>(ATVI, 2020-07-14 00:00:00)</td>\n",
              "    </tr>\n",
              "    <tr>\n",
              "      <th>109139</th>\n",
              "      <td>2020-07-09</td>\n",
              "      <td>ATVI</td>\n",
              "      <td>1.715439</td>\n",
              "      <td>(ATVI, 2020-07-14 00:00:00)</td>\n",
              "    </tr>\n",
              "    <tr>\n",
              "      <th>109140</th>\n",
              "      <td>2020-07-10</td>\n",
              "      <td>ATVI</td>\n",
              "      <td>0.781250</td>\n",
              "      <td>(ATVI, 2020-07-14 00:00:00)</td>\n",
              "    </tr>\n",
              "    <tr>\n",
              "      <th>109141</th>\n",
              "      <td>2020-07-13</td>\n",
              "      <td>ATVI</td>\n",
              "      <td>-4.085148</td>\n",
              "      <td>(ATVI, 2020-07-14 00:00:00)</td>\n",
              "    </tr>\n",
              "    <tr>\n",
              "      <th>109142</th>\n",
              "      <td>2020-07-14</td>\n",
              "      <td>ATVI</td>\n",
              "      <td>2.334830</td>\n",
              "      <td>(ATVI, 2020-07-14 00:00:00)</td>\n",
              "    </tr>\n",
              "  </tbody>\n",
              "</table>\n",
              "</div>\n",
              "      <button class=\"colab-df-convert\" onclick=\"convertToInteractive('df-c64a779c-017a-47d0-b47e-635f58bbf4ba')\"\n",
              "              title=\"Convert this dataframe to an interactive table.\"\n",
              "              style=\"display:none;\">\n",
              "        \n",
              "  <svg xmlns=\"http://www.w3.org/2000/svg\" height=\"24px\"viewBox=\"0 0 24 24\"\n",
              "       width=\"24px\">\n",
              "    <path d=\"M0 0h24v24H0V0z\" fill=\"none\"/>\n",
              "    <path d=\"M18.56 5.44l.94 2.06.94-2.06 2.06-.94-2.06-.94-.94-2.06-.94 2.06-2.06.94zm-11 1L8.5 8.5l.94-2.06 2.06-.94-2.06-.94L8.5 2.5l-.94 2.06-2.06.94zm10 10l.94 2.06.94-2.06 2.06-.94-2.06-.94-.94-2.06-.94 2.06-2.06.94z\"/><path d=\"M17.41 7.96l-1.37-1.37c-.4-.4-.92-.59-1.43-.59-.52 0-1.04.2-1.43.59L10.3 9.45l-7.72 7.72c-.78.78-.78 2.05 0 2.83L4 21.41c.39.39.9.59 1.41.59.51 0 1.02-.2 1.41-.59l7.78-7.78 2.81-2.81c.8-.78.8-2.07 0-2.86zM5.41 20L4 18.59l7.72-7.72 1.47 1.35L5.41 20z\"/>\n",
              "  </svg>\n",
              "      </button>\n",
              "      \n",
              "  <style>\n",
              "    .colab-df-container {\n",
              "      display:flex;\n",
              "      flex-wrap:wrap;\n",
              "      gap: 12px;\n",
              "    }\n",
              "\n",
              "    .colab-df-convert {\n",
              "      background-color: #E8F0FE;\n",
              "      border: none;\n",
              "      border-radius: 50%;\n",
              "      cursor: pointer;\n",
              "      display: none;\n",
              "      fill: #1967D2;\n",
              "      height: 32px;\n",
              "      padding: 0 0 0 0;\n",
              "      width: 32px;\n",
              "    }\n",
              "\n",
              "    .colab-df-convert:hover {\n",
              "      background-color: #E2EBFA;\n",
              "      box-shadow: 0px 1px 2px rgba(60, 64, 67, 0.3), 0px 1px 3px 1px rgba(60, 64, 67, 0.15);\n",
              "      fill: #174EA6;\n",
              "    }\n",
              "\n",
              "    [theme=dark] .colab-df-convert {\n",
              "      background-color: #3B4455;\n",
              "      fill: #D2E3FC;\n",
              "    }\n",
              "\n",
              "    [theme=dark] .colab-df-convert:hover {\n",
              "      background-color: #434B5C;\n",
              "      box-shadow: 0px 1px 3px 1px rgba(0, 0, 0, 0.15);\n",
              "      filter: drop-shadow(0px 1px 2px rgba(0, 0, 0, 0.3));\n",
              "      fill: #FFFFFF;\n",
              "    }\n",
              "  </style>\n",
              "\n",
              "      <script>\n",
              "        const buttonEl =\n",
              "          document.querySelector('#df-c64a779c-017a-47d0-b47e-635f58bbf4ba button.colab-df-convert');\n",
              "        buttonEl.style.display =\n",
              "          google.colab.kernel.accessAllowed ? 'block' : 'none';\n",
              "\n",
              "        async function convertToInteractive(key) {\n",
              "          const element = document.querySelector('#df-c64a779c-017a-47d0-b47e-635f58bbf4ba');\n",
              "          const dataTable =\n",
              "            await google.colab.kernel.invokeFunction('convertToInteractive',\n",
              "                                                     [key], {});\n",
              "          if (!dataTable) return;\n",
              "\n",
              "          const docLinkHtml = 'Like what you see? Visit the ' +\n",
              "            '<a target=\"_blank\" href=https://colab.research.google.com/notebooks/data_table.ipynb>data table notebook</a>'\n",
              "            + ' to learn more about interactive tables.';\n",
              "          element.innerHTML = '';\n",
              "          dataTable['output_type'] = 'display_data';\n",
              "          await google.colab.output.renderOutput(dataTable, element);\n",
              "          const docLink = document.createElement('div');\n",
              "          docLink.innerHTML = docLinkHtml;\n",
              "          element.appendChild(docLink);\n",
              "        }\n",
              "      </script>\n",
              "    </div>\n",
              "  </div>\n",
              "  "
            ]
          },
          "metadata": {},
          "execution_count": 10
        }
      ],
      "source": [
        "df_rolled[df_rolled[\"id\"] == (ticker, pd.to_datetime(\"2020-07-14\"))]"
      ],
      "id": "981c401c-6553-483d-91fb-0cf4e1f0f7ac"
    },
    {
      "cell_type": "code",
      "execution_count": null,
      "metadata": {
        "id": "1ec5152c-63e9-4304-8521-99cf24fb6ba1",
        "outputId": "53f63ffc-8a26-4618-fe40-d297d219cecb",
        "colab": {
          "base_uri": "https://localhost:8080/",
          "height": 708
        }
      },
      "outputs": [
        {
          "output_type": "execute_result",
          "data": {
            "text/plain": [
              "           Time Ticker     Close\n",
              "5187 2020-06-15   ATVI  2.106585\n",
              "5188 2020-06-16   ATVI -0.259598\n",
              "5189 2020-06-17   ATVI  3.465753\n",
              "5190 2020-06-18   ATVI  0.635509\n",
              "5191 2020-06-19   ATVI  0.749901\n",
              "5192 2020-06-22   ATVI -0.600679\n",
              "5193 2020-06-23   ATVI  0.433526\n",
              "5194 2020-06-24   ATVI -1.137999\n",
              "5195 2020-06-25   ATVI  0.833554\n",
              "5196 2020-06-26   ATVI  0.249311\n",
              "5197 2020-06-29   ATVI -1.178010\n",
              "5198 2020-06-30   ATVI  0.529801\n",
              "5199 2020-07-01   ATVI  2.806324\n",
              "5200 2020-07-02   ATVI -0.666410\n",
              "5201 2020-07-06   ATVI  1.496581\n",
              "5202 2020-07-07   ATVI -0.216093\n",
              "5203 2020-07-08   ATVI  0.993631\n",
              "5204 2020-07-09   ATVI  1.715439\n",
              "5205 2020-07-10   ATVI  0.781250\n",
              "5206 2020-07-13   ATVI -4.085148\n",
              "5207 2020-07-14   ATVI  2.334830"
            ],
            "text/html": [
              "\n",
              "  <div id=\"df-40468dd4-bc3f-4103-9963-74c4caf7d8b0\">\n",
              "    <div class=\"colab-df-container\">\n",
              "      <div>\n",
              "<style scoped>\n",
              "    .dataframe tbody tr th:only-of-type {\n",
              "        vertical-align: middle;\n",
              "    }\n",
              "\n",
              "    .dataframe tbody tr th {\n",
              "        vertical-align: top;\n",
              "    }\n",
              "\n",
              "    .dataframe thead th {\n",
              "        text-align: right;\n",
              "    }\n",
              "</style>\n",
              "<table border=\"1\" class=\"dataframe\">\n",
              "  <thead>\n",
              "    <tr style=\"text-align: right;\">\n",
              "      <th></th>\n",
              "      <th>Time</th>\n",
              "      <th>Ticker</th>\n",
              "      <th>Close</th>\n",
              "    </tr>\n",
              "  </thead>\n",
              "  <tbody>\n",
              "    <tr>\n",
              "      <th>5187</th>\n",
              "      <td>2020-06-15</td>\n",
              "      <td>ATVI</td>\n",
              "      <td>2.106585</td>\n",
              "    </tr>\n",
              "    <tr>\n",
              "      <th>5188</th>\n",
              "      <td>2020-06-16</td>\n",
              "      <td>ATVI</td>\n",
              "      <td>-0.259598</td>\n",
              "    </tr>\n",
              "    <tr>\n",
              "      <th>5189</th>\n",
              "      <td>2020-06-17</td>\n",
              "      <td>ATVI</td>\n",
              "      <td>3.465753</td>\n",
              "    </tr>\n",
              "    <tr>\n",
              "      <th>5190</th>\n",
              "      <td>2020-06-18</td>\n",
              "      <td>ATVI</td>\n",
              "      <td>0.635509</td>\n",
              "    </tr>\n",
              "    <tr>\n",
              "      <th>5191</th>\n",
              "      <td>2020-06-19</td>\n",
              "      <td>ATVI</td>\n",
              "      <td>0.749901</td>\n",
              "    </tr>\n",
              "    <tr>\n",
              "      <th>5192</th>\n",
              "      <td>2020-06-22</td>\n",
              "      <td>ATVI</td>\n",
              "      <td>-0.600679</td>\n",
              "    </tr>\n",
              "    <tr>\n",
              "      <th>5193</th>\n",
              "      <td>2020-06-23</td>\n",
              "      <td>ATVI</td>\n",
              "      <td>0.433526</td>\n",
              "    </tr>\n",
              "    <tr>\n",
              "      <th>5194</th>\n",
              "      <td>2020-06-24</td>\n",
              "      <td>ATVI</td>\n",
              "      <td>-1.137999</td>\n",
              "    </tr>\n",
              "    <tr>\n",
              "      <th>5195</th>\n",
              "      <td>2020-06-25</td>\n",
              "      <td>ATVI</td>\n",
              "      <td>0.833554</td>\n",
              "    </tr>\n",
              "    <tr>\n",
              "      <th>5196</th>\n",
              "      <td>2020-06-26</td>\n",
              "      <td>ATVI</td>\n",
              "      <td>0.249311</td>\n",
              "    </tr>\n",
              "    <tr>\n",
              "      <th>5197</th>\n",
              "      <td>2020-06-29</td>\n",
              "      <td>ATVI</td>\n",
              "      <td>-1.178010</td>\n",
              "    </tr>\n",
              "    <tr>\n",
              "      <th>5198</th>\n",
              "      <td>2020-06-30</td>\n",
              "      <td>ATVI</td>\n",
              "      <td>0.529801</td>\n",
              "    </tr>\n",
              "    <tr>\n",
              "      <th>5199</th>\n",
              "      <td>2020-07-01</td>\n",
              "      <td>ATVI</td>\n",
              "      <td>2.806324</td>\n",
              "    </tr>\n",
              "    <tr>\n",
              "      <th>5200</th>\n",
              "      <td>2020-07-02</td>\n",
              "      <td>ATVI</td>\n",
              "      <td>-0.666410</td>\n",
              "    </tr>\n",
              "    <tr>\n",
              "      <th>5201</th>\n",
              "      <td>2020-07-06</td>\n",
              "      <td>ATVI</td>\n",
              "      <td>1.496581</td>\n",
              "    </tr>\n",
              "    <tr>\n",
              "      <th>5202</th>\n",
              "      <td>2020-07-07</td>\n",
              "      <td>ATVI</td>\n",
              "      <td>-0.216093</td>\n",
              "    </tr>\n",
              "    <tr>\n",
              "      <th>5203</th>\n",
              "      <td>2020-07-08</td>\n",
              "      <td>ATVI</td>\n",
              "      <td>0.993631</td>\n",
              "    </tr>\n",
              "    <tr>\n",
              "      <th>5204</th>\n",
              "      <td>2020-07-09</td>\n",
              "      <td>ATVI</td>\n",
              "      <td>1.715439</td>\n",
              "    </tr>\n",
              "    <tr>\n",
              "      <th>5205</th>\n",
              "      <td>2020-07-10</td>\n",
              "      <td>ATVI</td>\n",
              "      <td>0.781250</td>\n",
              "    </tr>\n",
              "    <tr>\n",
              "      <th>5206</th>\n",
              "      <td>2020-07-13</td>\n",
              "      <td>ATVI</td>\n",
              "      <td>-4.085148</td>\n",
              "    </tr>\n",
              "    <tr>\n",
              "      <th>5207</th>\n",
              "      <td>2020-07-14</td>\n",
              "      <td>ATVI</td>\n",
              "      <td>2.334830</td>\n",
              "    </tr>\n",
              "  </tbody>\n",
              "</table>\n",
              "</div>\n",
              "      <button class=\"colab-df-convert\" onclick=\"convertToInteractive('df-40468dd4-bc3f-4103-9963-74c4caf7d8b0')\"\n",
              "              title=\"Convert this dataframe to an interactive table.\"\n",
              "              style=\"display:none;\">\n",
              "        \n",
              "  <svg xmlns=\"http://www.w3.org/2000/svg\" height=\"24px\"viewBox=\"0 0 24 24\"\n",
              "       width=\"24px\">\n",
              "    <path d=\"M0 0h24v24H0V0z\" fill=\"none\"/>\n",
              "    <path d=\"M18.56 5.44l.94 2.06.94-2.06 2.06-.94-2.06-.94-.94-2.06-.94 2.06-2.06.94zm-11 1L8.5 8.5l.94-2.06 2.06-.94-2.06-.94L8.5 2.5l-.94 2.06-2.06.94zm10 10l.94 2.06.94-2.06 2.06-.94-2.06-.94-.94-2.06-.94 2.06-2.06.94z\"/><path d=\"M17.41 7.96l-1.37-1.37c-.4-.4-.92-.59-1.43-.59-.52 0-1.04.2-1.43.59L10.3 9.45l-7.72 7.72c-.78.78-.78 2.05 0 2.83L4 21.41c.39.39.9.59 1.41.59.51 0 1.02-.2 1.41-.59l7.78-7.78 2.81-2.81c.8-.78.8-2.07 0-2.86zM5.41 20L4 18.59l7.72-7.72 1.47 1.35L5.41 20z\"/>\n",
              "  </svg>\n",
              "      </button>\n",
              "      \n",
              "  <style>\n",
              "    .colab-df-container {\n",
              "      display:flex;\n",
              "      flex-wrap:wrap;\n",
              "      gap: 12px;\n",
              "    }\n",
              "\n",
              "    .colab-df-convert {\n",
              "      background-color: #E8F0FE;\n",
              "      border: none;\n",
              "      border-radius: 50%;\n",
              "      cursor: pointer;\n",
              "      display: none;\n",
              "      fill: #1967D2;\n",
              "      height: 32px;\n",
              "      padding: 0 0 0 0;\n",
              "      width: 32px;\n",
              "    }\n",
              "\n",
              "    .colab-df-convert:hover {\n",
              "      background-color: #E2EBFA;\n",
              "      box-shadow: 0px 1px 2px rgba(60, 64, 67, 0.3), 0px 1px 3px 1px rgba(60, 64, 67, 0.15);\n",
              "      fill: #174EA6;\n",
              "    }\n",
              "\n",
              "    [theme=dark] .colab-df-convert {\n",
              "      background-color: #3B4455;\n",
              "      fill: #D2E3FC;\n",
              "    }\n",
              "\n",
              "    [theme=dark] .colab-df-convert:hover {\n",
              "      background-color: #434B5C;\n",
              "      box-shadow: 0px 1px 3px 1px rgba(0, 0, 0, 0.15);\n",
              "      filter: drop-shadow(0px 1px 2px rgba(0, 0, 0, 0.3));\n",
              "      fill: #FFFFFF;\n",
              "    }\n",
              "  </style>\n",
              "\n",
              "      <script>\n",
              "        const buttonEl =\n",
              "          document.querySelector('#df-40468dd4-bc3f-4103-9963-74c4caf7d8b0 button.colab-df-convert');\n",
              "        buttonEl.style.display =\n",
              "          google.colab.kernel.accessAllowed ? 'block' : 'none';\n",
              "\n",
              "        async function convertToInteractive(key) {\n",
              "          const element = document.querySelector('#df-40468dd4-bc3f-4103-9963-74c4caf7d8b0');\n",
              "          const dataTable =\n",
              "            await google.colab.kernel.invokeFunction('convertToInteractive',\n",
              "                                                     [key], {});\n",
              "          if (!dataTable) return;\n",
              "\n",
              "          const docLinkHtml = 'Like what you see? Visit the ' +\n",
              "            '<a target=\"_blank\" href=https://colab.research.google.com/notebooks/data_table.ipynb>data table notebook</a>'\n",
              "            + ' to learn more about interactive tables.';\n",
              "          element.innerHTML = '';\n",
              "          dataTable['output_type'] = 'display_data';\n",
              "          await google.colab.output.renderOutput(dataTable, element);\n",
              "          const docLink = document.createElement('div');\n",
              "          docLink.innerHTML = docLinkHtml;\n",
              "          element.appendChild(docLink);\n",
              "        }\n",
              "      </script>\n",
              "    </div>\n",
              "  </div>\n",
              "  "
            ]
          },
          "metadata": {},
          "execution_count": 11
        }
      ],
      "source": [
        "dd_melted[(dd_melted[\"Time\"] <= pd.to_datetime(\"2020-07-14\")) &\n",
        "          (dd_melted[\"Time\"] >= pd.to_datetime(\"2020-06-15\")) &\n",
        "          (dd_melted[\"Ticker\"] == ticker)]"
      ],
      "id": "1ec5152c-63e9-4304-8521-99cf24fb6ba1"
    },
    {
      "cell_type": "markdown",
      "metadata": {
        "id": "023fd5a7-2e25-49a5-aa0d-0f57e326a576"
      },
      "source": [
        "If you now group by the new id column, each of the groups will be a certain stock symbol until and including the data until a certain day (and including the last 20 days in the past).\n",
        "\n",
        "Whereas we started with 5518 data samples:"
      ],
      "id": "023fd5a7-2e25-49a5-aa0d-0f57e326a576"
    },
    {
      "cell_type": "code",
      "execution_count": null,
      "metadata": {
        "id": "eb1601cb-8f80-44d9-879c-5210c27109dd",
        "outputId": "2d1eef57-8673-4f84-d67b-bb5a8c89b43b",
        "colab": {
          "base_uri": "https://localhost:8080/"
        }
      },
      "outputs": [
        {
          "output_type": "execute_result",
          "data": {
            "text/plain": [
              "5518"
            ]
          },
          "metadata": {},
          "execution_count": 12
        }
      ],
      "source": [
        "len(dd_melted)"
      ],
      "id": "eb1601cb-8f80-44d9-879c-5210c27109dd"
    },
    {
      "cell_type": "markdown",
      "metadata": {
        "id": "ea7e9e68-dff5-4780-931b-e3658316292c"
      },
      "source": [
        "we now have 5513 unique windows (identified by stock symbol and ending date):"
      ],
      "id": "ea7e9e68-dff5-4780-931b-e3658316292c"
    },
    {
      "cell_type": "code",
      "execution_count": null,
      "metadata": {
        "id": "ac92b698-6d68-4f0c-92c8-4e62d6a0240f",
        "outputId": "6339b543-0ecc-4618-e82e-42d950c4eed9",
        "colab": {
          "base_uri": "https://localhost:8080/"
        }
      },
      "outputs": [
        {
          "output_type": "execute_result",
          "data": {
            "text/plain": [
              "5513"
            ]
          },
          "metadata": {},
          "execution_count": 13
        }
      ],
      "source": [
        "df_rolled[\"id\"].nunique()"
      ],
      "id": "ac92b698-6d68-4f0c-92c8-4e62d6a0240f"
    },
    {
      "cell_type": "markdown",
      "metadata": {
        "id": "3b393d84-7134-480a-8a66-f8a002a5e09b"
      },
      "source": [
        "We \"lost\" 5 windows, as we required to have a minimum history of more than 5 days."
      ],
      "id": "3b393d84-7134-480a-8a66-f8a002a5e09b"
    },
    {
      "cell_type": "code",
      "execution_count": null,
      "metadata": {
        "id": "e5d9b579-7a83-48fb-82c6-608babc7c3c6",
        "outputId": "77777e74-cd28-4c32-9d7a-f9f6081d33ba",
        "colab": {
          "base_uri": "https://localhost:8080/"
        }
      },
      "outputs": [
        {
          "output_type": "execute_result",
          "data": {
            "text/plain": [
              "amin     6\n",
              "amax    21\n",
              "dtype: int64"
            ]
          },
          "metadata": {},
          "execution_count": 14
        }
      ],
      "source": [
        "df_rolled.groupby(\"id\").size().agg([np.min, np.max])"
      ],
      "id": "e5d9b579-7a83-48fb-82c6-608babc7c3c6"
    },
    {
      "cell_type": "markdown",
      "metadata": {
        "id": "448f8fe2-90a7-49ad-8c16-b076b80154df"
      },
      "source": [
        "# Extract Features\n",
        "\n",
        "The rolled (windowed) data sample is now in the correct format to use it for tsfreshs feature extraction. As normal, features will be extracted using all data for a given id, which is in our case all data of a given window and a given id (one colored box in the graph above).\n",
        "\n",
        "If the feature extraction returns a row with the index (ATVI, 2020-07-14 00:00:00), you know it has been calculated using the ATVI data up and including 2020-07-14 (and 20 days of history)."
      ],
      "id": "448f8fe2-90a7-49ad-8c16-b076b80154df"
    },
    {
      "cell_type": "code",
      "execution_count": null,
      "metadata": {
        "id": "6f68e17f-b9aa-4873-8f94-b638be5be23e",
        "outputId": "3e606713-aef6-43e3-b86c-ff400097cb78",
        "colab": {
          "base_uri": "https://localhost:8080/"
        }
      },
      "outputs": [
        {
          "output_type": "stream",
          "name": "stderr",
          "text": [
            "Feature Extraction: 100%|██████████| 5513/5513 [05:54<00:00, 15.54it/s]\n"
          ]
        }
      ],
      "source": [
        "X = extract_features(df_rolled.drop(\"Ticker\", axis=1).fillna(0),\n",
        "                     column_id=\"id\", column_sort=\"Time\", column_value=\"Close\",\n",
        "                     impute_function=impute, show_warnings=False)"
      ],
      "id": "6f68e17f-b9aa-4873-8f94-b638be5be23e"
    },
    {
      "cell_type": "code",
      "execution_count": null,
      "metadata": {
        "id": "3026fd21-3ce5-4f01-ace2-ba6aa553db5e",
        "colab": {
          "base_uri": "https://localhost:8080/",
          "height": 386
        },
        "outputId": "57780a6f-3560-4646-aa6c-6c994cd78bfe"
      },
      "outputs": [
        {
          "output_type": "execute_result",
          "data": {
            "text/plain": [
              "                 Close__variance_larger_than_standard_deviation  \\\n",
              "ATVI 1999-11-08                                             1.0   \n",
              "     1999-11-09                                             1.0   \n",
              "     1999-11-10                                             1.0   \n",
              "     1999-11-11                                             1.0   \n",
              "     1999-11-12                                             1.0   \n",
              "\n",
              "                 Close__has_duplicate_max  Close__has_duplicate_min  \\\n",
              "ATVI 1999-11-08                       0.0                       0.0   \n",
              "     1999-11-09                       0.0                       0.0   \n",
              "     1999-11-10                       0.0                       0.0   \n",
              "     1999-11-11                       0.0                       0.0   \n",
              "     1999-11-12                       0.0                       0.0   \n",
              "\n",
              "                 Close__has_duplicate  Close__sum_values  Close__abs_energy  \\\n",
              "ATVI 1999-11-08                   0.0          13.162891          48.862499   \n",
              "     1999-11-09                   0.0          10.412891          56.424999   \n",
              "     1999-11-10                   0.0           8.034999          62.079369   \n",
              "     1999-11-11                   0.0           5.533353          68.337601   \n",
              "     1999-11-12                   0.0           0.469208          93.983174   \n",
              "\n",
              "                 Close__mean_abs_change  Close__mean_change  \\\n",
              "ATVI 1999-11-08                1.643821            0.806242   \n",
              "     1999-11-09                2.500053           -0.458333   \n",
              "     1999-11-10                2.196061           -0.339699   \n",
              "     1999-11-11                1.937022           -0.312706   \n",
              "     1999-11-12                2.006520           -0.562683   \n",
              "\n",
              "                 Close__mean_second_derivative_central  Close__median  ...  \\\n",
              "ATVI 1999-11-08                              -0.314813       1.552869  ...   \n",
              "     1999-11-09                              -0.813256       1.351351  ...   \n",
              "     1999-11-10                              -0.081604       1.089469  ...   \n",
              "     1999-11-11                              -0.105365       0.827586  ...   \n",
              "     1999-11-12                              -0.244616       0.413793  ...   \n",
              "\n",
              "                 Close__permutation_entropy__dimension_6__tau_1  \\\n",
              "ATVI 1999-11-08                                       -0.000000   \n",
              "     1999-11-09                                        0.693147   \n",
              "     1999-11-10                                        1.098612   \n",
              "     1999-11-11                                        1.386294   \n",
              "     1999-11-12                                        1.609438   \n",
              "\n",
              "                 Close__permutation_entropy__dimension_7__tau_1  \\\n",
              "ATVI 1999-11-08                                        2.708050   \n",
              "     1999-11-09                                       -0.000000   \n",
              "     1999-11-10                                        0.693147   \n",
              "     1999-11-11                                        1.098612   \n",
              "     1999-11-12                                        1.386294   \n",
              "\n",
              "                 Close__query_similarity_count__query_None__threshold_0.0  \\\n",
              "ATVI 1999-11-08                                                0.0          \n",
              "     1999-11-09                                                0.0          \n",
              "     1999-11-10                                                0.0          \n",
              "     1999-11-11                                                0.0          \n",
              "     1999-11-12                                                0.0          \n",
              "\n",
              "                 Close__matrix_profile__feature_\"min\"__threshold_0.98  \\\n",
              "ATVI 1999-11-08                                                0.0      \n",
              "     1999-11-09                                                0.0      \n",
              "     1999-11-10                                                0.0      \n",
              "     1999-11-11                                                0.0      \n",
              "     1999-11-12                                                0.0      \n",
              "\n",
              "                 Close__matrix_profile__feature_\"max\"__threshold_0.98  \\\n",
              "ATVI 1999-11-08                                                0.0      \n",
              "     1999-11-09                                                0.0      \n",
              "     1999-11-10                                                0.0      \n",
              "     1999-11-11                                                0.0      \n",
              "     1999-11-12                                                0.0      \n",
              "\n",
              "                 Close__matrix_profile__feature_\"mean\"__threshold_0.98  \\\n",
              "ATVI 1999-11-08                                                0.0       \n",
              "     1999-11-09                                                0.0       \n",
              "     1999-11-10                                                0.0       \n",
              "     1999-11-11                                                0.0       \n",
              "     1999-11-12                                                0.0       \n",
              "\n",
              "                 Close__matrix_profile__feature_\"median\"__threshold_0.98  \\\n",
              "ATVI 1999-11-08                                                0.0         \n",
              "     1999-11-09                                                0.0         \n",
              "     1999-11-10                                                0.0         \n",
              "     1999-11-11                                                0.0         \n",
              "     1999-11-12                                                0.0         \n",
              "\n",
              "                 Close__matrix_profile__feature_\"25\"__threshold_0.98  \\\n",
              "ATVI 1999-11-08                                                0.0     \n",
              "     1999-11-09                                                0.0     \n",
              "     1999-11-10                                                0.0     \n",
              "     1999-11-11                                                0.0     \n",
              "     1999-11-12                                                0.0     \n",
              "\n",
              "                 Close__matrix_profile__feature_\"75\"__threshold_0.98  \\\n",
              "ATVI 1999-11-08                                                0.0     \n",
              "     1999-11-09                                                0.0     \n",
              "     1999-11-10                                                0.0     \n",
              "     1999-11-11                                                0.0     \n",
              "     1999-11-12                                                0.0     \n",
              "\n",
              "                 Close__mean_n_absolute_max__number_of_maxima_7  \n",
              "ATVI 1999-11-08                                        2.993663  \n",
              "     1999-11-09                                        2.993663  \n",
              "     1999-11-10                                        2.612969  \n",
              "     1999-11-11                                        2.852120  \n",
              "     1999-11-12                                        3.382520  \n",
              "\n",
              "[5 rows x 789 columns]"
            ],
            "text/html": [
              "\n",
              "  <div id=\"df-fe4f82a7-c3e1-4e73-be5b-46254dabbe59\">\n",
              "    <div class=\"colab-df-container\">\n",
              "      <div>\n",
              "<style scoped>\n",
              "    .dataframe tbody tr th:only-of-type {\n",
              "        vertical-align: middle;\n",
              "    }\n",
              "\n",
              "    .dataframe tbody tr th {\n",
              "        vertical-align: top;\n",
              "    }\n",
              "\n",
              "    .dataframe thead th {\n",
              "        text-align: right;\n",
              "    }\n",
              "</style>\n",
              "<table border=\"1\" class=\"dataframe\">\n",
              "  <thead>\n",
              "    <tr style=\"text-align: right;\">\n",
              "      <th></th>\n",
              "      <th></th>\n",
              "      <th>Close__variance_larger_than_standard_deviation</th>\n",
              "      <th>Close__has_duplicate_max</th>\n",
              "      <th>Close__has_duplicate_min</th>\n",
              "      <th>Close__has_duplicate</th>\n",
              "      <th>Close__sum_values</th>\n",
              "      <th>Close__abs_energy</th>\n",
              "      <th>Close__mean_abs_change</th>\n",
              "      <th>Close__mean_change</th>\n",
              "      <th>Close__mean_second_derivative_central</th>\n",
              "      <th>Close__median</th>\n",
              "      <th>...</th>\n",
              "      <th>Close__permutation_entropy__dimension_6__tau_1</th>\n",
              "      <th>Close__permutation_entropy__dimension_7__tau_1</th>\n",
              "      <th>Close__query_similarity_count__query_None__threshold_0.0</th>\n",
              "      <th>Close__matrix_profile__feature_\"min\"__threshold_0.98</th>\n",
              "      <th>Close__matrix_profile__feature_\"max\"__threshold_0.98</th>\n",
              "      <th>Close__matrix_profile__feature_\"mean\"__threshold_0.98</th>\n",
              "      <th>Close__matrix_profile__feature_\"median\"__threshold_0.98</th>\n",
              "      <th>Close__matrix_profile__feature_\"25\"__threshold_0.98</th>\n",
              "      <th>Close__matrix_profile__feature_\"75\"__threshold_0.98</th>\n",
              "      <th>Close__mean_n_absolute_max__number_of_maxima_7</th>\n",
              "    </tr>\n",
              "  </thead>\n",
              "  <tbody>\n",
              "    <tr>\n",
              "      <th rowspan=\"5\" valign=\"top\">ATVI</th>\n",
              "      <th>1999-11-08</th>\n",
              "      <td>1.0</td>\n",
              "      <td>0.0</td>\n",
              "      <td>0.0</td>\n",
              "      <td>0.0</td>\n",
              "      <td>13.162891</td>\n",
              "      <td>48.862499</td>\n",
              "      <td>1.643821</td>\n",
              "      <td>0.806242</td>\n",
              "      <td>-0.314813</td>\n",
              "      <td>1.552869</td>\n",
              "      <td>...</td>\n",
              "      <td>-0.000000</td>\n",
              "      <td>2.708050</td>\n",
              "      <td>0.0</td>\n",
              "      <td>0.0</td>\n",
              "      <td>0.0</td>\n",
              "      <td>0.0</td>\n",
              "      <td>0.0</td>\n",
              "      <td>0.0</td>\n",
              "      <td>0.0</td>\n",
              "      <td>2.993663</td>\n",
              "    </tr>\n",
              "    <tr>\n",
              "      <th>1999-11-09</th>\n",
              "      <td>1.0</td>\n",
              "      <td>0.0</td>\n",
              "      <td>0.0</td>\n",
              "      <td>0.0</td>\n",
              "      <td>10.412891</td>\n",
              "      <td>56.424999</td>\n",
              "      <td>2.500053</td>\n",
              "      <td>-0.458333</td>\n",
              "      <td>-0.813256</td>\n",
              "      <td>1.351351</td>\n",
              "      <td>...</td>\n",
              "      <td>0.693147</td>\n",
              "      <td>-0.000000</td>\n",
              "      <td>0.0</td>\n",
              "      <td>0.0</td>\n",
              "      <td>0.0</td>\n",
              "      <td>0.0</td>\n",
              "      <td>0.0</td>\n",
              "      <td>0.0</td>\n",
              "      <td>0.0</td>\n",
              "      <td>2.993663</td>\n",
              "    </tr>\n",
              "    <tr>\n",
              "      <th>1999-11-10</th>\n",
              "      <td>1.0</td>\n",
              "      <td>0.0</td>\n",
              "      <td>0.0</td>\n",
              "      <td>0.0</td>\n",
              "      <td>8.034999</td>\n",
              "      <td>62.079369</td>\n",
              "      <td>2.196061</td>\n",
              "      <td>-0.339699</td>\n",
              "      <td>-0.081604</td>\n",
              "      <td>1.089469</td>\n",
              "      <td>...</td>\n",
              "      <td>1.098612</td>\n",
              "      <td>0.693147</td>\n",
              "      <td>0.0</td>\n",
              "      <td>0.0</td>\n",
              "      <td>0.0</td>\n",
              "      <td>0.0</td>\n",
              "      <td>0.0</td>\n",
              "      <td>0.0</td>\n",
              "      <td>0.0</td>\n",
              "      <td>2.612969</td>\n",
              "    </tr>\n",
              "    <tr>\n",
              "      <th>1999-11-11</th>\n",
              "      <td>1.0</td>\n",
              "      <td>0.0</td>\n",
              "      <td>0.0</td>\n",
              "      <td>0.0</td>\n",
              "      <td>5.533353</td>\n",
              "      <td>68.337601</td>\n",
              "      <td>1.937022</td>\n",
              "      <td>-0.312706</td>\n",
              "      <td>-0.105365</td>\n",
              "      <td>0.827586</td>\n",
              "      <td>...</td>\n",
              "      <td>1.386294</td>\n",
              "      <td>1.098612</td>\n",
              "      <td>0.0</td>\n",
              "      <td>0.0</td>\n",
              "      <td>0.0</td>\n",
              "      <td>0.0</td>\n",
              "      <td>0.0</td>\n",
              "      <td>0.0</td>\n",
              "      <td>0.0</td>\n",
              "      <td>2.852120</td>\n",
              "    </tr>\n",
              "    <tr>\n",
              "      <th>1999-11-12</th>\n",
              "      <td>1.0</td>\n",
              "      <td>0.0</td>\n",
              "      <td>0.0</td>\n",
              "      <td>0.0</td>\n",
              "      <td>0.469208</td>\n",
              "      <td>93.983174</td>\n",
              "      <td>2.006520</td>\n",
              "      <td>-0.562683</td>\n",
              "      <td>-0.244616</td>\n",
              "      <td>0.413793</td>\n",
              "      <td>...</td>\n",
              "      <td>1.609438</td>\n",
              "      <td>1.386294</td>\n",
              "      <td>0.0</td>\n",
              "      <td>0.0</td>\n",
              "      <td>0.0</td>\n",
              "      <td>0.0</td>\n",
              "      <td>0.0</td>\n",
              "      <td>0.0</td>\n",
              "      <td>0.0</td>\n",
              "      <td>3.382520</td>\n",
              "    </tr>\n",
              "  </tbody>\n",
              "</table>\n",
              "<p>5 rows × 789 columns</p>\n",
              "</div>\n",
              "      <button class=\"colab-df-convert\" onclick=\"convertToInteractive('df-fe4f82a7-c3e1-4e73-be5b-46254dabbe59')\"\n",
              "              title=\"Convert this dataframe to an interactive table.\"\n",
              "              style=\"display:none;\">\n",
              "        \n",
              "  <svg xmlns=\"http://www.w3.org/2000/svg\" height=\"24px\"viewBox=\"0 0 24 24\"\n",
              "       width=\"24px\">\n",
              "    <path d=\"M0 0h24v24H0V0z\" fill=\"none\"/>\n",
              "    <path d=\"M18.56 5.44l.94 2.06.94-2.06 2.06-.94-2.06-.94-.94-2.06-.94 2.06-2.06.94zm-11 1L8.5 8.5l.94-2.06 2.06-.94-2.06-.94L8.5 2.5l-.94 2.06-2.06.94zm10 10l.94 2.06.94-2.06 2.06-.94-2.06-.94-.94-2.06-.94 2.06-2.06.94z\"/><path d=\"M17.41 7.96l-1.37-1.37c-.4-.4-.92-.59-1.43-.59-.52 0-1.04.2-1.43.59L10.3 9.45l-7.72 7.72c-.78.78-.78 2.05 0 2.83L4 21.41c.39.39.9.59 1.41.59.51 0 1.02-.2 1.41-.59l7.78-7.78 2.81-2.81c.8-.78.8-2.07 0-2.86zM5.41 20L4 18.59l7.72-7.72 1.47 1.35L5.41 20z\"/>\n",
              "  </svg>\n",
              "      </button>\n",
              "      \n",
              "  <style>\n",
              "    .colab-df-container {\n",
              "      display:flex;\n",
              "      flex-wrap:wrap;\n",
              "      gap: 12px;\n",
              "    }\n",
              "\n",
              "    .colab-df-convert {\n",
              "      background-color: #E8F0FE;\n",
              "      border: none;\n",
              "      border-radius: 50%;\n",
              "      cursor: pointer;\n",
              "      display: none;\n",
              "      fill: #1967D2;\n",
              "      height: 32px;\n",
              "      padding: 0 0 0 0;\n",
              "      width: 32px;\n",
              "    }\n",
              "\n",
              "    .colab-df-convert:hover {\n",
              "      background-color: #E2EBFA;\n",
              "      box-shadow: 0px 1px 2px rgba(60, 64, 67, 0.3), 0px 1px 3px 1px rgba(60, 64, 67, 0.15);\n",
              "      fill: #174EA6;\n",
              "    }\n",
              "\n",
              "    [theme=dark] .colab-df-convert {\n",
              "      background-color: #3B4455;\n",
              "      fill: #D2E3FC;\n",
              "    }\n",
              "\n",
              "    [theme=dark] .colab-df-convert:hover {\n",
              "      background-color: #434B5C;\n",
              "      box-shadow: 0px 1px 3px 1px rgba(0, 0, 0, 0.15);\n",
              "      filter: drop-shadow(0px 1px 2px rgba(0, 0, 0, 0.3));\n",
              "      fill: #FFFFFF;\n",
              "    }\n",
              "  </style>\n",
              "\n",
              "      <script>\n",
              "        const buttonEl =\n",
              "          document.querySelector('#df-fe4f82a7-c3e1-4e73-be5b-46254dabbe59 button.colab-df-convert');\n",
              "        buttonEl.style.display =\n",
              "          google.colab.kernel.accessAllowed ? 'block' : 'none';\n",
              "\n",
              "        async function convertToInteractive(key) {\n",
              "          const element = document.querySelector('#df-fe4f82a7-c3e1-4e73-be5b-46254dabbe59');\n",
              "          const dataTable =\n",
              "            await google.colab.kernel.invokeFunction('convertToInteractive',\n",
              "                                                     [key], {});\n",
              "          if (!dataTable) return;\n",
              "\n",
              "          const docLinkHtml = 'Like what you see? Visit the ' +\n",
              "            '<a target=\"_blank\" href=https://colab.research.google.com/notebooks/data_table.ipynb>data table notebook</a>'\n",
              "            + ' to learn more about interactive tables.';\n",
              "          element.innerHTML = '';\n",
              "          dataTable['output_type'] = 'display_data';\n",
              "          await google.colab.output.renderOutput(dataTable, element);\n",
              "          const docLink = document.createElement('div');\n",
              "          docLink.innerHTML = docLinkHtml;\n",
              "          element.appendChild(docLink);\n",
              "        }\n",
              "      </script>\n",
              "    </div>\n",
              "  </div>\n",
              "  "
            ]
          },
          "metadata": {},
          "execution_count": 16
        }
      ],
      "source": [
        "X.head()"
      ],
      "id": "3026fd21-3ce5-4f01-ace2-ba6aa553db5e"
    },
    {
      "cell_type": "code",
      "source": [
        "X.shape"
      ],
      "metadata": {
        "colab": {
          "base_uri": "https://localhost:8080/"
        },
        "id": "stlh2ysjwCOy",
        "outputId": "b87eac20-601b-4e5f-84e8-e7dfc25d8ea0"
      },
      "id": "stlh2ysjwCOy",
      "execution_count": null,
      "outputs": [
        {
          "output_type": "execute_result",
          "data": {
            "text/plain": [
              "(5513, 789)"
            ]
          },
          "metadata": {},
          "execution_count": 17
        }
      ]
    },
    {
      "cell_type": "markdown",
      "metadata": {
        "id": "ca3086c6-9b95-4b8d-ae8d-cfb1dd809277"
      },
      "source": [
        "We make the data a bit easier to work with by removing the tuple-index"
      ],
      "id": "ca3086c6-9b95-4b8d-ae8d-cfb1dd809277"
    },
    {
      "cell_type": "code",
      "execution_count": null,
      "metadata": {
        "id": "ffc87f44-4488-48ad-bac4-19ca7ca98ce2",
        "colab": {
          "base_uri": "https://localhost:8080/",
          "height": 418
        },
        "outputId": "1dec38dc-767b-4843-e19c-e64470cb1560"
      },
      "outputs": [
        {
          "output_type": "execute_result",
          "data": {
            "text/plain": [
              "            Close__variance_larger_than_standard_deviation  \\\n",
              "last_date                                                    \n",
              "1999-11-08                                             1.0   \n",
              "1999-11-09                                             1.0   \n",
              "1999-11-10                                             1.0   \n",
              "1999-11-11                                             1.0   \n",
              "1999-11-12                                             1.0   \n",
              "\n",
              "            Close__has_duplicate_max  Close__has_duplicate_min  \\\n",
              "last_date                                                        \n",
              "1999-11-08                       0.0                       0.0   \n",
              "1999-11-09                       0.0                       0.0   \n",
              "1999-11-10                       0.0                       0.0   \n",
              "1999-11-11                       0.0                       0.0   \n",
              "1999-11-12                       0.0                       0.0   \n",
              "\n",
              "            Close__has_duplicate  Close__sum_values  Close__abs_energy  \\\n",
              "last_date                                                                \n",
              "1999-11-08                   0.0          13.162891          48.862499   \n",
              "1999-11-09                   0.0          10.412891          56.424999   \n",
              "1999-11-10                   0.0           8.034999          62.079369   \n",
              "1999-11-11                   0.0           5.533353          68.337601   \n",
              "1999-11-12                   0.0           0.469208          93.983174   \n",
              "\n",
              "            Close__mean_abs_change  Close__mean_change  \\\n",
              "last_date                                                \n",
              "1999-11-08                1.643821            0.806242   \n",
              "1999-11-09                2.500053           -0.458333   \n",
              "1999-11-10                2.196061           -0.339699   \n",
              "1999-11-11                1.937022           -0.312706   \n",
              "1999-11-12                2.006520           -0.562683   \n",
              "\n",
              "            Close__mean_second_derivative_central  Close__median  ...  \\\n",
              "last_date                                                         ...   \n",
              "1999-11-08                              -0.314813       1.552869  ...   \n",
              "1999-11-09                              -0.813256       1.351351  ...   \n",
              "1999-11-10                              -0.081604       1.089469  ...   \n",
              "1999-11-11                              -0.105365       0.827586  ...   \n",
              "1999-11-12                              -0.244616       0.413793  ...   \n",
              "\n",
              "            Close__permutation_entropy__dimension_6__tau_1  \\\n",
              "last_date                                                    \n",
              "1999-11-08                                       -0.000000   \n",
              "1999-11-09                                        0.693147   \n",
              "1999-11-10                                        1.098612   \n",
              "1999-11-11                                        1.386294   \n",
              "1999-11-12                                        1.609438   \n",
              "\n",
              "            Close__permutation_entropy__dimension_7__tau_1  \\\n",
              "last_date                                                    \n",
              "1999-11-08                                        2.708050   \n",
              "1999-11-09                                       -0.000000   \n",
              "1999-11-10                                        0.693147   \n",
              "1999-11-11                                        1.098612   \n",
              "1999-11-12                                        1.386294   \n",
              "\n",
              "            Close__query_similarity_count__query_None__threshold_0.0  \\\n",
              "last_date                                                              \n",
              "1999-11-08                                                0.0          \n",
              "1999-11-09                                                0.0          \n",
              "1999-11-10                                                0.0          \n",
              "1999-11-11                                                0.0          \n",
              "1999-11-12                                                0.0          \n",
              "\n",
              "            Close__matrix_profile__feature_\"min\"__threshold_0.98  \\\n",
              "last_date                                                          \n",
              "1999-11-08                                                0.0      \n",
              "1999-11-09                                                0.0      \n",
              "1999-11-10                                                0.0      \n",
              "1999-11-11                                                0.0      \n",
              "1999-11-12                                                0.0      \n",
              "\n",
              "            Close__matrix_profile__feature_\"max\"__threshold_0.98  \\\n",
              "last_date                                                          \n",
              "1999-11-08                                                0.0      \n",
              "1999-11-09                                                0.0      \n",
              "1999-11-10                                                0.0      \n",
              "1999-11-11                                                0.0      \n",
              "1999-11-12                                                0.0      \n",
              "\n",
              "            Close__matrix_profile__feature_\"mean\"__threshold_0.98  \\\n",
              "last_date                                                           \n",
              "1999-11-08                                                0.0       \n",
              "1999-11-09                                                0.0       \n",
              "1999-11-10                                                0.0       \n",
              "1999-11-11                                                0.0       \n",
              "1999-11-12                                                0.0       \n",
              "\n",
              "            Close__matrix_profile__feature_\"median\"__threshold_0.98  \\\n",
              "last_date                                                             \n",
              "1999-11-08                                                0.0         \n",
              "1999-11-09                                                0.0         \n",
              "1999-11-10                                                0.0         \n",
              "1999-11-11                                                0.0         \n",
              "1999-11-12                                                0.0         \n",
              "\n",
              "            Close__matrix_profile__feature_\"25\"__threshold_0.98  \\\n",
              "last_date                                                         \n",
              "1999-11-08                                                0.0     \n",
              "1999-11-09                                                0.0     \n",
              "1999-11-10                                                0.0     \n",
              "1999-11-11                                                0.0     \n",
              "1999-11-12                                                0.0     \n",
              "\n",
              "            Close__matrix_profile__feature_\"75\"__threshold_0.98  \\\n",
              "last_date                                                         \n",
              "1999-11-08                                                0.0     \n",
              "1999-11-09                                                0.0     \n",
              "1999-11-10                                                0.0     \n",
              "1999-11-11                                                0.0     \n",
              "1999-11-12                                                0.0     \n",
              "\n",
              "            Close__mean_n_absolute_max__number_of_maxima_7  \n",
              "last_date                                                   \n",
              "1999-11-08                                        2.993663  \n",
              "1999-11-09                                        2.993663  \n",
              "1999-11-10                                        2.612969  \n",
              "1999-11-11                                        2.852120  \n",
              "1999-11-12                                        3.382520  \n",
              "\n",
              "[5 rows x 789 columns]"
            ],
            "text/html": [
              "\n",
              "  <div id=\"df-8c2bbe01-ab4d-45b8-baa7-1c57c478631b\">\n",
              "    <div class=\"colab-df-container\">\n",
              "      <div>\n",
              "<style scoped>\n",
              "    .dataframe tbody tr th:only-of-type {\n",
              "        vertical-align: middle;\n",
              "    }\n",
              "\n",
              "    .dataframe tbody tr th {\n",
              "        vertical-align: top;\n",
              "    }\n",
              "\n",
              "    .dataframe thead th {\n",
              "        text-align: right;\n",
              "    }\n",
              "</style>\n",
              "<table border=\"1\" class=\"dataframe\">\n",
              "  <thead>\n",
              "    <tr style=\"text-align: right;\">\n",
              "      <th></th>\n",
              "      <th>Close__variance_larger_than_standard_deviation</th>\n",
              "      <th>Close__has_duplicate_max</th>\n",
              "      <th>Close__has_duplicate_min</th>\n",
              "      <th>Close__has_duplicate</th>\n",
              "      <th>Close__sum_values</th>\n",
              "      <th>Close__abs_energy</th>\n",
              "      <th>Close__mean_abs_change</th>\n",
              "      <th>Close__mean_change</th>\n",
              "      <th>Close__mean_second_derivative_central</th>\n",
              "      <th>Close__median</th>\n",
              "      <th>...</th>\n",
              "      <th>Close__permutation_entropy__dimension_6__tau_1</th>\n",
              "      <th>Close__permutation_entropy__dimension_7__tau_1</th>\n",
              "      <th>Close__query_similarity_count__query_None__threshold_0.0</th>\n",
              "      <th>Close__matrix_profile__feature_\"min\"__threshold_0.98</th>\n",
              "      <th>Close__matrix_profile__feature_\"max\"__threshold_0.98</th>\n",
              "      <th>Close__matrix_profile__feature_\"mean\"__threshold_0.98</th>\n",
              "      <th>Close__matrix_profile__feature_\"median\"__threshold_0.98</th>\n",
              "      <th>Close__matrix_profile__feature_\"25\"__threshold_0.98</th>\n",
              "      <th>Close__matrix_profile__feature_\"75\"__threshold_0.98</th>\n",
              "      <th>Close__mean_n_absolute_max__number_of_maxima_7</th>\n",
              "    </tr>\n",
              "    <tr>\n",
              "      <th>last_date</th>\n",
              "      <th></th>\n",
              "      <th></th>\n",
              "      <th></th>\n",
              "      <th></th>\n",
              "      <th></th>\n",
              "      <th></th>\n",
              "      <th></th>\n",
              "      <th></th>\n",
              "      <th></th>\n",
              "      <th></th>\n",
              "      <th></th>\n",
              "      <th></th>\n",
              "      <th></th>\n",
              "      <th></th>\n",
              "      <th></th>\n",
              "      <th></th>\n",
              "      <th></th>\n",
              "      <th></th>\n",
              "      <th></th>\n",
              "      <th></th>\n",
              "      <th></th>\n",
              "    </tr>\n",
              "  </thead>\n",
              "  <tbody>\n",
              "    <tr>\n",
              "      <th>1999-11-08</th>\n",
              "      <td>1.0</td>\n",
              "      <td>0.0</td>\n",
              "      <td>0.0</td>\n",
              "      <td>0.0</td>\n",
              "      <td>13.162891</td>\n",
              "      <td>48.862499</td>\n",
              "      <td>1.643821</td>\n",
              "      <td>0.806242</td>\n",
              "      <td>-0.314813</td>\n",
              "      <td>1.552869</td>\n",
              "      <td>...</td>\n",
              "      <td>-0.000000</td>\n",
              "      <td>2.708050</td>\n",
              "      <td>0.0</td>\n",
              "      <td>0.0</td>\n",
              "      <td>0.0</td>\n",
              "      <td>0.0</td>\n",
              "      <td>0.0</td>\n",
              "      <td>0.0</td>\n",
              "      <td>0.0</td>\n",
              "      <td>2.993663</td>\n",
              "    </tr>\n",
              "    <tr>\n",
              "      <th>1999-11-09</th>\n",
              "      <td>1.0</td>\n",
              "      <td>0.0</td>\n",
              "      <td>0.0</td>\n",
              "      <td>0.0</td>\n",
              "      <td>10.412891</td>\n",
              "      <td>56.424999</td>\n",
              "      <td>2.500053</td>\n",
              "      <td>-0.458333</td>\n",
              "      <td>-0.813256</td>\n",
              "      <td>1.351351</td>\n",
              "      <td>...</td>\n",
              "      <td>0.693147</td>\n",
              "      <td>-0.000000</td>\n",
              "      <td>0.0</td>\n",
              "      <td>0.0</td>\n",
              "      <td>0.0</td>\n",
              "      <td>0.0</td>\n",
              "      <td>0.0</td>\n",
              "      <td>0.0</td>\n",
              "      <td>0.0</td>\n",
              "      <td>2.993663</td>\n",
              "    </tr>\n",
              "    <tr>\n",
              "      <th>1999-11-10</th>\n",
              "      <td>1.0</td>\n",
              "      <td>0.0</td>\n",
              "      <td>0.0</td>\n",
              "      <td>0.0</td>\n",
              "      <td>8.034999</td>\n",
              "      <td>62.079369</td>\n",
              "      <td>2.196061</td>\n",
              "      <td>-0.339699</td>\n",
              "      <td>-0.081604</td>\n",
              "      <td>1.089469</td>\n",
              "      <td>...</td>\n",
              "      <td>1.098612</td>\n",
              "      <td>0.693147</td>\n",
              "      <td>0.0</td>\n",
              "      <td>0.0</td>\n",
              "      <td>0.0</td>\n",
              "      <td>0.0</td>\n",
              "      <td>0.0</td>\n",
              "      <td>0.0</td>\n",
              "      <td>0.0</td>\n",
              "      <td>2.612969</td>\n",
              "    </tr>\n",
              "    <tr>\n",
              "      <th>1999-11-11</th>\n",
              "      <td>1.0</td>\n",
              "      <td>0.0</td>\n",
              "      <td>0.0</td>\n",
              "      <td>0.0</td>\n",
              "      <td>5.533353</td>\n",
              "      <td>68.337601</td>\n",
              "      <td>1.937022</td>\n",
              "      <td>-0.312706</td>\n",
              "      <td>-0.105365</td>\n",
              "      <td>0.827586</td>\n",
              "      <td>...</td>\n",
              "      <td>1.386294</td>\n",
              "      <td>1.098612</td>\n",
              "      <td>0.0</td>\n",
              "      <td>0.0</td>\n",
              "      <td>0.0</td>\n",
              "      <td>0.0</td>\n",
              "      <td>0.0</td>\n",
              "      <td>0.0</td>\n",
              "      <td>0.0</td>\n",
              "      <td>2.852120</td>\n",
              "    </tr>\n",
              "    <tr>\n",
              "      <th>1999-11-12</th>\n",
              "      <td>1.0</td>\n",
              "      <td>0.0</td>\n",
              "      <td>0.0</td>\n",
              "      <td>0.0</td>\n",
              "      <td>0.469208</td>\n",
              "      <td>93.983174</td>\n",
              "      <td>2.006520</td>\n",
              "      <td>-0.562683</td>\n",
              "      <td>-0.244616</td>\n",
              "      <td>0.413793</td>\n",
              "      <td>...</td>\n",
              "      <td>1.609438</td>\n",
              "      <td>1.386294</td>\n",
              "      <td>0.0</td>\n",
              "      <td>0.0</td>\n",
              "      <td>0.0</td>\n",
              "      <td>0.0</td>\n",
              "      <td>0.0</td>\n",
              "      <td>0.0</td>\n",
              "      <td>0.0</td>\n",
              "      <td>3.382520</td>\n",
              "    </tr>\n",
              "  </tbody>\n",
              "</table>\n",
              "<p>5 rows × 789 columns</p>\n",
              "</div>\n",
              "      <button class=\"colab-df-convert\" onclick=\"convertToInteractive('df-8c2bbe01-ab4d-45b8-baa7-1c57c478631b')\"\n",
              "              title=\"Convert this dataframe to an interactive table.\"\n",
              "              style=\"display:none;\">\n",
              "        \n",
              "  <svg xmlns=\"http://www.w3.org/2000/svg\" height=\"24px\"viewBox=\"0 0 24 24\"\n",
              "       width=\"24px\">\n",
              "    <path d=\"M0 0h24v24H0V0z\" fill=\"none\"/>\n",
              "    <path d=\"M18.56 5.44l.94 2.06.94-2.06 2.06-.94-2.06-.94-.94-2.06-.94 2.06-2.06.94zm-11 1L8.5 8.5l.94-2.06 2.06-.94-2.06-.94L8.5 2.5l-.94 2.06-2.06.94zm10 10l.94 2.06.94-2.06 2.06-.94-2.06-.94-.94-2.06-.94 2.06-2.06.94z\"/><path d=\"M17.41 7.96l-1.37-1.37c-.4-.4-.92-.59-1.43-.59-.52 0-1.04.2-1.43.59L10.3 9.45l-7.72 7.72c-.78.78-.78 2.05 0 2.83L4 21.41c.39.39.9.59 1.41.59.51 0 1.02-.2 1.41-.59l7.78-7.78 2.81-2.81c.8-.78.8-2.07 0-2.86zM5.41 20L4 18.59l7.72-7.72 1.47 1.35L5.41 20z\"/>\n",
              "  </svg>\n",
              "      </button>\n",
              "      \n",
              "  <style>\n",
              "    .colab-df-container {\n",
              "      display:flex;\n",
              "      flex-wrap:wrap;\n",
              "      gap: 12px;\n",
              "    }\n",
              "\n",
              "    .colab-df-convert {\n",
              "      background-color: #E8F0FE;\n",
              "      border: none;\n",
              "      border-radius: 50%;\n",
              "      cursor: pointer;\n",
              "      display: none;\n",
              "      fill: #1967D2;\n",
              "      height: 32px;\n",
              "      padding: 0 0 0 0;\n",
              "      width: 32px;\n",
              "    }\n",
              "\n",
              "    .colab-df-convert:hover {\n",
              "      background-color: #E2EBFA;\n",
              "      box-shadow: 0px 1px 2px rgba(60, 64, 67, 0.3), 0px 1px 3px 1px rgba(60, 64, 67, 0.15);\n",
              "      fill: #174EA6;\n",
              "    }\n",
              "\n",
              "    [theme=dark] .colab-df-convert {\n",
              "      background-color: #3B4455;\n",
              "      fill: #D2E3FC;\n",
              "    }\n",
              "\n",
              "    [theme=dark] .colab-df-convert:hover {\n",
              "      background-color: #434B5C;\n",
              "      box-shadow: 0px 1px 3px 1px rgba(0, 0, 0, 0.15);\n",
              "      filter: drop-shadow(0px 1px 2px rgba(0, 0, 0, 0.3));\n",
              "      fill: #FFFFFF;\n",
              "    }\n",
              "  </style>\n",
              "\n",
              "      <script>\n",
              "        const buttonEl =\n",
              "          document.querySelector('#df-8c2bbe01-ab4d-45b8-baa7-1c57c478631b button.colab-df-convert');\n",
              "        buttonEl.style.display =\n",
              "          google.colab.kernel.accessAllowed ? 'block' : 'none';\n",
              "\n",
              "        async function convertToInteractive(key) {\n",
              "          const element = document.querySelector('#df-8c2bbe01-ab4d-45b8-baa7-1c57c478631b');\n",
              "          const dataTable =\n",
              "            await google.colab.kernel.invokeFunction('convertToInteractive',\n",
              "                                                     [key], {});\n",
              "          if (!dataTable) return;\n",
              "\n",
              "          const docLinkHtml = 'Like what you see? Visit the ' +\n",
              "            '<a target=\"_blank\" href=https://colab.research.google.com/notebooks/data_table.ipynb>data table notebook</a>'\n",
              "            + ' to learn more about interactive tables.';\n",
              "          element.innerHTML = '';\n",
              "          dataTable['output_type'] = 'display_data';\n",
              "          await google.colab.output.renderOutput(dataTable, element);\n",
              "          const docLink = document.createElement('div');\n",
              "          docLink.innerHTML = docLinkHtml;\n",
              "          element.appendChild(docLink);\n",
              "        }\n",
              "      </script>\n",
              "    </div>\n",
              "  </div>\n",
              "  "
            ]
          },
          "metadata": {},
          "execution_count": 18
        }
      ],
      "source": [
        "X = X.set_index(X.index.map(lambda x: x[1]), drop=True)\n",
        "X.index.name = \"last_date\"\n",
        "X.head()"
      ],
      "id": "ffc87f44-4488-48ad-bac4-19ca7ca98ce2"
    },
    {
      "cell_type": "markdown",
      "metadata": {
        "id": "54ac57c7-d946-438b-a5f0-fda79ee42369"
      },
      "source": [
        "Our (ATVI, 2020-07-14 00:00:00) is also in the data again:"
      ],
      "id": "54ac57c7-d946-438b-a5f0-fda79ee42369"
    },
    {
      "cell_type": "code",
      "execution_count": null,
      "metadata": {
        "id": "74b868cf-ef19-4c2a-b1f6-8bab3bf7ae83",
        "colab": {
          "base_uri": "https://localhost:8080/"
        },
        "outputId": "f29ddf63-1704-426b-e89f-477ab3613068"
      },
      "outputs": [
        {
          "output_type": "execute_result",
          "data": {
            "text/plain": [
              "Close__variance_larger_than_standard_deviation              1.000000\n",
              "Close__has_duplicate_max                                    0.000000\n",
              "Close__has_duplicate_min                                    0.000000\n",
              "Close__has_duplicate                                        0.000000\n",
              "Close__sum_values                                          10.988058\n",
              "                                                             ...    \n",
              "Close__matrix_profile__feature_\"mean\"__threshold_0.98       0.000000\n",
              "Close__matrix_profile__feature_\"median\"__threshold_0.98     0.000000\n",
              "Close__matrix_profile__feature_\"25\"__threshold_0.98         0.000000\n",
              "Close__matrix_profile__feature_\"75\"__threshold_0.98         0.000000\n",
              "Close__mean_n_absolute_max__number_of_maxima_7              2.572952\n",
              "Name: 2020-07-14 00:00:00, Length: 789, dtype: float64"
            ]
          },
          "metadata": {},
          "execution_count": 19
        }
      ],
      "source": [
        "X.loc['2020-07-14']"
      ],
      "id": "74b868cf-ef19-4c2a-b1f6-8bab3bf7ae83"
    },
    {
      "cell_type": "markdown",
      "metadata": {
        "id": "7948013e-0b54-4692-99bb-bd5951202d83"
      },
      "source": [
        "Just to repeat: the features in this row were only calculated using the time series values of one Ticker up to and including 2015-07-14 and the last 20 days."
      ],
      "id": "7948013e-0b54-4692-99bb-bd5951202d83"
    },
    {
      "cell_type": "markdown",
      "metadata": {
        "id": "cdac0871-13d4-4b19-869e-b4a50f26214e"
      },
      "source": [
        "# Prediction\n",
        "We can now use the extracted features to train a regressor. But what will be our targets? The target for the row 2020-07-13 is the value on the next timestep (that would be 2020-07-14 in this case).\n",
        "\n",
        "So all we need to do is go back to our original dataframe and take the stock value of tomorrow. This is done with shift:"
      ],
      "id": "cdac0871-13d4-4b19-869e-b4a50f26214e"
    },
    {
      "cell_type": "code",
      "execution_count": null,
      "metadata": {
        "id": "b9cdb554-a744-4c8f-be52-f2e749e3e978"
      },
      "outputs": [],
      "source": [
        "y = dd_melted.set_index(\"Time\").sort_index()['Close'].shift(-1)"
      ],
      "id": "b9cdb554-a744-4c8f-be52-f2e749e3e978"
    },
    {
      "cell_type": "markdown",
      "metadata": {
        "id": "ad5da0b7-bbda-4deb-bb6a-ecc72aacaac5"
      },
      "source": [
        "Quick consistency test:"
      ],
      "id": "ad5da0b7-bbda-4deb-bb6a-ecc72aacaac5"
    },
    {
      "cell_type": "code",
      "execution_count": null,
      "metadata": {
        "id": "f31a58d2-a93c-44f9-97f4-7cc64202ef3b",
        "colab": {
          "base_uri": "https://localhost:8080/"
        },
        "outputId": "4a60b7d9-280f-440d-8e52-59d21e138a51"
      },
      "outputs": [
        {
          "output_type": "execute_result",
          "data": {
            "text/plain": [
              "(2.334830019243106, 2.334830019243106)"
            ]
          },
          "metadata": {},
          "execution_count": 21
        }
      ],
      "source": [
        "y[\"2020-07-13\"], df.loc[(\"2020-07-14\")].iloc[0]['Close']"
      ],
      "id": "f31a58d2-a93c-44f9-97f4-7cc64202ef3b"
    },
    {
      "cell_type": "markdown",
      "metadata": {
        "id": "86956cb9-4f54-4ee0-afcd-4b0fbb287b99"
      },
      "source": [
        "However, we need to be a bit careful here: X is missing the first 5 dates (as our minimum window size was 5) and y is missing the last date (as there is nothing to predict on today). So lets make sure we have a consistent view on the data."
      ],
      "id": "86956cb9-4f54-4ee0-afcd-4b0fbb287b99"
    },
    {
      "cell_type": "code",
      "execution_count": null,
      "metadata": {
        "id": "77cc3830-6325-4173-a862-97b19c92ed2c"
      },
      "outputs": [],
      "source": [
        "y = y[y.index.isin(X.index)]\n",
        "X = X[X.index.isin(y.index)]"
      ],
      "id": "77cc3830-6325-4173-a862-97b19c92ed2c"
    },
    {
      "cell_type": "markdown",
      "metadata": {
        "id": "0803bab2-4750-45ee-bdde-7d0bf5b81721"
      },
      "source": [
        "\n",
        "We can now train normal Linear Regressor to predict the next time step . Let's split the data into a training and testing sample (but make sure to keep temporal consistency). We take everything until 2019 as train data an the rest as test:"
      ],
      "id": "0803bab2-4750-45ee-bdde-7d0bf5b81721"
    },
    {
      "cell_type": "code",
      "execution_count": null,
      "metadata": {
        "id": "b818311c-9ddf-4188-b4c7-9c4a4d6a1664",
        "colab": {
          "base_uri": "https://localhost:8080/",
          "height": 692
        },
        "outputId": "4c91052f-4703-46f0-8632-4ed781a175e9"
      },
      "outputs": [
        {
          "output_type": "execute_result",
          "data": {
            "text/plain": [
              "            Close__variance_larger_than_standard_deviation  \\\n",
              "last_date                                                    \n",
              "1999-11-08                                             1.0   \n",
              "1999-11-09                                             1.0   \n",
              "1999-11-10                                             1.0   \n",
              "1999-11-11                                             1.0   \n",
              "1999-11-12                                             1.0   \n",
              "...                                                    ...   \n",
              "2018-12-24                                             1.0   \n",
              "2018-12-26                                             1.0   \n",
              "2018-12-27                                             1.0   \n",
              "2018-12-28                                             1.0   \n",
              "2018-12-31                                             1.0   \n",
              "\n",
              "            Close__has_duplicate_max  Close__has_duplicate_min  \\\n",
              "last_date                                                        \n",
              "1999-11-08                       0.0                       0.0   \n",
              "1999-11-09                       0.0                       0.0   \n",
              "1999-11-10                       0.0                       0.0   \n",
              "1999-11-11                       0.0                       0.0   \n",
              "1999-11-12                       0.0                       0.0   \n",
              "...                              ...                       ...   \n",
              "2018-12-24                       0.0                       0.0   \n",
              "2018-12-26                       0.0                       0.0   \n",
              "2018-12-27                       0.0                       0.0   \n",
              "2018-12-28                       0.0                       0.0   \n",
              "2018-12-31                       0.0                       0.0   \n",
              "\n",
              "            Close__has_duplicate  Close__sum_values  Close__abs_energy  \\\n",
              "last_date                                                                \n",
              "1999-11-08                   0.0          13.162891          48.862499   \n",
              "1999-11-09                   0.0          10.412891          56.424999   \n",
              "1999-11-10                   0.0           8.034999          62.079369   \n",
              "1999-11-11                   0.0           5.533353          68.337601   \n",
              "1999-11-12                   0.0           0.469208          93.983174   \n",
              "...                          ...                ...                ...   \n",
              "2018-12-24                   0.0         -13.790246         137.179936   \n",
              "2018-12-26                   0.0          -6.693009         165.219191   \n",
              "2018-12-27                   0.0          -7.075659         164.050610   \n",
              "2018-12-28                   0.0          -7.271583         164.212146   \n",
              "2018-12-31                   0.0          -8.295056         164.170627   \n",
              "\n",
              "            Close__mean_abs_change  Close__mean_change  \\\n",
              "last_date                                                \n",
              "1999-11-08                1.643821            0.806242   \n",
              "1999-11-09                2.500053           -0.458333   \n",
              "1999-11-10                2.196061           -0.339699   \n",
              "1999-11-11                1.937022           -0.312706   \n",
              "1999-11-12                2.006520           -0.562683   \n",
              "...                            ...                 ...   \n",
              "2018-12-24                2.695522           -0.124173   \n",
              "2018-12-26                3.009980            0.190285   \n",
              "2018-12-27                3.117769            0.082496   \n",
              "2018-12-28                3.167746           -0.052111   \n",
              "2018-12-31                3.044364           -0.175494   \n",
              "\n",
              "            Close__mean_second_derivative_central  Close__median  ...  \\\n",
              "last_date                                                         ...   \n",
              "1999-11-08                              -0.314813       1.552869  ...   \n",
              "1999-11-09                              -0.813256       1.351351  ...   \n",
              "1999-11-10                              -0.081604       1.089469  ...   \n",
              "1999-11-11                              -0.105365       0.827586  ...   \n",
              "1999-11-12                              -0.244616       0.413793  ...   \n",
              "...                                           ...            ...  ...   \n",
              "2018-12-24                              -0.126257      -0.171674  ...   \n",
              "2018-12-26                               0.305612       0.123839  ...   \n",
              "2018-12-27                              -0.132491       0.123839  ...   \n",
              "2018-12-28                              -0.114006       0.123839  ...   \n",
              "2018-12-31                               0.214108      -0.171674  ...   \n",
              "\n",
              "            Close__permutation_entropy__dimension_6__tau_1  \\\n",
              "last_date                                                    \n",
              "1999-11-08                                       -0.000000   \n",
              "1999-11-09                                        0.693147   \n",
              "1999-11-10                                        1.098612   \n",
              "1999-11-11                                        1.386294   \n",
              "1999-11-12                                        1.609438   \n",
              "...                                                    ...   \n",
              "2018-12-24                                        2.772589   \n",
              "2018-12-26                                        2.772589   \n",
              "2018-12-27                                        2.772589   \n",
              "2018-12-28                                        2.772589   \n",
              "2018-12-31                                        2.772589   \n",
              "\n",
              "            Close__permutation_entropy__dimension_7__tau_1  \\\n",
              "last_date                                                    \n",
              "1999-11-08                                        2.708050   \n",
              "1999-11-09                                       -0.000000   \n",
              "1999-11-10                                        0.693147   \n",
              "1999-11-11                                        1.098612   \n",
              "1999-11-12                                        1.386294   \n",
              "...                                                    ...   \n",
              "2018-12-24                                        2.708050   \n",
              "2018-12-26                                        2.708050   \n",
              "2018-12-27                                        2.708050   \n",
              "2018-12-28                                        2.708050   \n",
              "2018-12-31                                        2.708050   \n",
              "\n",
              "            Close__query_similarity_count__query_None__threshold_0.0  \\\n",
              "last_date                                                              \n",
              "1999-11-08                                                0.0          \n",
              "1999-11-09                                                0.0          \n",
              "1999-11-10                                                0.0          \n",
              "1999-11-11                                                0.0          \n",
              "1999-11-12                                                0.0          \n",
              "...                                                       ...          \n",
              "2018-12-24                                                0.0          \n",
              "2018-12-26                                                0.0          \n",
              "2018-12-27                                                0.0          \n",
              "2018-12-28                                                0.0          \n",
              "2018-12-31                                                0.0          \n",
              "\n",
              "            Close__matrix_profile__feature_\"min\"__threshold_0.98  \\\n",
              "last_date                                                          \n",
              "1999-11-08                                                0.0      \n",
              "1999-11-09                                                0.0      \n",
              "1999-11-10                                                0.0      \n",
              "1999-11-11                                                0.0      \n",
              "1999-11-12                                                0.0      \n",
              "...                                                       ...      \n",
              "2018-12-24                                                0.0      \n",
              "2018-12-26                                                0.0      \n",
              "2018-12-27                                                0.0      \n",
              "2018-12-28                                                0.0      \n",
              "2018-12-31                                                0.0      \n",
              "\n",
              "            Close__matrix_profile__feature_\"max\"__threshold_0.98  \\\n",
              "last_date                                                          \n",
              "1999-11-08                                                0.0      \n",
              "1999-11-09                                                0.0      \n",
              "1999-11-10                                                0.0      \n",
              "1999-11-11                                                0.0      \n",
              "1999-11-12                                                0.0      \n",
              "...                                                       ...      \n",
              "2018-12-24                                                0.0      \n",
              "2018-12-26                                                0.0      \n",
              "2018-12-27                                                0.0      \n",
              "2018-12-28                                                0.0      \n",
              "2018-12-31                                                0.0      \n",
              "\n",
              "            Close__matrix_profile__feature_\"mean\"__threshold_0.98  \\\n",
              "last_date                                                           \n",
              "1999-11-08                                                0.0       \n",
              "1999-11-09                                                0.0       \n",
              "1999-11-10                                                0.0       \n",
              "1999-11-11                                                0.0       \n",
              "1999-11-12                                                0.0       \n",
              "...                                                       ...       \n",
              "2018-12-24                                                0.0       \n",
              "2018-12-26                                                0.0       \n",
              "2018-12-27                                                0.0       \n",
              "2018-12-28                                                0.0       \n",
              "2018-12-31                                                0.0       \n",
              "\n",
              "            Close__matrix_profile__feature_\"median\"__threshold_0.98  \\\n",
              "last_date                                                             \n",
              "1999-11-08                                                0.0         \n",
              "1999-11-09                                                0.0         \n",
              "1999-11-10                                                0.0         \n",
              "1999-11-11                                                0.0         \n",
              "1999-11-12                                                0.0         \n",
              "...                                                       ...         \n",
              "2018-12-24                                                0.0         \n",
              "2018-12-26                                                0.0         \n",
              "2018-12-27                                                0.0         \n",
              "2018-12-28                                                0.0         \n",
              "2018-12-31                                                0.0         \n",
              "\n",
              "            Close__matrix_profile__feature_\"25\"__threshold_0.98  \\\n",
              "last_date                                                         \n",
              "1999-11-08                                                0.0     \n",
              "1999-11-09                                                0.0     \n",
              "1999-11-10                                                0.0     \n",
              "1999-11-11                                                0.0     \n",
              "1999-11-12                                                0.0     \n",
              "...                                                       ...     \n",
              "2018-12-24                                                0.0     \n",
              "2018-12-26                                                0.0     \n",
              "2018-12-27                                                0.0     \n",
              "2018-12-28                                                0.0     \n",
              "2018-12-31                                                0.0     \n",
              "\n",
              "            Close__matrix_profile__feature_\"75\"__threshold_0.98  \\\n",
              "last_date                                                         \n",
              "1999-11-08                                                0.0     \n",
              "1999-11-09                                                0.0     \n",
              "1999-11-10                                                0.0     \n",
              "1999-11-11                                                0.0     \n",
              "1999-11-12                                                0.0     \n",
              "...                                                       ...     \n",
              "2018-12-24                                                0.0     \n",
              "2018-12-26                                                0.0     \n",
              "2018-12-27                                                0.0     \n",
              "2018-12-28                                                0.0     \n",
              "2018-12-31                                                0.0     \n",
              "\n",
              "            Close__mean_n_absolute_max__number_of_maxima_7  \n",
              "last_date                                                   \n",
              "1999-11-08                                        2.993663  \n",
              "1999-11-09                                        2.993663  \n",
              "1999-11-10                                        2.612969  \n",
              "1999-11-11                                        2.852120  \n",
              "1999-11-12                                        3.382520  \n",
              "...                                                    ...  \n",
              "2018-12-24                                        3.842333  \n",
              "2018-12-26                                        4.332597  \n",
              "2018-12-27                                        4.332597  \n",
              "2018-12-28                                        4.332597  \n",
              "2018-12-31                                        4.332597  \n",
              "\n",
              "[4817 rows x 789 columns]"
            ],
            "text/html": [
              "\n",
              "  <div id=\"df-51b6e1b4-c0fa-4dd6-978c-d83309a79a5f\">\n",
              "    <div class=\"colab-df-container\">\n",
              "      <div>\n",
              "<style scoped>\n",
              "    .dataframe tbody tr th:only-of-type {\n",
              "        vertical-align: middle;\n",
              "    }\n",
              "\n",
              "    .dataframe tbody tr th {\n",
              "        vertical-align: top;\n",
              "    }\n",
              "\n",
              "    .dataframe thead th {\n",
              "        text-align: right;\n",
              "    }\n",
              "</style>\n",
              "<table border=\"1\" class=\"dataframe\">\n",
              "  <thead>\n",
              "    <tr style=\"text-align: right;\">\n",
              "      <th></th>\n",
              "      <th>Close__variance_larger_than_standard_deviation</th>\n",
              "      <th>Close__has_duplicate_max</th>\n",
              "      <th>Close__has_duplicate_min</th>\n",
              "      <th>Close__has_duplicate</th>\n",
              "      <th>Close__sum_values</th>\n",
              "      <th>Close__abs_energy</th>\n",
              "      <th>Close__mean_abs_change</th>\n",
              "      <th>Close__mean_change</th>\n",
              "      <th>Close__mean_second_derivative_central</th>\n",
              "      <th>Close__median</th>\n",
              "      <th>...</th>\n",
              "      <th>Close__permutation_entropy__dimension_6__tau_1</th>\n",
              "      <th>Close__permutation_entropy__dimension_7__tau_1</th>\n",
              "      <th>Close__query_similarity_count__query_None__threshold_0.0</th>\n",
              "      <th>Close__matrix_profile__feature_\"min\"__threshold_0.98</th>\n",
              "      <th>Close__matrix_profile__feature_\"max\"__threshold_0.98</th>\n",
              "      <th>Close__matrix_profile__feature_\"mean\"__threshold_0.98</th>\n",
              "      <th>Close__matrix_profile__feature_\"median\"__threshold_0.98</th>\n",
              "      <th>Close__matrix_profile__feature_\"25\"__threshold_0.98</th>\n",
              "      <th>Close__matrix_profile__feature_\"75\"__threshold_0.98</th>\n",
              "      <th>Close__mean_n_absolute_max__number_of_maxima_7</th>\n",
              "    </tr>\n",
              "    <tr>\n",
              "      <th>last_date</th>\n",
              "      <th></th>\n",
              "      <th></th>\n",
              "      <th></th>\n",
              "      <th></th>\n",
              "      <th></th>\n",
              "      <th></th>\n",
              "      <th></th>\n",
              "      <th></th>\n",
              "      <th></th>\n",
              "      <th></th>\n",
              "      <th></th>\n",
              "      <th></th>\n",
              "      <th></th>\n",
              "      <th></th>\n",
              "      <th></th>\n",
              "      <th></th>\n",
              "      <th></th>\n",
              "      <th></th>\n",
              "      <th></th>\n",
              "      <th></th>\n",
              "      <th></th>\n",
              "    </tr>\n",
              "  </thead>\n",
              "  <tbody>\n",
              "    <tr>\n",
              "      <th>1999-11-08</th>\n",
              "      <td>1.0</td>\n",
              "      <td>0.0</td>\n",
              "      <td>0.0</td>\n",
              "      <td>0.0</td>\n",
              "      <td>13.162891</td>\n",
              "      <td>48.862499</td>\n",
              "      <td>1.643821</td>\n",
              "      <td>0.806242</td>\n",
              "      <td>-0.314813</td>\n",
              "      <td>1.552869</td>\n",
              "      <td>...</td>\n",
              "      <td>-0.000000</td>\n",
              "      <td>2.708050</td>\n",
              "      <td>0.0</td>\n",
              "      <td>0.0</td>\n",
              "      <td>0.0</td>\n",
              "      <td>0.0</td>\n",
              "      <td>0.0</td>\n",
              "      <td>0.0</td>\n",
              "      <td>0.0</td>\n",
              "      <td>2.993663</td>\n",
              "    </tr>\n",
              "    <tr>\n",
              "      <th>1999-11-09</th>\n",
              "      <td>1.0</td>\n",
              "      <td>0.0</td>\n",
              "      <td>0.0</td>\n",
              "      <td>0.0</td>\n",
              "      <td>10.412891</td>\n",
              "      <td>56.424999</td>\n",
              "      <td>2.500053</td>\n",
              "      <td>-0.458333</td>\n",
              "      <td>-0.813256</td>\n",
              "      <td>1.351351</td>\n",
              "      <td>...</td>\n",
              "      <td>0.693147</td>\n",
              "      <td>-0.000000</td>\n",
              "      <td>0.0</td>\n",
              "      <td>0.0</td>\n",
              "      <td>0.0</td>\n",
              "      <td>0.0</td>\n",
              "      <td>0.0</td>\n",
              "      <td>0.0</td>\n",
              "      <td>0.0</td>\n",
              "      <td>2.993663</td>\n",
              "    </tr>\n",
              "    <tr>\n",
              "      <th>1999-11-10</th>\n",
              "      <td>1.0</td>\n",
              "      <td>0.0</td>\n",
              "      <td>0.0</td>\n",
              "      <td>0.0</td>\n",
              "      <td>8.034999</td>\n",
              "      <td>62.079369</td>\n",
              "      <td>2.196061</td>\n",
              "      <td>-0.339699</td>\n",
              "      <td>-0.081604</td>\n",
              "      <td>1.089469</td>\n",
              "      <td>...</td>\n",
              "      <td>1.098612</td>\n",
              "      <td>0.693147</td>\n",
              "      <td>0.0</td>\n",
              "      <td>0.0</td>\n",
              "      <td>0.0</td>\n",
              "      <td>0.0</td>\n",
              "      <td>0.0</td>\n",
              "      <td>0.0</td>\n",
              "      <td>0.0</td>\n",
              "      <td>2.612969</td>\n",
              "    </tr>\n",
              "    <tr>\n",
              "      <th>1999-11-11</th>\n",
              "      <td>1.0</td>\n",
              "      <td>0.0</td>\n",
              "      <td>0.0</td>\n",
              "      <td>0.0</td>\n",
              "      <td>5.533353</td>\n",
              "      <td>68.337601</td>\n",
              "      <td>1.937022</td>\n",
              "      <td>-0.312706</td>\n",
              "      <td>-0.105365</td>\n",
              "      <td>0.827586</td>\n",
              "      <td>...</td>\n",
              "      <td>1.386294</td>\n",
              "      <td>1.098612</td>\n",
              "      <td>0.0</td>\n",
              "      <td>0.0</td>\n",
              "      <td>0.0</td>\n",
              "      <td>0.0</td>\n",
              "      <td>0.0</td>\n",
              "      <td>0.0</td>\n",
              "      <td>0.0</td>\n",
              "      <td>2.852120</td>\n",
              "    </tr>\n",
              "    <tr>\n",
              "      <th>1999-11-12</th>\n",
              "      <td>1.0</td>\n",
              "      <td>0.0</td>\n",
              "      <td>0.0</td>\n",
              "      <td>0.0</td>\n",
              "      <td>0.469208</td>\n",
              "      <td>93.983174</td>\n",
              "      <td>2.006520</td>\n",
              "      <td>-0.562683</td>\n",
              "      <td>-0.244616</td>\n",
              "      <td>0.413793</td>\n",
              "      <td>...</td>\n",
              "      <td>1.609438</td>\n",
              "      <td>1.386294</td>\n",
              "      <td>0.0</td>\n",
              "      <td>0.0</td>\n",
              "      <td>0.0</td>\n",
              "      <td>0.0</td>\n",
              "      <td>0.0</td>\n",
              "      <td>0.0</td>\n",
              "      <td>0.0</td>\n",
              "      <td>3.382520</td>\n",
              "    </tr>\n",
              "    <tr>\n",
              "      <th>...</th>\n",
              "      <td>...</td>\n",
              "      <td>...</td>\n",
              "      <td>...</td>\n",
              "      <td>...</td>\n",
              "      <td>...</td>\n",
              "      <td>...</td>\n",
              "      <td>...</td>\n",
              "      <td>...</td>\n",
              "      <td>...</td>\n",
              "      <td>...</td>\n",
              "      <td>...</td>\n",
              "      <td>...</td>\n",
              "      <td>...</td>\n",
              "      <td>...</td>\n",
              "      <td>...</td>\n",
              "      <td>...</td>\n",
              "      <td>...</td>\n",
              "      <td>...</td>\n",
              "      <td>...</td>\n",
              "      <td>...</td>\n",
              "      <td>...</td>\n",
              "    </tr>\n",
              "    <tr>\n",
              "      <th>2018-12-24</th>\n",
              "      <td>1.0</td>\n",
              "      <td>0.0</td>\n",
              "      <td>0.0</td>\n",
              "      <td>0.0</td>\n",
              "      <td>-13.790246</td>\n",
              "      <td>137.179936</td>\n",
              "      <td>2.695522</td>\n",
              "      <td>-0.124173</td>\n",
              "      <td>-0.126257</td>\n",
              "      <td>-0.171674</td>\n",
              "      <td>...</td>\n",
              "      <td>2.772589</td>\n",
              "      <td>2.708050</td>\n",
              "      <td>0.0</td>\n",
              "      <td>0.0</td>\n",
              "      <td>0.0</td>\n",
              "      <td>0.0</td>\n",
              "      <td>0.0</td>\n",
              "      <td>0.0</td>\n",
              "      <td>0.0</td>\n",
              "      <td>3.842333</td>\n",
              "    </tr>\n",
              "    <tr>\n",
              "      <th>2018-12-26</th>\n",
              "      <td>1.0</td>\n",
              "      <td>0.0</td>\n",
              "      <td>0.0</td>\n",
              "      <td>0.0</td>\n",
              "      <td>-6.693009</td>\n",
              "      <td>165.219191</td>\n",
              "      <td>3.009980</td>\n",
              "      <td>0.190285</td>\n",
              "      <td>0.305612</td>\n",
              "      <td>0.123839</td>\n",
              "      <td>...</td>\n",
              "      <td>2.772589</td>\n",
              "      <td>2.708050</td>\n",
              "      <td>0.0</td>\n",
              "      <td>0.0</td>\n",
              "      <td>0.0</td>\n",
              "      <td>0.0</td>\n",
              "      <td>0.0</td>\n",
              "      <td>0.0</td>\n",
              "      <td>0.0</td>\n",
              "      <td>4.332597</td>\n",
              "    </tr>\n",
              "    <tr>\n",
              "      <th>2018-12-27</th>\n",
              "      <td>1.0</td>\n",
              "      <td>0.0</td>\n",
              "      <td>0.0</td>\n",
              "      <td>0.0</td>\n",
              "      <td>-7.075659</td>\n",
              "      <td>164.050610</td>\n",
              "      <td>3.117769</td>\n",
              "      <td>0.082496</td>\n",
              "      <td>-0.132491</td>\n",
              "      <td>0.123839</td>\n",
              "      <td>...</td>\n",
              "      <td>2.772589</td>\n",
              "      <td>2.708050</td>\n",
              "      <td>0.0</td>\n",
              "      <td>0.0</td>\n",
              "      <td>0.0</td>\n",
              "      <td>0.0</td>\n",
              "      <td>0.0</td>\n",
              "      <td>0.0</td>\n",
              "      <td>0.0</td>\n",
              "      <td>4.332597</td>\n",
              "    </tr>\n",
              "    <tr>\n",
              "      <th>2018-12-28</th>\n",
              "      <td>1.0</td>\n",
              "      <td>0.0</td>\n",
              "      <td>0.0</td>\n",
              "      <td>0.0</td>\n",
              "      <td>-7.271583</td>\n",
              "      <td>164.212146</td>\n",
              "      <td>3.167746</td>\n",
              "      <td>-0.052111</td>\n",
              "      <td>-0.114006</td>\n",
              "      <td>0.123839</td>\n",
              "      <td>...</td>\n",
              "      <td>2.772589</td>\n",
              "      <td>2.708050</td>\n",
              "      <td>0.0</td>\n",
              "      <td>0.0</td>\n",
              "      <td>0.0</td>\n",
              "      <td>0.0</td>\n",
              "      <td>0.0</td>\n",
              "      <td>0.0</td>\n",
              "      <td>0.0</td>\n",
              "      <td>4.332597</td>\n",
              "    </tr>\n",
              "    <tr>\n",
              "      <th>2018-12-31</th>\n",
              "      <td>1.0</td>\n",
              "      <td>0.0</td>\n",
              "      <td>0.0</td>\n",
              "      <td>0.0</td>\n",
              "      <td>-8.295056</td>\n",
              "      <td>164.170627</td>\n",
              "      <td>3.044364</td>\n",
              "      <td>-0.175494</td>\n",
              "      <td>0.214108</td>\n",
              "      <td>-0.171674</td>\n",
              "      <td>...</td>\n",
              "      <td>2.772589</td>\n",
              "      <td>2.708050</td>\n",
              "      <td>0.0</td>\n",
              "      <td>0.0</td>\n",
              "      <td>0.0</td>\n",
              "      <td>0.0</td>\n",
              "      <td>0.0</td>\n",
              "      <td>0.0</td>\n",
              "      <td>0.0</td>\n",
              "      <td>4.332597</td>\n",
              "    </tr>\n",
              "  </tbody>\n",
              "</table>\n",
              "<p>4817 rows × 789 columns</p>\n",
              "</div>\n",
              "      <button class=\"colab-df-convert\" onclick=\"convertToInteractive('df-51b6e1b4-c0fa-4dd6-978c-d83309a79a5f')\"\n",
              "              title=\"Convert this dataframe to an interactive table.\"\n",
              "              style=\"display:none;\">\n",
              "        \n",
              "  <svg xmlns=\"http://www.w3.org/2000/svg\" height=\"24px\"viewBox=\"0 0 24 24\"\n",
              "       width=\"24px\">\n",
              "    <path d=\"M0 0h24v24H0V0z\" fill=\"none\"/>\n",
              "    <path d=\"M18.56 5.44l.94 2.06.94-2.06 2.06-.94-2.06-.94-.94-2.06-.94 2.06-2.06.94zm-11 1L8.5 8.5l.94-2.06 2.06-.94-2.06-.94L8.5 2.5l-.94 2.06-2.06.94zm10 10l.94 2.06.94-2.06 2.06-.94-2.06-.94-.94-2.06-.94 2.06-2.06.94z\"/><path d=\"M17.41 7.96l-1.37-1.37c-.4-.4-.92-.59-1.43-.59-.52 0-1.04.2-1.43.59L10.3 9.45l-7.72 7.72c-.78.78-.78 2.05 0 2.83L4 21.41c.39.39.9.59 1.41.59.51 0 1.02-.2 1.41-.59l7.78-7.78 2.81-2.81c.8-.78.8-2.07 0-2.86zM5.41 20L4 18.59l7.72-7.72 1.47 1.35L5.41 20z\"/>\n",
              "  </svg>\n",
              "      </button>\n",
              "      \n",
              "  <style>\n",
              "    .colab-df-container {\n",
              "      display:flex;\n",
              "      flex-wrap:wrap;\n",
              "      gap: 12px;\n",
              "    }\n",
              "\n",
              "    .colab-df-convert {\n",
              "      background-color: #E8F0FE;\n",
              "      border: none;\n",
              "      border-radius: 50%;\n",
              "      cursor: pointer;\n",
              "      display: none;\n",
              "      fill: #1967D2;\n",
              "      height: 32px;\n",
              "      padding: 0 0 0 0;\n",
              "      width: 32px;\n",
              "    }\n",
              "\n",
              "    .colab-df-convert:hover {\n",
              "      background-color: #E2EBFA;\n",
              "      box-shadow: 0px 1px 2px rgba(60, 64, 67, 0.3), 0px 1px 3px 1px rgba(60, 64, 67, 0.15);\n",
              "      fill: #174EA6;\n",
              "    }\n",
              "\n",
              "    [theme=dark] .colab-df-convert {\n",
              "      background-color: #3B4455;\n",
              "      fill: #D2E3FC;\n",
              "    }\n",
              "\n",
              "    [theme=dark] .colab-df-convert:hover {\n",
              "      background-color: #434B5C;\n",
              "      box-shadow: 0px 1px 3px 1px rgba(0, 0, 0, 0.15);\n",
              "      filter: drop-shadow(0px 1px 2px rgba(0, 0, 0, 0.3));\n",
              "      fill: #FFFFFF;\n",
              "    }\n",
              "  </style>\n",
              "\n",
              "      <script>\n",
              "        const buttonEl =\n",
              "          document.querySelector('#df-51b6e1b4-c0fa-4dd6-978c-d83309a79a5f button.colab-df-convert');\n",
              "        buttonEl.style.display =\n",
              "          google.colab.kernel.accessAllowed ? 'block' : 'none';\n",
              "\n",
              "        async function convertToInteractive(key) {\n",
              "          const element = document.querySelector('#df-51b6e1b4-c0fa-4dd6-978c-d83309a79a5f');\n",
              "          const dataTable =\n",
              "            await google.colab.kernel.invokeFunction('convertToInteractive',\n",
              "                                                     [key], {});\n",
              "          if (!dataTable) return;\n",
              "\n",
              "          const docLinkHtml = 'Like what you see? Visit the ' +\n",
              "            '<a target=\"_blank\" href=https://colab.research.google.com/notebooks/data_table.ipynb>data table notebook</a>'\n",
              "            + ' to learn more about interactive tables.';\n",
              "          element.innerHTML = '';\n",
              "          dataTable['output_type'] = 'display_data';\n",
              "          await google.colab.output.renderOutput(dataTable, element);\n",
              "          const docLink = document.createElement('div');\n",
              "          docLink.innerHTML = docLinkHtml;\n",
              "          element.appendChild(docLink);\n",
              "        }\n",
              "      </script>\n",
              "    </div>\n",
              "  </div>\n",
              "  "
            ]
          },
          "metadata": {},
          "execution_count": 23
        }
      ],
      "source": [
        "X[:\"2018\"]"
      ],
      "id": "b818311c-9ddf-4188-b4c7-9c4a4d6a1664"
    },
    {
      "cell_type": "code",
      "execution_count": null,
      "metadata": {
        "id": "70588b77-66ad-4603-8f3f-a9bfdb25f9ff"
      },
      "outputs": [],
      "source": [
        "X_train = X[:\"2018\"]\n",
        "X_test = X[\"2019\":]\n",
        "\n",
        "y_train = y[:\"2018\"]\n",
        "y_test = y[\"2019\":]"
      ],
      "id": "70588b77-66ad-4603-8f3f-a9bfdb25f9ff"
    },
    {
      "cell_type": "code",
      "execution_count": null,
      "metadata": {
        "id": "813dc2fe-d80e-4668-ad78-f3d7f7581684"
      },
      "outputs": [],
      "source": [
        "X_train_selected = select_features(X_train, y_train)"
      ],
      "id": "813dc2fe-d80e-4668-ad78-f3d7f7581684"
    },
    {
      "cell_type": "code",
      "execution_count": null,
      "metadata": {
        "id": "5c1b7a4c-8570-4034-b9a6-d2253b1f5c39"
      },
      "outputs": [],
      "source": [
        "from sklearn.linear_model import LinearRegression"
      ],
      "id": "5c1b7a4c-8570-4034-b9a6-d2253b1f5c39"
    },
    {
      "cell_type": "code",
      "execution_count": null,
      "metadata": {
        "id": "1324ee54-4f5e-469f-bc7c-4d8224a537ef",
        "colab": {
          "base_uri": "https://localhost:8080/"
        },
        "outputId": "c2d52e94-8c95-4a30-dbe1-5428296f5fa6"
      },
      "outputs": [
        {
          "output_type": "execute_result",
          "data": {
            "text/plain": [
              "LinearRegression()"
            ]
          },
          "metadata": {},
          "execution_count": 27
        }
      ],
      "source": [
        "lr = LinearRegression()\n",
        "\n",
        "lr.fit(X_train, y_train)"
      ],
      "id": "1324ee54-4f5e-469f-bc7c-4d8224a537ef"
    },
    {
      "cell_type": "markdown",
      "metadata": {
        "id": "7282ee01-d097-4010-bf51-b65a6cd5dd53"
      },
      "source": [
        "Now lets check how good our prediction is:"
      ],
      "id": "7282ee01-d097-4010-bf51-b65a6cd5dd53"
    },
    {
      "cell_type": "code",
      "execution_count": null,
      "metadata": {
        "id": "befafa24-99e7-4c70-8458-87ad82e1f11e"
      },
      "outputs": [],
      "source": [
        "X_test_selected = X_test[X_train.columns]"
      ],
      "id": "befafa24-99e7-4c70-8458-87ad82e1f11e"
    },
    {
      "cell_type": "code",
      "execution_count": null,
      "metadata": {
        "id": "984710b1-ce37-4469-b163-2bf660e01c24"
      },
      "outputs": [],
      "source": [
        "y_pred = pd.Series(lr.predict(X_test_selected), index=X_test_selected.index)"
      ],
      "id": "984710b1-ce37-4469-b163-2bf660e01c24"
    },
    {
      "cell_type": "markdown",
      "metadata": {
        "id": "2d8076fc-7c3c-498c-9578-81873f0d5469"
      },
      "source": [
        "The prediction is for the next day, so for drawing we need to shift 1 step back:"
      ],
      "id": "2d8076fc-7c3c-498c-9578-81873f0d5469"
    },
    {
      "cell_type": "code",
      "execution_count": null,
      "metadata": {
        "id": "4253962a-69eb-410a-9636-8f641b1da2f1",
        "colab": {
          "base_uri": "https://localhost:8080/",
          "height": 385
        },
        "outputId": "3f5b716d-0dcb-4475-dbd7-2ce570abedbc"
      },
      "outputs": [
        {
          "output_type": "execute_result",
          "data": {
            "text/plain": [
              "<AxesSubplot:xlabel='last_date'>"
            ]
          },
          "metadata": {},
          "execution_count": 30
        },
        {
          "output_type": "display_data",
          "data": {
            "text/plain": [
              "<Figure size 1080x432 with 1 Axes>"
            ],
            "image/png": "[encoded data removed]"
          },
          "metadata": {
            "needs_background": "light"
          }
        }
      ],
      "source": [
        "plt.figure(figsize=(15, 6))\n",
        "\n",
        "y.plot(ax=plt.gca())\n",
        "y_pred.plot(ax=plt.gca(), legend=None, marker=\".\")"
      ],
      "id": "4253962a-69eb-410a-9636-8f641b1da2f1"
    },
    {
      "cell_type": "code",
      "execution_count": null,
      "metadata": {
        "id": "e3491ec1-c1ec-46d0-916f-9a912e010990"
      },
      "outputs": [],
      "source": [
        "from sklearn.ensemble import AdaBoostRegressor"
      ],
      "id": "e3491ec1-c1ec-46d0-916f-9a912e010990"
    },
    {
      "cell_type": "code",
      "execution_count": null,
      "metadata": {
        "id": "afe5dbea-d107-4cdc-aa73-c2e510b7dcb8",
        "colab": {
          "base_uri": "https://localhost:8080/"
        },
        "outputId": "a57a80cf-318b-4228-c1c3-59eb16157c31"
      },
      "outputs": [
        {
          "output_type": "execute_result",
          "data": {
            "text/plain": [
              "AdaBoostRegressor()"
            ]
          },
          "metadata": {},
          "execution_count": 32
        }
      ],
      "source": [
        "ada = AdaBoostRegressor()\n",
        "\n",
        "ada.fit(X_train, y_train)"
      ],
      "id": "afe5dbea-d107-4cdc-aa73-c2e510b7dcb8"
    },
    {
      "cell_type": "code",
      "execution_count": null,
      "metadata": {
        "id": "3ba8f93d-400c-4888-9ff2-fd41134fb1f6"
      },
      "outputs": [],
      "source": [
        "X_test_selected = X_test[X_train.columns]"
      ],
      "id": "3ba8f93d-400c-4888-9ff2-fd41134fb1f6"
    },
    {
      "cell_type": "code",
      "execution_count": null,
      "metadata": {
        "id": "7470a1df-1785-4715-b36d-4af2a63574a7"
      },
      "outputs": [],
      "source": [
        "y_pred = pd.Series(ada.predict(X_test_selected), index=X_test_selected.index)"
      ],
      "id": "7470a1df-1785-4715-b36d-4af2a63574a7"
    },
    {
      "cell_type": "code",
      "execution_count": null,
      "metadata": {
        "id": "40650aaa-24ac-45cf-b478-d2df0d85b4d8",
        "colab": {
          "base_uri": "https://localhost:8080/",
          "height": 385
        },
        "outputId": "aef3a87d-95e7-414b-eee2-cda6f12cd0b2"
      },
      "outputs": [
        {
          "output_type": "execute_result",
          "data": {
            "text/plain": [
              "<AxesSubplot:xlabel='last_date'>"
            ]
          },
          "metadata": {},
          "execution_count": 35
        },
        {
          "output_type": "display_data",
          "data": {
            "text/plain": [
              "<Figure size 1080x432 with 1 Axes>"
            ],
            "image/png": "[encoded data removed]"
          },
          "metadata": {
            "needs_background": "light"
          }
        }
      ],
      "source": [
        "plt.figure(figsize=(15, 6))\n",
        "\n",
        "y.plot(ax=plt.gca())\n",
        "y_pred.plot(ax=plt.gca(), legend=None, marker=\".\")"
      ],
      "id": "40650aaa-24ac-45cf-b478-d2df0d85b4d8"
    },
    {
      "cell_type": "markdown",
      "metadata": {
        "id": "a50672bb-fe63-46e4-b7de-f7d683dd3f5d"
      },
      "source": [
        "# Exercise\n",
        "\n",
        "- Start by training a model with the same dataset but now with SVM as a regressor.\n",
        "- Plot the results\n",
        "- What do you see?"
      ],
      "id": "a50672bb-fe63-46e4-b7de-f7d683dd3f5d"
    },
    {
      "cell_type": "markdown",
      "metadata": {
        "id": "35d84983-a514-4ca9-941b-b8c50e48529d"
      },
      "source": [
        "# Exercise\n",
        "\n",
        "- Take TSLA as a ticker\n",
        "- Prepare the data so you can train with all dates until 2020\n",
        "- Take a window size of 30\n",
        "- You will predict 20 days ahead\n",
        "- Train an MLP Regressor and a Gradient Tree Boosting Regressor\n"
      ],
      "id": "35d84983-a514-4ca9-941b-b8c50e48529d"
    },
    {
      "cell_type": "code",
      "execution_count": null,
      "metadata": {
        "id": "00a5f631-0e26-4c92-b3ce-e6cf35a1dc88"
      },
      "outputs": [],
      "source": [
        "df['Ticker'].unique()"
      ],
      "id": "00a5f631-0e26-4c92-b3ce-e6cf35a1dc88"
    },
    {
      "cell_type": "code",
      "execution_count": null,
      "metadata": {
        "id": "8316bedc-7ac6-4115-8c40-7c05ae9a7a88"
      },
      "outputs": [],
      "source": [
        "df.loc[df['Ticker']=='TSLA']['Close'].plot(figsize=(20,10))"
      ],
      "id": "8316bedc-7ac6-4115-8c40-7c05ae9a7a88"
    },
    {
      "cell_type": "markdown",
      "metadata": {
        "id": "9e616a83-e899-46bd-a09a-a6a35ac82279"
      },
      "source": [
        "# Facebook Kats"
      ],
      "id": "9e616a83-e899-46bd-a09a-a6a35ac82279"
    },
    {
      "cell_type": "code",
      "execution_count": null,
      "metadata": {
        "id": "badb3131-ad4c-4f2c-a1ef-1c50d431e32d"
      },
      "outputs": [],
      "source": [
        "import numpy as np\n",
        "import sys\n",
        "import matplotlib.pyplot as plt\n",
        "import warnings\n",
        "from kats.consts import TimeSeriesData\n",
        "\n",
        "warnings.simplefilter(action='ignore')\n",
        "sys.path.append(\"../\")\n"
      ],
      "id": "badb3131-ad4c-4f2c-a1ef-1c50d431e32d"
    },
    {
      "cell_type": "code",
      "execution_count": null,
      "metadata": {
        "id": "cc64c5bd-2322-4ad6-b24a-35798fa93c9b"
      },
      "outputs": [],
      "source": [
        "df_kats = dd_melted.rename(columns={'Time':'time', 'Close':'value'})[['time', 'value']].fillna(0)\n",
        "df_kats['value'] = np.log1p(df_kats['value']) # log(1+x)"
      ],
      "id": "cc64c5bd-2322-4ad6-b24a-35798fa93c9b"
    },
    {
      "cell_type": "code",
      "execution_count": null,
      "metadata": {
        "id": "97819665-0564-4265-97e9-2d3889d5b196"
      },
      "outputs": [],
      "source": [
        "df_kats = TimeSeriesData(df_kats)"
      ],
      "id": "97819665-0564-4265-97e9-2d3889d5b196"
    },
    {
      "cell_type": "markdown",
      "metadata": {
        "id": "f43d89ee-17ee-4e82-a202-2f424e164d4c"
      },
      "source": [
        "Note: If the column holding the time values is not called time, you will want to specify the name of this column."
      ],
      "id": "f43d89ee-17ee-4e82-a202-2f424e164d4c"
    },
    {
      "cell_type": "markdown",
      "metadata": {
        "id": "a294bd8c-895e-4930-a087-acb39bb1d409"
      },
      "source": [
        "Because each of our time series models follow the sklearn model API pattern, the code for each of the next three examples is quite similar. We initialize the model with its parameters and then call the fit and predict methods. The only difference between each of these examples are the model-specific parameters. We can then use the plot method to visualize our forecast in each case.\n",
        "\n",
        "The values we choose for each of our paremeters in these examples are basically arbitrary. Later in this tutorial, we will show you how to pick the right parameters for a model in Kats using hyperparameter tuning."
      ],
      "id": "a294bd8c-895e-4930-a087-acb39bb1d409"
    },
    {
      "cell_type": "markdown",
      "metadata": {
        "id": "11826744-e510-4aee-b1b0-f91172358380"
      },
      "source": [
        "# 1.1 SARIMA"
      ],
      "id": "11826744-e510-4aee-b1b0-f91172358380"
    },
    {
      "cell_type": "code",
      "execution_count": null,
      "metadata": {
        "id": "09ed90ea-0c51-4514-9a13-0964ec7ca97e"
      },
      "outputs": [],
      "source": [
        "from kats.models.sarima import SARIMAModel, SARIMAParams\n",
        "warnings.simplefilter(action='ignore')\n",
        "\n",
        "# create SARIMA param class\n",
        "params = SARIMAParams(\n",
        "    p = 2,\n",
        "    d=1,\n",
        "    q=1,\n",
        "    trend = 'ct',\n",
        "    seasonal_order=(1,0,1,12)\n",
        "    )\n",
        "\n",
        "# initiate SARIMA model\n",
        "m = SARIMAModel(data=df_kats, params=params)\n",
        "\n"
      ],
      "id": "09ed90ea-0c51-4514-9a13-0964ec7ca97e"
    },
    {
      "cell_type": "code",
      "execution_count": null,
      "metadata": {
        "id": "f69a44b4-b699-400d-9739-a10f65189bc4"
      },
      "outputs": [],
      "source": [
        "# fit SARIMA model\n",
        "m.fit()"
      ],
      "id": "f69a44b4-b699-400d-9739-a10f65189bc4"
    },
    {
      "cell_type": "code",
      "execution_count": null,
      "metadata": {
        "id": "b8ee3d73-10c8-45d7-82d8-f4e1deadb54d",
        "outputId": "b107d3d1-d992-4bd9-a6bd-f5331afaffcc",
        "colab": {
          "base_uri": "https://localhost:8080/",
          "height": 458
        }
      },
      "outputs": [
        {
          "output_type": "execute_result",
          "data": {
            "text/plain": [
              "<AxesSubplot:xlabel='time', ylabel='y'>"
            ]
          },
          "metadata": {},
          "execution_count": 41
        },
        {
          "output_type": "display_data",
          "data": {
            "text/plain": [
              "<Figure size 720x432 with 1 Axes>"
            ],
            "image/png": "[encoded data removed]"
          },
          "metadata": {}
        }
      ],
      "source": [
        "# generate forecast values\n",
        "fcst = m.predict(steps=30)\n",
        "\n",
        "# make plot to visualize\n",
        "m.plot()"
      ],
      "id": "b8ee3d73-10c8-45d7-82d8-f4e1deadb54d"
    },
    {
      "cell_type": "markdown",
      "metadata": {
        "id": "47f419a8-07ef-4261-a39e-a09320b4d329"
      },
      "source": [
        "# 1.2 Prophet\n",
        "Note: This example requires fbprophet be installed, for example with pip install kats[prophet] or pip install kats[all]"
      ],
      "id": "47f419a8-07ef-4261-a39e-a09320b4d329"
    },
    {
      "cell_type": "code",
      "execution_count": null,
      "metadata": {
        "id": "382f90ba-4f24-4b52-9f6e-7afe129e3b53",
        "outputId": "24691aed-d3f9-41d5-c7ab-c1a894c8032f",
        "colab": {
          "base_uri": "https://localhost:8080/",
          "height": 476
        }
      },
      "outputs": [
        {
          "output_type": "stream",
          "name": "stderr",
          "text": [
            "INFO:fbprophet:Disabling daily seasonality. Run prophet with daily_seasonality=True to override this.\n"
          ]
        },
        {
          "output_type": "execute_result",
          "data": {
            "text/plain": [
              "<AxesSubplot:xlabel='time', ylabel='y'>"
            ]
          },
          "metadata": {},
          "execution_count": 42
        },
        {
          "output_type": "display_data",
          "data": {
            "text/plain": [
              "<Figure size 720x432 with 1 Axes>"
            ],
            "image/png": "[encoded data removed]"
          },
          "metadata": {}
        }
      ],
      "source": [
        "# import the param and model classes for Prophet model\n",
        "from kats.models.prophet import ProphetModel, ProphetParams\n",
        "\n",
        "# create a model param instance\n",
        "params = ProphetParams(seasonality_mode='multiplicative') # additive mode gives worse results\n",
        "\n",
        "# create a prophet model instance\n",
        "m = ProphetModel(df_kats, params)\n",
        "\n",
        "# fit model simply by calling m.fit()\n",
        "m.fit()\n",
        "\n",
        "# make prediction for next 30 month\n",
        "fcst = m.predict(steps=30)\n",
        "\n",
        "# plot to visualize\n",
        "m.plot()"
      ],
      "id": "382f90ba-4f24-4b52-9f6e-7afe129e3b53"
    },
    {
      "cell_type": "markdown",
      "metadata": {
        "id": "1cb11598-1df0-4bbf-a6ee-8419031ec0d0"
      },
      "source": [
        "# 1.3 Holt-Winters"
      ],
      "id": "1cb11598-1df0-4bbf-a6ee-8419031ec0d0"
    },
    {
      "cell_type": "code",
      "execution_count": null,
      "metadata": {
        "id": "807535b2-67b2-4c49-afd8-09ed3d401f31",
        "outputId": "8e7cca35-acfb-4820-aa83-b607ecc562fc",
        "colab": {
          "base_uri": "https://localhost:8080/",
          "height": 458
        }
      },
      "outputs": [
        {
          "output_type": "execute_result",
          "data": {
            "text/plain": [
              "<AxesSubplot:xlabel='time', ylabel='y'>"
            ]
          },
          "metadata": {},
          "execution_count": 70
        },
        {
          "output_type": "display_data",
          "data": {
            "text/plain": [
              "<Figure size 720x432 with 1 Axes>"
            ],
            "image/png": "[encoded data removed]"
          },
          "metadata": {}
        }
      ],
      "source": [
        "from kats.models.holtwinters import HoltWintersParams, HoltWintersModel\n",
        "warnings.simplefilter(action='ignore')\n",
        "\n",
        "\n",
        "params = HoltWintersParams(\n",
        "            trend=\"add\",\n",
        "            #damped=False,\n",
        "            #seasonal=\"add\",\n",
        "            seasonal_periods=12,\n",
        "        )\n",
        "m = HoltWintersModel(\n",
        "    data=df_kats,\n",
        "    params=params)\n",
        "\n",
        "m.fit()\n",
        "fcst = m.predict(steps=30, alpha = 0.1)\n",
        "m.plot()"
      ],
      "id": "807535b2-67b2-4c49-afd8-09ed3d401f31"
    },
    {
      "cell_type": "code",
      "execution_count": null,
      "metadata": {
        "id": "dca22b5f-ba69-4b93-8ecc-f6ce8194fef1",
        "outputId": "eb8fcd7a-fe76-4486-8ece-0b049ec2a4b8"
      },
      "outputs": [
        {
          "data": {
            "text/plain": [
              "DatetimeIndex(['1999-11-06', '1999-11-07', '1999-11-13', '1999-11-14',\n",
              "               '1999-11-20', '1999-11-21', '1999-11-25', '1999-11-27',\n",
              "               '1999-11-28', '1999-12-04',\n",
              "               ...\n",
              "               '2021-09-05', '2021-09-06', '2021-09-11', '2021-09-12',\n",
              "               '2021-09-18', '2021-09-19', '2021-09-25', '2021-09-26',\n",
              "               '2021-10-02', '2021-10-03'],\n",
              "              dtype='datetime64[ns]', length=2492, freq=None)"
            ]
          },
          "execution_count": 104,
          "metadata": {},
          "output_type": "execute_result"
        }
      ],
      "source": [
        "pd.date_range(start = '1999-11-01', end = '2021-10-05' ).difference(df_darts['time'])"
      ],
      "id": "dca22b5f-ba69-4b93-8ecc-f6ce8194fef1"
    },
    {
      "cell_type": "code",
      "execution_count": null,
      "metadata": {
        "id": "1da777f2-afba-434f-8aff-16cf2f72105f"
      },
      "outputs": [],
      "source": [
        "# fix python path if working locally\n",
        "#from utils import fix_pythonpath_if_working_locally\n",
        "#fix_pythonpath_if_working_locally()\n",
        "\n",
        "import pandas as pd\n",
        "import numpy as np\n",
        "import torch\n",
        "import matplotlib.pyplot as plt\n",
        "\n",
        "from darts import TimeSeries\n",
        "from darts.utils.timeseries_generation import gaussian_timeseries, linear_timeseries, sine_timeseries\n",
        "from darts.models import RNNModel, TCNModel, TransformerModel, NBEATSModel, BlockRNNModel\n",
        "from darts.metrics import mape, smape\n",
        "from darts.dataprocessing.transformers import Scaler\n",
        "from darts.utils.timeseries_generation import datetime_attribute_timeseries\n",
        "from darts.datasets import AirPassengersDataset, MonthlyMilkDataset\n",
        "\n",
        "torch.manual_seed(1); np.random.seed(1)  # for reproducibility"
      ],
      "id": "1da777f2-afba-434f-8aff-16cf2f72105f"
    },
    {
      "cell_type": "code",
      "execution_count": null,
      "metadata": {
        "id": "c5140f8c-c42a-44c3-a8f4-959460132a11",
        "outputId": "3b7519fd-2863-422a-fbd4-84c221a609e1",
        "colab": {
          "base_uri": "https://localhost:8080/"
        }
      },
      "outputs": [
        {
          "output_type": "stream",
          "name": "stdout",
          "text": [
            "--2022-11-01 14:58:30--  https://raw.githubusercontent.com/facebookresearch/Kats/main/kats/data/air_passengers.csv\n",
            "Resolving raw.githubusercontent.com (raw.githubusercontent.com)... 185.199.108.133, 185.199.109.133, 185.199.110.133, ...\n",
            "Connecting to raw.githubusercontent.com (raw.githubusercontent.com)|185.199.108.133|:443... connected.\n",
            "HTTP request sent, awaiting response... 200 OK\n",
            "Length: 2165 (2.1K) [text/plain]\n",
            "Saving to: ‘air_passengers.csv’\n",
            "\n",
            "\rair_passengers.csv    0%[                    ]       0  --.-KB/s               \rair_passengers.csv  100%[===================>]   2.11K  --.-KB/s    in 0s      \n",
            "\n",
            "2022-11-01 14:58:31 (43.9 MB/s) - ‘air_passengers.csv’ saved [2165/2165]\n",
            "\n",
            "--2022-11-01 14:58:31--  https://raw.githubusercontent.com/facebookresearch/Kats/main/kats/data/multi_ts.csv\n",
            "Resolving raw.githubusercontent.com (raw.githubusercontent.com)... 185.199.108.133, 185.199.109.133, 185.199.111.133, ...\n",
            "Connecting to raw.githubusercontent.com (raw.githubusercontent.com)|185.199.108.133|:443... connected.\n",
            "HTTP request sent, awaiting response... 200 OK\n",
            "Length: 8672 (8.5K) [text/plain]\n",
            "Saving to: ‘multi_ts.csv’\n",
            "\n",
            "multi_ts.csv        100%[===================>]   8.47K  --.-KB/s    in 0s      \n",
            "\n",
            "2022-11-01 14:58:31 (86.4 MB/s) - ‘multi_ts.csv’ saved [8672/8672]\n",
            "\n"
          ]
        }
      ],
      "source": [
        "!wget https://raw.githubusercontent.com/facebookresearch/Kats/main/kats/data/air_passengers.csv\n",
        "!wget https://raw.githubusercontent.com/facebookresearch/Kats/main/kats/data/multi_ts.csv"
      ],
      "id": "c5140f8c-c42a-44c3-a8f4-959460132a11"
    },
    {
      "cell_type": "code",
      "execution_count": null,
      "metadata": {
        "id": "083819f2-42c7-4666-9b15-cb57f2e3df3d"
      },
      "outputs": [],
      "source": [
        "air_passengers_df = pd.read_csv(\"air_passengers.csv\")"
      ],
      "id": "083819f2-42c7-4666-9b15-cb57f2e3df3d"
    },
    {
      "cell_type": "code",
      "execution_count": null,
      "metadata": {
        "id": "4eb60d54-7d56-4641-818d-e518541ed418",
        "outputId": "62756c0a-29b6-43dc-b2a5-7a2f886fff66",
        "colab": {
          "base_uri": "https://localhost:8080/",
          "height": 424
        }
      },
      "outputs": [
        {
          "output_type": "execute_result",
          "data": {
            "text/plain": [
              "             ds    y\n",
              "0    1949-01-01  112\n",
              "1    1949-02-01  118\n",
              "2    1949-03-01  132\n",
              "3    1949-04-01  129\n",
              "4    1949-05-01  121\n",
              "..          ...  ...\n",
              "139  1960-08-01  606\n",
              "140  1960-09-01  508\n",
              "141  1960-10-01  461\n",
              "142  1960-11-01  390\n",
              "143  1960-12-01  432\n",
              "\n",
              "[144 rows x 2 columns]"
            ],
            "text/html": [
              "\n",
              "  <div id=\"df-55d02f3c-dbf1-4f31-8655-91c07c19882c\">\n",
              "    <div class=\"colab-df-container\">\n",
              "      <div>\n",
              "<style scoped>\n",
              "    .dataframe tbody tr th:only-of-type {\n",
              "        vertical-align: middle;\n",
              "    }\n",
              "\n",
              "    .dataframe tbody tr th {\n",
              "        vertical-align: top;\n",
              "    }\n",
              "\n",
              "    .dataframe thead th {\n",
              "        text-align: right;\n",
              "    }\n",
              "</style>\n",
              "<table border=\"1\" class=\"dataframe\">\n",
              "  <thead>\n",
              "    <tr style=\"text-align: right;\">\n",
              "      <th></th>\n",
              "      <th>ds</th>\n",
              "      <th>y</th>\n",
              "    </tr>\n",
              "  </thead>\n",
              "  <tbody>\n",
              "    <tr>\n",
              "      <th>0</th>\n",
              "      <td>1949-01-01</td>\n",
              "      <td>112</td>\n",
              "    </tr>\n",
              "    <tr>\n",
              "      <th>1</th>\n",
              "      <td>1949-02-01</td>\n",
              "      <td>118</td>\n",
              "    </tr>\n",
              "    <tr>\n",
              "      <th>2</th>\n",
              "      <td>1949-03-01</td>\n",
              "      <td>132</td>\n",
              "    </tr>\n",
              "    <tr>\n",
              "      <th>3</th>\n",
              "      <td>1949-04-01</td>\n",
              "      <td>129</td>\n",
              "    </tr>\n",
              "    <tr>\n",
              "      <th>4</th>\n",
              "      <td>1949-05-01</td>\n",
              "      <td>121</td>\n",
              "    </tr>\n",
              "    <tr>\n",
              "      <th>...</th>\n",
              "      <td>...</td>\n",
              "      <td>...</td>\n",
              "    </tr>\n",
              "    <tr>\n",
              "      <th>139</th>\n",
              "      <td>1960-08-01</td>\n",
              "      <td>606</td>\n",
              "    </tr>\n",
              "    <tr>\n",
              "      <th>140</th>\n",
              "      <td>1960-09-01</td>\n",
              "      <td>508</td>\n",
              "    </tr>\n",
              "    <tr>\n",
              "      <th>141</th>\n",
              "      <td>1960-10-01</td>\n",
              "      <td>461</td>\n",
              "    </tr>\n",
              "    <tr>\n",
              "      <th>142</th>\n",
              "      <td>1960-11-01</td>\n",
              "      <td>390</td>\n",
              "    </tr>\n",
              "    <tr>\n",
              "      <th>143</th>\n",
              "      <td>1960-12-01</td>\n",
              "      <td>432</td>\n",
              "    </tr>\n",
              "  </tbody>\n",
              "</table>\n",
              "<p>144 rows × 2 columns</p>\n",
              "</div>\n",
              "      <button class=\"colab-df-convert\" onclick=\"convertToInteractive('df-55d02f3c-dbf1-4f31-8655-91c07c19882c')\"\n",
              "              title=\"Convert this dataframe to an interactive table.\"\n",
              "              style=\"display:none;\">\n",
              "        \n",
              "  <svg xmlns=\"http://www.w3.org/2000/svg\" height=\"24px\"viewBox=\"0 0 24 24\"\n",
              "       width=\"24px\">\n",
              "    <path d=\"M0 0h24v24H0V0z\" fill=\"none\"/>\n",
              "    <path d=\"M18.56 5.44l.94 2.06.94-2.06 2.06-.94-2.06-.94-.94-2.06-.94 2.06-2.06.94zm-11 1L8.5 8.5l.94-2.06 2.06-.94-2.06-.94L8.5 2.5l-.94 2.06-2.06.94zm10 10l.94 2.06.94-2.06 2.06-.94-2.06-.94-.94-2.06-.94 2.06-2.06.94z\"/><path d=\"M17.41 7.96l-1.37-1.37c-.4-.4-.92-.59-1.43-.59-.52 0-1.04.2-1.43.59L10.3 9.45l-7.72 7.72c-.78.78-.78 2.05 0 2.83L4 21.41c.39.39.9.59 1.41.59.51 0 1.02-.2 1.41-.59l7.78-7.78 2.81-2.81c.8-.78.8-2.07 0-2.86zM5.41 20L4 18.59l7.72-7.72 1.47 1.35L5.41 20z\"/>\n",
              "  </svg>\n",
              "      </button>\n",
              "      \n",
              "  <style>\n",
              "    .colab-df-container {\n",
              "      display:flex;\n",
              "      flex-wrap:wrap;\n",
              "      gap: 12px;\n",
              "    }\n",
              "\n",
              "    .colab-df-convert {\n",
              "      background-color: #E8F0FE;\n",
              "      border: none;\n",
              "      border-radius: 50%;\n",
              "      cursor: pointer;\n",
              "      display: none;\n",
              "      fill: #1967D2;\n",
              "      height: 32px;\n",
              "      padding: 0 0 0 0;\n",
              "      width: 32px;\n",
              "    }\n",
              "\n",
              "    .colab-df-convert:hover {\n",
              "      background-color: #E2EBFA;\n",
              "      box-shadow: 0px 1px 2px rgba(60, 64, 67, 0.3), 0px 1px 3px 1px rgba(60, 64, 67, 0.15);\n",
              "      fill: #174EA6;\n",
              "    }\n",
              "\n",
              "    [theme=dark] .colab-df-convert {\n",
              "      background-color: #3B4455;\n",
              "      fill: #D2E3FC;\n",
              "    }\n",
              "\n",
              "    [theme=dark] .colab-df-convert:hover {\n",
              "      background-color: #434B5C;\n",
              "      box-shadow: 0px 1px 3px 1px rgba(0, 0, 0, 0.15);\n",
              "      filter: drop-shadow(0px 1px 2px rgba(0, 0, 0, 0.3));\n",
              "      fill: #FFFFFF;\n",
              "    }\n",
              "  </style>\n",
              "\n",
              "      <script>\n",
              "        const buttonEl =\n",
              "          document.querySelector('#df-55d02f3c-dbf1-4f31-8655-91c07c19882c button.colab-df-convert');\n",
              "        buttonEl.style.display =\n",
              "          google.colab.kernel.accessAllowed ? 'block' : 'none';\n",
              "\n",
              "        async function convertToInteractive(key) {\n",
              "          const element = document.querySelector('#df-55d02f3c-dbf1-4f31-8655-91c07c19882c');\n",
              "          const dataTable =\n",
              "            await google.colab.kernel.invokeFunction('convertToInteractive',\n",
              "                                                     [key], {});\n",
              "          if (!dataTable) return;\n",
              "\n",
              "          const docLinkHtml = 'Like what you see? Visit the ' +\n",
              "            '<a target=\"_blank\" href=https://colab.research.google.com/notebooks/data_table.ipynb>data table notebook</a>'\n",
              "            + ' to learn more about interactive tables.';\n",
              "          element.innerHTML = '';\n",
              "          dataTable['output_type'] = 'display_data';\n",
              "          await google.colab.output.renderOutput(dataTable, element);\n",
              "          const docLink = document.createElement('div');\n",
              "          docLink.innerHTML = docLinkHtml;\n",
              "          element.appendChild(docLink);\n",
              "        }\n",
              "      </script>\n",
              "    </div>\n",
              "  </div>\n",
              "  "
            ]
          },
          "metadata": {},
          "execution_count": 46
        }
      ],
      "source": [
        "air_passengers_df"
      ],
      "id": "4eb60d54-7d56-4641-818d-e518541ed418"
    },
    {
      "cell_type": "code",
      "execution_count": null,
      "metadata": {
        "id": "fb9a733f-4c75-4cc0-83fa-2f972f066da7"
      },
      "outputs": [],
      "source": [
        "# Create a TimeSeries, specifying the time and value columns\n",
        "series = TimeSeries.from_dataframe(air_passengers_df, 'ds', 'y')"
      ],
      "id": "fb9a733f-4c75-4cc0-83fa-2f972f066da7"
    },
    {
      "cell_type": "code",
      "execution_count": null,
      "metadata": {
        "id": "2b832687-55ff-4829-920d-5c174a093eaf"
      },
      "outputs": [],
      "source": [
        "# Set aside the last 36 months as a validation series\n",
        "train, val = series[:-36], series[-36:]"
      ],
      "id": "2b832687-55ff-4829-920d-5c174a093eaf"
    },
    {
      "cell_type": "markdown",
      "metadata": {
        "id": "10a197ef-8b31-4310-baca-e2c52d922bc2"
      },
      "source": [
        "Let us it an exponential smoothing model, and make a (probabilistic) prediction over the validation series' duration:"
      ],
      "id": "10a197ef-8b31-4310-baca-e2c52d922bc2"
    },
    {
      "cell_type": "code",
      "execution_count": null,
      "metadata": {
        "id": "6a87145a-fb4f-479f-a7dc-e931d9c4b446"
      },
      "outputs": [],
      "source": [
        "from darts.models import ExponentialSmoothing\n",
        "\n",
        "model = ExponentialSmoothing()\n",
        "model.fit(train)\n",
        "prediction = model.predict(len(val), num_samples=1000)"
      ],
      "id": "6a87145a-fb4f-479f-a7dc-e931d9c4b446"
    },
    {
      "cell_type": "markdown",
      "metadata": {
        "id": "12e036b9-02c6-4c2d-8a84-9a0adb9b4b04"
      },
      "source": [
        "Plot the median, 5th and 95th percentiles:"
      ],
      "id": "12e036b9-02c6-4c2d-8a84-9a0adb9b4b04"
    },
    {
      "cell_type": "code",
      "execution_count": null,
      "metadata": {
        "id": "8eeb8ed7-70a8-4440-9fb0-82a495693ea8",
        "outputId": "7870abc6-1e11-4c6f-ba17-dcaf0e073402",
        "colab": {
          "base_uri": "https://localhost:8080/",
          "height": 305
        }
      },
      "outputs": [
        {
          "output_type": "execute_result",
          "data": {
            "text/plain": [
              "<matplotlib.legend.Legend at 0x7ff206231190>"
            ]
          },
          "metadata": {},
          "execution_count": 50
        },
        {
          "output_type": "display_data",
          "data": {
            "text/plain": [
              "<Figure size 432x288 with 1 Axes>"
            ],
            "image/png": "[encoded data removed]"
          },
          "metadata": {
            "needs_background": "light"
          }
        }
      ],
      "source": [
        "import matplotlib.pyplot as plt\n",
        "\n",
        "series.plot()\n",
        "prediction.plot(label='forecast', low_quantile=0.05, high_quantile=0.95)\n",
        "plt.legend()"
      ],
      "id": "8eeb8ed7-70a8-4440-9fb0-82a495693ea8"
    },
    {
      "cell_type": "markdown",
      "metadata": {
        "id": "3c4df72d-5c47-4917-9735-55d974f5af97"
      },
      "source": [
        "# Exercise\n",
        "Try now to fit Fast Fourier Transform, AutorARIMA, Prophet and Theta with airtraffic and Darts"
      ],
      "id": "3c4df72d-5c47-4917-9735-55d974f5af97"
    },
    {
      "cell_type": "code",
      "execution_count": null,
      "metadata": {
        "id": "eec506cd-63af-48f0-a791-9521aa69c99d"
      },
      "outputs": [],
      "source": [
        "from darts.models import (\n",
        "    FFT,\n",
        "    AutoARIMA,\n",
        "    Prophet,\n",
        "    Theta\n",
        ")"
      ],
      "id": "eec506cd-63af-48f0-a791-9521aa69c99d"
    },
    {
      "cell_type": "code",
      "execution_count": null,
      "metadata": {
        "id": "4c0f8d3e-405d-4f15-acb8-3199bd3097e1"
      },
      "outputs": [],
      "source": [],
      "id": "4c0f8d3e-405d-4f15-acb8-3199bd3097e1"
    },
    {
      "cell_type": "markdown",
      "metadata": {
        "id": "b0d2c8b1-0f9f-40f9-b22b-92152340d35f"
      },
      "source": [
        "and plot the results!"
      ],
      "id": "b0d2c8b1-0f9f-40f9-b22b-92152340d35f"
    },
    {
      "cell_type": "code",
      "execution_count": null,
      "metadata": {
        "id": "044696d1-0084-4870-9554-8b20835a0cf9"
      },
      "outputs": [],
      "source": [],
      "id": "044696d1-0084-4870-9554-8b20835a0cf9"
    },
    {
      "cell_type": "markdown",
      "metadata": {
        "id": "4bbe2379-120b-415a-a8c0-79f43847a12e"
      },
      "source": [
        "# Preprocessing\n",
        "\n",
        "Usually neural networks tend to work better on normalised/standardised data. Here we’ll use the Scaler class to normalise both of our time series between 0 and 1:"
      ],
      "id": "4bbe2379-120b-415a-a8c0-79f43847a12e"
    },
    {
      "cell_type": "code",
      "execution_count": null,
      "metadata": {
        "id": "3ea95534-6d75-45d5-bf39-25f089ddc685",
        "outputId": "b9575df1-08bc-4e11-8271-6d50d6b8b78c",
        "colab": {
          "base_uri": "https://localhost:8080/",
          "height": 288
        }
      },
      "outputs": [
        {
          "output_type": "display_data",
          "data": {
            "text/plain": [
              "<Figure size 432x288 with 1 Axes>"
            ],
            "image/png": "[encoded data removed]"
          },
          "metadata": {
            "needs_background": "light"
          }
        }
      ],
      "source": [
        "scaler_series = Scaler()\n",
        "series_scaled = scaler_series.fit_transform(series)\n",
        "\n",
        "series_scaled.plot()"
      ],
      "id": "3ea95534-6d75-45d5-bf39-25f089ddc685"
    },
    {
      "cell_type": "markdown",
      "metadata": {
        "id": "17337693-711c-4b93-9ede-3640e1cea482"
      },
      "source": [
        "# Train / Validation split\n",
        "Let’s keep the last 36 months as validation:"
      ],
      "id": "17337693-711c-4b93-9ede-3640e1cea482"
    },
    {
      "cell_type": "code",
      "execution_count": null,
      "metadata": {
        "id": "e603ad9c-1277-46e5-aa12-411fab579b9d"
      },
      "outputs": [],
      "source": [
        "train, val = series_scaled[:-36], series_scaled[-36:]"
      ],
      "id": "e603ad9c-1277-46e5-aa12-411fab579b9d"
    },
    {
      "cell_type": "markdown",
      "metadata": {
        "id": "0a7e10d4-92b4-4355-a999-6da388c5f5a3"
      },
      "source": [
        "# Example with One Series\n",
        "Let’s look at a first example. We’ll build an N-BEATS model that has a lookback window of 24 points (input_chunk_length=24) and predicts the next 12 points (output_chunk_length=12). We chose these values so it’ll make our model produce successive predictions for one year at a time, looking at the past two years."
      ],
      "id": "0a7e10d4-92b4-4355-a999-6da388c5f5a3"
    },
    {
      "cell_type": "code",
      "execution_count": null,
      "metadata": {
        "id": "a74e79ba-5470-4cdd-8bb2-9b401304c481"
      },
      "outputs": [],
      "source": [
        "model_air = NBEATSModel(input_chunk_length=24, output_chunk_length=12, n_epochs=200, random_state=0)"
      ],
      "id": "a74e79ba-5470-4cdd-8bb2-9b401304c481"
    },
    {
      "cell_type": "markdown",
      "metadata": {
        "id": "4dcb4666-ce30-4695-bac2-2fdc0b81df77"
      },
      "source": [
        "This model can be used like any other Darts forecasting model, beeing fit on a single time series:"
      ],
      "id": "4dcb4666-ce30-4695-bac2-2fdc0b81df77"
    },
    {
      "cell_type": "code",
      "execution_count": null,
      "metadata": {
        "id": "3902dd6e-05d9-4467-ae20-42a078d3c013",
        "outputId": "2df27c8c-d7aa-42b1-aa40-251e79adb18e",
        "colab": {
          "base_uri": "https://localhost:8080/",
          "height": 361,
          "referenced_widgets": [
            "ef6f32eb49564417bc4ccc3a83b8b519",
            "9fcf53fae3f447f0808bc30f609d924d",
            "51b3d484c42c4477b96c48fef910303f",
            "1d0c8a7ddd5a4da3be1321d58715f9c7",
            "d2ac65f4a19b4bd68d80808c0a58e937",
            "9f0d6a45209c46758bb4bdc07475949f",
            "f16d9684f45d4a909e4656ef923286ab",
            "2289b088411b40ffb737bfb7a957463b",
            "f8bbbbc13dd64a33bbef3f7d3538c45d",
            "af0ddc26ec9943009435c9602f88ef43",
            "ff10e5ae74bc4e88859d76fa630723e6"
          ]
        }
      },
      "outputs": [
        {
          "output_type": "stream",
          "name": "stderr",
          "text": [
            "INFO:pytorch_lightning.utilities.rank_zero:GPU available: False, used: False\n",
            "INFO:pytorch_lightning.utilities.rank_zero:TPU available: False, using: 0 TPU cores\n",
            "INFO:pytorch_lightning.utilities.rank_zero:IPU available: False, using: 0 IPUs\n",
            "INFO:pytorch_lightning.utilities.rank_zero:HPU available: False, using: 0 HPUs\n",
            "INFO:pytorch_lightning.callbacks.model_summary:\n",
            "  | Name          | Type             | Params\n",
            "---------------------------------------------------\n",
            "0 | criterion     | MSELoss          | 0     \n",
            "1 | train_metrics | MetricCollection | 0     \n",
            "2 | val_metrics   | MetricCollection | 0     \n",
            "3 | stacks        | ModuleList       | 6.2 M \n",
            "---------------------------------------------------\n",
            "6.2 M     Trainable params\n",
            "1.4 K     Non-trainable params\n",
            "6.2 M     Total params\n",
            "49.575    Total estimated model params size (MB)\n"
          ]
        },
        {
          "output_type": "display_data",
          "data": {
            "text/plain": [
              "Training: 0it [00:00, ?it/s]"
            ],
            "application/vnd.jupyter.widget-view+json": {
              "version_major": 2,
              "version_minor": 0,
              "model_id": "ef6f32eb49564417bc4ccc3a83b8b519"
            }
          },
          "metadata": {}
        },
        {
          "output_type": "stream",
          "name": "stderr",
          "text": [
            "INFO:pytorch_lightning.utilities.rank_zero:`Trainer.fit` stopped: `max_epochs=200` reached.\n"
          ]
        },
        {
          "output_type": "execute_result",
          "data": {
            "text/plain": [
              "<darts.models.forecasting.nbeats.NBEATSModel at 0x7ff1ff910b50>"
            ]
          },
          "metadata": {},
          "execution_count": 54
        }
      ],
      "source": [
        "model_air.fit(train, verbose=True)"
      ],
      "id": "3902dd6e-05d9-4467-ae20-42a078d3c013"
    },
    {
      "cell_type": "markdown",
      "metadata": {
        "id": "e45f3252-468c-4d66-990e-caeff992f775"
      },
      "source": [
        "And like any other Darts forecasting models, we can then get a forecast by calling predict(). Note that below, we are calling predict() with a horizon of 36, which is longer than the model internal output_chunk_length of 12. That’s not a problem here - as explained above, in such a case the internal model will simply be called auto-regressively on its own outputs. In this case, it will be called three times so that the three 12-points outputs make up the final 36-points forecast - but all of this is done transparently behind the scenes."
      ],
      "id": "e45f3252-468c-4d66-990e-caeff992f775"
    },
    {
      "cell_type": "code",
      "execution_count": null,
      "metadata": {
        "id": "eb8e56c4-8830-4e1d-9c1d-8d6e1348cc24",
        "outputId": "a364b867-cd88-4a27-d33b-c20e2edb649a",
        "colab": {
          "base_uri": "https://localhost:8080/",
          "height": 337,
          "referenced_widgets": [
            "3ac5987252f742c4a0ac3b5d0a189024",
            "b9837b455db349d38c3648e2badc675a",
            "a0367f2c329c46c0b7ac28d525d58846",
            "9d40c910da7245e280c9154fb193fca4",
            "0e8d54cdd314440ea449ca9c099faa03",
            "ac42a51f787c434ebd42c728165f915a",
            "174c695a8b6e4a86b12e7a237a181a2e",
            "96307b9ac68645f881241fc8902e897a",
            "411ce501f79046aab24303ddf2374a97",
            "a7f09779684148aa91e0942531dc17d9",
            "6eb6a5d648034257aace49d9da1b2b88"
          ]
        }
      },
      "outputs": [
        {
          "output_type": "display_data",
          "data": {
            "text/plain": [
              "Predicting: 3it [00:00, ?it/s]"
            ],
            "application/vnd.jupyter.widget-view+json": {
              "version_major": 2,
              "version_minor": 0,
              "model_id": "3ac5987252f742c4a0ac3b5d0a189024"
            }
          },
          "metadata": {}
        },
        {
          "output_type": "stream",
          "name": "stdout",
          "text": [
            "MAPE = 8.02%\n"
          ]
        },
        {
          "output_type": "display_data",
          "data": {
            "text/plain": [
              "<Figure size 432x288 with 1 Axes>"
            ],
            "image/png": "[encoded data removed]"
          },
          "metadata": {
            "needs_background": "light"
          }
        }
      ],
      "source": [
        "pred = model_air.predict(n=36)\n",
        "\n",
        "series_scaled.plot(label='actual')\n",
        "pred.plot(label='forecast')\n",
        "plt.legend();\n",
        "print('MAPE = {:.2f}%'.format(mape(series_scaled, pred)))"
      ],
      "id": "eb8e56c4-8830-4e1d-9c1d-8d6e1348cc24"
    },
    {
      "cell_type": "markdown",
      "metadata": {
        "id": "c9678cb7-9588-4ae0-b823-8ca35d459df1"
      },
      "source": [
        "# Exercise\n",
        "Try now Nbeats with other parameters!"
      ],
      "id": "c9678cb7-9588-4ae0-b823-8ca35d459df1"
    },
    {
      "cell_type": "code",
      "execution_count": null,
      "metadata": {
        "id": "99360104-2537-4508-b9e5-82425132cb6a",
        "colab": {
          "base_uri": "https://localhost:8080/",
          "height": 175
        },
        "outputId": "90f7cd5a-2f41-4a9d-b8d8-6aad604c5d73"
      },
      "outputs": [
        {
          "output_type": "stream",
          "name": "stdout",
          "text": [
            "\u001b[31mERROR: pip's dependency resolver does not currently take into account all the packages that are installed. This behaviour is the source of the following dependency conflicts.\n",
            "google-api-core 1.31.6 requires protobuf<4.0.0dev,>=3.12.0; python_version > \"3\", but you have protobuf 3.11.2 which is incompatible.\u001b[0m\n",
            "Successfully installed comet-ml-3.31.16 configobj-5.0.6 dulwich-0.20.50 everett-3.1.0 requests-toolbelt-0.10.1 semantic-version-2.10.0 sentry-sdk-1.9.0 urllib3-1.25.11 websocket-client-1.3.3 wurlitzer-3.0.2\n"
          ]
        },
        {
          "output_type": "display_data",
          "data": {
            "application/vnd.colab-display-data+json": {
              "pip_warning": {
                "packages": [
                  "urllib3"
                ]
              }
            }
          },
          "metadata": {}
        }
      ],
      "source": [
        "!pip install comet_ml"
      ],
      "id": "99360104-2537-4508-b9e5-82425132cb6a"
    },
    {
      "cell_type": "code",
      "source": [
        "# Import comet_ml at the top of your file\n",
        "from comet_ml import Experiment\n",
        "\n",
        "# Create an experiment with your api key\n",
        "experiment = Experiment(\n",
        "    api_key=\"eTfGsxdNWCvov8CuHEC0ug9ko\",\n",
        "    project_name=\"seminar\",\n",
        "    workspace=\"vladislavzh\",\n",
        ")\n",
        "\n",
        "# Report multiple hyperparameters using a dictionary:\n",
        "hyper_params = {\n",
        "    \"learning_rate\": 0.5,\n",
        "    \"steps\": 100000,\n",
        "    \"batch_size\": 50,\n",
        "}\n",
        "experiment.log_parameters(hyper_params)\n",
        "\n",
        "# Or report single hyperparameters:\n",
        "hidden_layer_size = 50\n",
        "experiment.log_parameter(\"hidden_layer_size\", hidden_layer_size)\n",
        "\n",
        "# Long any time-series metrics:\n",
        "for i in range(15):\n",
        "    train_accuracy = 3.14/(i+1)\n",
        "    experiment.log_metric(\"accuracy\", train_accuracy, step=i)\n",
        "\n",
        "\n",
        "# Run your code and go to /"
      ],
      "metadata": {
        "colab": {
          "base_uri": "https://localhost:8080/"
        },
        "id": "fbWrv-cbw7ER",
        "outputId": "aee53d45-1343-4403-afe2-3e99a7fdd7e3"
      },
      "id": "fbWrv-cbw7ER",
      "execution_count": null,
      "outputs": [
        {
          "output_type": "stream",
          "name": "stderr",
          "text": [
            "COMET WARNING: Comet has disabled auto-logging functionality as it has been imported after the following ML modules: fbprophet, sklearn, prophet, xgboost, torch, lightgbm, tensorboard. Metrics and hyperparameters can still be logged using comet_ml.log_metrics() and comet_ml.log_parameters()\n",
            "COMET WARNING: As you are running in a Jupyter environment, you will need to call `experiment.end()` when finished to ensure all metrics and code are logged before exiting.\n",
            "COMET ERROR: Failed to calculate active processors count. Fall back to default CPU count 1\n",
            "COMET INFO: Couldn't find a Git repository in '/content' nor in any parent directory. You can override where Comet is looking for a Git Patch by setting the configuration `COMET_GIT_DIRECTORY`\n",
            "COMET INFO: Experiment is live on comet.com https://www.comet.com/vladislavzh/seminar/69de7065dc74475b8cb05c009c9956fc\n",
            "\n"
          ]
        }
      ]
    },
    {
      "cell_type": "code",
      "source": [],
      "metadata": {
        "id": "H_YkMHnxxCeU"
      },
      "id": "H_YkMHnxxCeU",
      "execution_count": null,
      "outputs": []
    }
  ],
  "metadata": {
    "colab": {
      "provenance": []
    },
    "kernelspec": {
      "display_name": "Python 3 (ipykernel)",
      "language": "python",
      "name": "python3"
    },
    "language_info": {
      "codemirror_mode": {
        "name": "ipython",
        "version": 3
      },
      "file_extension": ".py",
      "mimetype": "text/x-python",
      "name": "python",
      "nbconvert_exporter": "python",
      "pygments_lexer": "ipython3",
      "version": "3.9.12"
    },
    "widgets": {
      "application/vnd.jupyter.widget-state+json": {
        "3ac5987252f742c4a0ac3b5d0a189024": {
          "model_module": "@jupyter-widgets/controls",
          "model_name": "HBoxModel",
          "model_module_version": "1.5.0",
          "state": {
            "_dom_classes": [],
            "_model_module": "@jupyter-widgets/controls",
            "_model_module_version": "1.5.0",
            "_model_name": "HBoxModel",
            "_view_count": null,
            "_view_module": "@jupyter-widgets/controls",
            "_view_module_version": "1.5.0",
            "_view_name": "HBoxView",
            "box_style": "",
            "children": [
              "IPY_MODEL_b9837b455db349d38c3648e2badc675a",
              "IPY_MODEL_a0367f2c329c46c0b7ac28d525d58846",
              "IPY_MODEL_9d40c910da7245e280c9154fb193fca4"
            ],
            "layout": "IPY_MODEL_0e8d54cdd314440ea449ca9c099faa03"
          }
        },
        "b9837b455db349d38c3648e2badc675a": {
          "model_module": "@jupyter-widgets/controls",
          "model_name": "HTMLModel",
          "model_module_version": "1.5.0",
          "state": {
            "_dom_classes": [],
            "_model_module": "@jupyter-widgets/controls",
            "_model_module_version": "1.5.0",
            "_model_name": "HTMLModel",
            "_view_count": null,
            "_view_module": "@jupyter-widgets/controls",
            "_view_module_version": "1.5.0",
            "_view_name": "HTMLView",
            "description": "",
            "description_tooltip": null,
            "layout": "IPY_MODEL_ac42a51f787c434ebd42c728165f915a",
            "placeholder": "​",
            "style": "IPY_MODEL_174c695a8b6e4a86b12e7a237a181a2e",
            "value": "Predicting DataLoader 0: 100%"
          }
        },
        "a0367f2c329c46c0b7ac28d525d58846": {
          "model_module": "@jupyter-widgets/controls",
          "model_name": "FloatProgressModel",
          "model_module_version": "1.5.0",
          "state": {
            "_dom_classes": [],
            "_model_module": "@jupyter-widgets/controls",
            "_model_module_version": "1.5.0",
            "_model_name": "FloatProgressModel",
            "_view_count": null,
            "_view_module": "@jupyter-widgets/controls",
            "_view_module_version": "1.5.0",
            "_view_name": "ProgressView",
            "bar_style": "success",
            "description": "",
            "description_tooltip": null,
            "layout": "IPY_MODEL_96307b9ac68645f881241fc8902e897a",
            "max": 1,
            "min": 0,
            "orientation": "horizontal",
            "style": "IPY_MODEL_411ce501f79046aab24303ddf2374a97",
            "value": 1
          }
        },
        "9d40c910da7245e280c9154fb193fca4": {
          "model_module": "@jupyter-widgets/controls",
          "model_name": "HTMLModel",
          "model_module_version": "1.5.0",
          "state": {
            "_dom_classes": [],
            "_model_module": "@jupyter-widgets/controls",
            "_model_module_version": "1.5.0",
            "_model_name": "HTMLModel",
            "_view_count": null,
            "_view_module": "@jupyter-widgets/controls",
            "_view_module_version": "1.5.0",
            "_view_name": "HTMLView",
            "description": "",
            "description_tooltip": null,
            "layout": "IPY_MODEL_a7f09779684148aa91e0942531dc17d9",
            "placeholder": "​",
            "style": "IPY_MODEL_6eb6a5d648034257aace49d9da1b2b88",
            "value": " 1/1 [00:00&lt;00:00,  9.12it/s]"
          }
        },
        "0e8d54cdd314440ea449ca9c099faa03": {
          "model_module": "@jupyter-widgets/base",
          "model_name": "LayoutModel",
          "model_module_version": "1.2.0",
          "state": {
            "_model_module": "@jupyter-widgets/base",
            "_model_module_version": "1.2.0",
            "_model_name": "LayoutModel",
            "_view_count": null,
            "_view_module": "@jupyter-widgets/base",
            "_view_module_version": "1.2.0",
            "_view_name": "LayoutView",
            "align_content": null,
            "align_items": null,
            "align_self": null,
            "border": null,
            "bottom": null,
            "display": "inline-flex",
            "flex": null,
            "flex_flow": "row wrap",
            "grid_area": null,
            "grid_auto_columns": null,
            "grid_auto_flow": null,
            "grid_auto_rows": null,
            "grid_column": null,
            "grid_gap": null,
            "grid_row": null,
            "grid_template_areas": null,
            "grid_template_columns": null,
            "grid_template_rows": null,
            "height": null,
            "justify_content": null,
            "justify_items": null,
            "left": null,
            "margin": null,
            "max_height": null,
            "max_width": null,
            "min_height": null,
            "min_width": null,
            "object_fit": null,
            "object_position": null,
            "order": null,
            "overflow": null,
            "overflow_x": null,
            "overflow_y": null,
            "padding": null,
            "right": null,
            "top": null,
            "visibility": null,
            "width": "100%"
          }
        },
        "ac42a51f787c434ebd42c728165f915a": {
          "model_module": "@jupyter-widgets/base",
          "model_name": "LayoutModel",
          "model_module_version": "1.2.0",
          "state": {
            "_model_module": "@jupyter-widgets/base",
            "_model_module_version": "1.2.0",
            "_model_name": "LayoutModel",
            "_view_count": null,
            "_view_module": "@jupyter-widgets/base",
            "_view_module_version": "1.2.0",
            "_view_name": "LayoutView",
            "align_content": null,
            "align_items": null,
            "align_self": null,
            "border": null,
            "bottom": null,
            "display": null,
            "flex": null,
            "flex_flow": null,
            "grid_area": null,
            "grid_auto_columns": null,
            "grid_auto_flow": null,
            "grid_auto_rows": null,
            "grid_column": null,
            "grid_gap": null,
            "grid_row": null,
            "grid_template_areas": null,
            "grid_template_columns": null,
            "grid_template_rows": null,
            "height": null,
            "justify_content": null,
            "justify_items": null,
            "left": null,
            "margin": null,
            "max_height": null,
            "max_width": null,
            "min_height": null,
            "min_width": null,
            "object_fit": null,
            "object_position": null,
            "order": null,
            "overflow": null,
            "overflow_x": null,
            "overflow_y": null,
            "padding": null,
            "right": null,
            "top": null,
            "visibility": null,
            "width": null
          }
        },
        "174c695a8b6e4a86b12e7a237a181a2e": {
          "model_module": "@jupyter-widgets/controls",
          "model_name": "DescriptionStyleModel",
          "model_module_version": "1.5.0",
          "state": {
            "_model_module": "@jupyter-widgets/controls",
            "_model_module_version": "1.5.0",
            "_model_name": "DescriptionStyleModel",
            "_view_count": null,
            "_view_module": "@jupyter-widgets/base",
            "_view_module_version": "1.2.0",
            "_view_name": "StyleView",
            "description_width": ""
          }
        },
        "96307b9ac68645f881241fc8902e897a": {
          "model_module": "@jupyter-widgets/base",
          "model_name": "LayoutModel",
          "model_module_version": "1.2.0",
          "state": {
            "_model_module": "@jupyter-widgets/base",
            "_model_module_version": "1.2.0",
            "_model_name": "LayoutModel",
            "_view_count": null,
            "_view_module": "@jupyter-widgets/base",
            "_view_module_version": "1.2.0",
            "_view_name": "LayoutView",
            "align_content": null,
            "align_items": null,
            "align_self": null,
            "border": null,
            "bottom": null,
            "display": null,
            "flex": "2",
            "flex_flow": null,
            "grid_area": null,
            "grid_auto_columns": null,
            "grid_auto_flow": null,
            "grid_auto_rows": null,
            "grid_column": null,
            "grid_gap": null,
            "grid_row": null,
            "grid_template_areas": null,
            "grid_template_columns": null,
            "grid_template_rows": null,
            "height": null,
            "justify_content": null,
            "justify_items": null,
            "left": null,
            "margin": null,
            "max_height": null,
            "max_width": null,
            "min_height": null,
            "min_width": null,
            "object_fit": null,
            "object_position": null,
            "order": null,
            "overflow": null,
            "overflow_x": null,
            "overflow_y": null,
            "padding": null,
            "right": null,
            "top": null,
            "visibility": null,
            "width": null
          }
        },
        "411ce501f79046aab24303ddf2374a97": {
          "model_module": "@jupyter-widgets/controls",
          "model_name": "ProgressStyleModel",
          "model_module_version": "1.5.0",
          "state": {
            "_model_module": "@jupyter-widgets/controls",
            "_model_module_version": "1.5.0",
            "_model_name": "ProgressStyleModel",
            "_view_count": null,
            "_view_module": "@jupyter-widgets/base",
            "_view_module_version": "1.2.0",
            "_view_name": "StyleView",
            "bar_color": null,
            "description_width": ""
          }
        },
        "a7f09779684148aa91e0942531dc17d9": {
          "model_module": "@jupyter-widgets/base",
          "model_name": "LayoutModel",
          "model_module_version": "1.2.0",
          "state": {
            "_model_module": "@jupyter-widgets/base",
            "_model_module_version": "1.2.0",
            "_model_name": "LayoutModel",
            "_view_count": null,
            "_view_module": "@jupyter-widgets/base",
            "_view_module_version": "1.2.0",
            "_view_name": "LayoutView",
            "align_content": null,
            "align_items": null,
            "align_self": null,
            "border": null,
            "bottom": null,
            "display": null,
            "flex": null,
            "flex_flow": null,
            "grid_area": null,
            "grid_auto_columns": null,
            "grid_auto_flow": null,
            "grid_auto_rows": null,
            "grid_column": null,
            "grid_gap": null,
            "grid_row": null,
            "grid_template_areas": null,
            "grid_template_columns": null,
            "grid_template_rows": null,
            "height": null,
            "justify_content": null,
            "justify_items": null,
            "left": null,
            "margin": null,
            "max_height": null,
            "max_width": null,
            "min_height": null,
            "min_width": null,
            "object_fit": null,
            "object_position": null,
            "order": null,
            "overflow": null,
            "overflow_x": null,
            "overflow_y": null,
            "padding": null,
            "right": null,
            "top": null,
            "visibility": null,
            "width": null
          }
        },
        "6eb6a5d648034257aace49d9da1b2b88": {
          "model_module": "@jupyter-widgets/controls",
          "model_name": "DescriptionStyleModel",
          "model_module_version": "1.5.0",
          "state": {
            "_model_module": "@jupyter-widgets/controls",
            "_model_module_version": "1.5.0",
            "_model_name": "DescriptionStyleModel",
            "_view_count": null,
            "_view_module": "@jupyter-widgets/base",
            "_view_module_version": "1.2.0",
            "_view_name": "StyleView",
            "description_width": ""
          }
        },
        "ef6f32eb49564417bc4ccc3a83b8b519": {
          "model_module": "@jupyter-widgets/controls",
          "model_name": "HBoxModel",
          "model_module_version": "1.5.0",
          "state": {
            "_dom_classes": [],
            "_model_module": "@jupyter-widgets/controls",
            "_model_module_version": "1.5.0",
            "_model_name": "HBoxModel",
            "_view_count": null,
            "_view_module": "@jupyter-widgets/controls",
            "_view_module_version": "1.5.0",
            "_view_name": "HBoxView",
            "box_style": "",
            "children": [
              "IPY_MODEL_9fcf53fae3f447f0808bc30f609d924d",
              "IPY_MODEL_51b3d484c42c4477b96c48fef910303f",
              "IPY_MODEL_1d0c8a7ddd5a4da3be1321d58715f9c7"
            ],
            "layout": "IPY_MODEL_d2ac65f4a19b4bd68d80808c0a58e937"
          }
        },
        "9fcf53fae3f447f0808bc30f609d924d": {
          "model_module": "@jupyter-widgets/controls",
          "model_name": "HTMLModel",
          "model_module_version": "1.5.0",
          "state": {
            "_dom_classes": [],
            "_model_module": "@jupyter-widgets/controls",
            "_model_module_version": "1.5.0",
            "_model_name": "HTMLModel",
            "_view_count": null,
            "_view_module": "@jupyter-widgets/controls",
            "_view_module_version": "1.5.0",
            "_view_name": "HTMLView",
            "description": "",
            "description_tooltip": null,
            "layout": "IPY_MODEL_9f0d6a45209c46758bb4bdc07475949f",
            "placeholder": "​",
            "style": "IPY_MODEL_f16d9684f45d4a909e4656ef923286ab",
            "value": "Epoch 199: 100%"
          }
        },
        "51b3d484c42c4477b96c48fef910303f": {
          "model_module": "@jupyter-widgets/controls",
          "model_name": "FloatProgressModel",
          "model_module_version": "1.5.0",
          "state": {
            "_dom_classes": [],
            "_model_module": "@jupyter-widgets/controls",
            "_model_module_version": "1.5.0",
            "_model_name": "FloatProgressModel",
            "_view_count": null,
            "_view_module": "@jupyter-widgets/controls",
            "_view_module_version": "1.5.0",
            "_view_name": "ProgressView",
            "bar_style": "success",
            "description": "",
            "description_tooltip": null,
            "layout": "IPY_MODEL_2289b088411b40ffb737bfb7a957463b",
            "max": 3,
            "min": 0,
            "orientation": "horizontal",
            "style": "IPY_MODEL_f8bbbbc13dd64a33bbef3f7d3538c45d",
            "value": 3
          }
        },
        "1d0c8a7ddd5a4da3be1321d58715f9c7": {
          "model_module": "@jupyter-widgets/controls",
          "model_name": "HTMLModel",
          "model_module_version": "1.5.0",
          "state": {
            "_dom_classes": [],
            "_model_module": "@jupyter-widgets/controls",
            "_model_module_version": "1.5.0",
            "_model_name": "HTMLModel",
            "_view_count": null,
            "_view_module": "@jupyter-widgets/controls",
            "_view_module_version": "1.5.0",
            "_view_name": "HTMLView",
            "description": "",
            "description_tooltip": null,
            "layout": "IPY_MODEL_af0ddc26ec9943009435c9602f88ef43",
            "placeholder": "​",
            "style": "IPY_MODEL_ff10e5ae74bc4e88859d76fa630723e6",
            "value": " 3/3 [00:00&lt;00:00,  4.33it/s, loss=0.000177, train_loss=0.000225]"
          }
        },
        "d2ac65f4a19b4bd68d80808c0a58e937": {
          "model_module": "@jupyter-widgets/base",
          "model_name": "LayoutModel",
          "model_module_version": "1.2.0",
          "state": {
            "_model_module": "@jupyter-widgets/base",
            "_model_module_version": "1.2.0",
            "_model_name": "LayoutModel",
            "_view_count": null,
            "_view_module": "@jupyter-widgets/base",
            "_view_module_version": "1.2.0",
            "_view_name": "LayoutView",
            "align_content": null,
            "align_items": null,
            "align_self": null,
            "border": null,
            "bottom": null,
            "display": "inline-flex",
            "flex": null,
            "flex_flow": "row wrap",
            "grid_area": null,
            "grid_auto_columns": null,
            "grid_auto_flow": null,
            "grid_auto_rows": null,
            "grid_column": null,
            "grid_gap": null,
            "grid_row": null,
            "grid_template_areas": null,
            "grid_template_columns": null,
            "grid_template_rows": null,
            "height": null,
            "justify_content": null,
            "justify_items": null,
            "left": null,
            "margin": null,
            "max_height": null,
            "max_width": null,
            "min_height": null,
            "min_width": null,
            "object_fit": null,
            "object_position": null,
            "order": null,
            "overflow": null,
            "overflow_x": null,
            "overflow_y": null,
            "padding": null,
            "right": null,
            "top": null,
            "visibility": null,
            "width": "100%"
          }
        },
        "9f0d6a45209c46758bb4bdc07475949f": {
          "model_module": "@jupyter-widgets/base",
          "model_name": "LayoutModel",
          "model_module_version": "1.2.0",
          "state": {
            "_model_module": "@jupyter-widgets/base",
            "_model_module_version": "1.2.0",
            "_model_name": "LayoutModel",
            "_view_count": null,
            "_view_module": "@jupyter-widgets/base",
            "_view_module_version": "1.2.0",
            "_view_name": "LayoutView",
            "align_content": null,
            "align_items": null,
            "align_self": null,
            "border": null,
            "bottom": null,
            "display": null,
            "flex": null,
            "flex_flow": null,
            "grid_area": null,
            "grid_auto_columns": null,
            "grid_auto_flow": null,
            "grid_auto_rows": null,
            "grid_column": null,
            "grid_gap": null,
            "grid_row": null,
            "grid_template_areas": null,
            "grid_template_columns": null,
            "grid_template_rows": null,
            "height": null,
            "justify_content": null,
            "justify_items": null,
            "left": null,
            "margin": null,
            "max_height": null,
            "max_width": null,
            "min_height": null,
            "min_width": null,
            "object_fit": null,
            "object_position": null,
            "order": null,
            "overflow": null,
            "overflow_x": null,
            "overflow_y": null,
            "padding": null,
            "right": null,
            "top": null,
            "visibility": null,
            "width": null
          }
        },
        "f16d9684f45d4a909e4656ef923286ab": {
          "model_module": "@jupyter-widgets/controls",
          "model_name": "DescriptionStyleModel",
          "model_module_version": "1.5.0",
          "state": {
            "_model_module": "@jupyter-widgets/controls",
            "_model_module_version": "1.5.0",
            "_model_name": "DescriptionStyleModel",
            "_view_count": null,
            "_view_module": "@jupyter-widgets/base",
            "_view_module_version": "1.2.0",
            "_view_name": "StyleView",
            "description_width": ""
          }
        },
        "2289b088411b40ffb737bfb7a957463b": {
          "model_module": "@jupyter-widgets/base",
          "model_name": "LayoutModel",
          "model_module_version": "1.2.0",
          "state": {
            "_model_module": "@jupyter-widgets/base",
            "_model_module_version": "1.2.0",
            "_model_name": "LayoutModel",
            "_view_count": null,
            "_view_module": "@jupyter-widgets/base",
            "_view_module_version": "1.2.0",
            "_view_name": "LayoutView",
            "align_content": null,
            "align_items": null,
            "align_self": null,
            "border": null,
            "bottom": null,
            "display": null,
            "flex": "2",
            "flex_flow": null,
            "grid_area": null,
            "grid_auto_columns": null,
            "grid_auto_flow": null,
            "grid_auto_rows": null,
            "grid_column": null,
            "grid_gap": null,
            "grid_row": null,
            "grid_template_areas": null,
            "grid_template_columns": null,
            "grid_template_rows": null,
            "height": null,
            "justify_content": null,
            "justify_items": null,
            "left": null,
            "margin": null,
            "max_height": null,
            "max_width": null,
            "min_height": null,
            "min_width": null,
            "object_fit": null,
            "object_position": null,
            "order": null,
            "overflow": null,
            "overflow_x": null,
            "overflow_y": null,
            "padding": null,
            "right": null,
            "top": null,
            "visibility": null,
            "width": null
          }
        },
        "f8bbbbc13dd64a33bbef3f7d3538c45d": {
          "model_module": "@jupyter-widgets/controls",
          "model_name": "ProgressStyleModel",
          "model_module_version": "1.5.0",
          "state": {
            "_model_module": "@jupyter-widgets/controls",
            "_model_module_version": "1.5.0",
            "_model_name": "ProgressStyleModel",
            "_view_count": null,
            "_view_module": "@jupyter-widgets/base",
            "_view_module_version": "1.2.0",
            "_view_name": "StyleView",
            "bar_color": null,
            "description_width": ""
          }
        },
        "af0ddc26ec9943009435c9602f88ef43": {
          "model_module": "@jupyter-widgets/base",
          "model_name": "LayoutModel",
          "model_module_version": "1.2.0",
          "state": {
            "_model_module": "@jupyter-widgets/base",
            "_model_module_version": "1.2.0",
            "_model_name": "LayoutModel",
            "_view_count": null,
            "_view_module": "@jupyter-widgets/base",
            "_view_module_version": "1.2.0",
            "_view_name": "LayoutView",
            "align_content": null,
            "align_items": null,
            "align_self": null,
            "border": null,
            "bottom": null,
            "display": null,
            "flex": null,
            "flex_flow": null,
            "grid_area": null,
            "grid_auto_columns": null,
            "grid_auto_flow": null,
            "grid_auto_rows": null,
            "grid_column": null,
            "grid_gap": null,
            "grid_row": null,
            "grid_template_areas": null,
            "grid_template_columns": null,
            "grid_template_rows": null,
            "height": null,
            "justify_content": null,
            "justify_items": null,
            "left": null,
            "margin": null,
            "max_height": null,
            "max_width": null,
            "min_height": null,
            "min_width": null,
            "object_fit": null,
            "object_position": null,
            "order": null,
            "overflow": null,
            "overflow_x": null,
            "overflow_y": null,
            "padding": null,
            "right": null,
            "top": null,
            "visibility": null,
            "width": null
          }
        },
        "ff10e5ae74bc4e88859d76fa630723e6": {
          "model_module": "@jupyter-widgets/controls",
          "model_name": "DescriptionStyleModel",
          "model_module_version": "1.5.0",
          "state": {
            "_model_module": "@jupyter-widgets/controls",
            "_model_module_version": "1.5.0",
            "_model_name": "DescriptionStyleModel",
            "_view_count": null,
            "_view_module": "@jupyter-widgets/base",
            "_view_module_version": "1.2.0",
            "_view_name": "StyleView",
            "description_width": ""
          }
        }
      }
    }
  },
  "nbformat": 4,
  "nbformat_minor": 5
}